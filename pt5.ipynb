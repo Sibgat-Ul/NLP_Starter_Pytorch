{
 "cells": [
  {
   "cell_type": "code",
   "execution_count": 27,
   "id": "initial_id",
   "metadata": {
    "collapsed": true,
    "ExecuteTime": {
     "end_time": "2023-12-15T05:03:48.330177354Z",
     "start_time": "2023-12-15T05:03:48.320648907Z"
    }
   },
   "outputs": [],
   "source": [
    "from typing import Any\n",
    "\n",
    "import numpy as np\n",
    "import math"
   ]
  },
  {
   "cell_type": "code",
   "execution_count": 28,
   "outputs": [],
   "source": [
    "pi = math.pi\n",
    "x = np.linspace(-pi, pi, 2000)\n",
    "y = np.sin(x)"
   ],
   "metadata": {
    "collapsed": false,
    "ExecuteTime": {
     "end_time": "2023-12-15T05:03:48.550443475Z",
     "start_time": "2023-12-15T05:03:48.548048888Z"
    }
   },
   "id": "1bd09bbe3affc049"
  },
  {
   "cell_type": "code",
   "execution_count": 38,
   "outputs": [
    {
     "name": "stdout",
     "output_type": "stream",
     "text": [
      "-1.7300274064054102 -0.158000279909744 -0.21265498214611483 -0.17514174072678115\n"
     ]
    }
   ],
   "source": [
    "a = np.random.randn()\n",
    "b = np.random.randn()\n",
    "c = np.random.randn()\n",
    "d = np.random.randn()\n",
    "\n",
    "print(a, b, c, d)"
   ],
   "metadata": {
    "collapsed": false,
    "ExecuteTime": {
     "end_time": "2023-12-15T05:04:37.935191860Z",
     "start_time": "2023-12-15T05:04:37.923417505Z"
    }
   },
   "id": "750ee90ac5cdb562"
  },
  {
   "cell_type": "code",
   "execution_count": 47,
   "outputs": [
    {
     "name": "stdout",
     "output_type": "stream",
     "text": [
      "99 8.817165410007027\n",
      "199 8.817165410007027\n",
      "299 8.817165410007025\n",
      "399 8.817165410007025\n",
      "499 8.817165410007025\n",
      "599 8.817165410007025\n",
      "699 8.817165410007025\n",
      "799 8.817165410007027\n",
      "899 8.817165410007025\n",
      "999 8.817165410007025\n",
      "1099 8.817165410007027\n",
      "1199 8.817165410007025\n",
      "1299 8.817165410007027\n",
      "1399 8.817165410007027\n",
      "1499 8.817165410007025\n",
      "1599 8.817165410007027\n",
      "1699 8.817165410007025\n",
      "1799 8.817165410007025\n",
      "1899 8.817165410007025\n",
      "1999 8.817165410007025\n",
      "-0.09333038904059505 7.547293931799305e-16 0.8567408430737578 -4.374517070295505e-15\n"
     ]
    }
   ],
   "source": [
    "learning_rate = 0.000001\n",
    "for t in range(2000):\n",
    "    y_pred = (a*(x**3)) + (b*(x**2)) + (c*x) + d\n",
    "    \n",
    "    loss = np.square(y_pred - y).sum()\n",
    "    if t % 100 == 99:\n",
    "        print(t, loss)\n",
    "    \n",
    "    ### Backprop to compute gradients of a, b, c, d with respect to loss\n",
    "    grad_y_pred = 2.0*(y_pred-y)\n",
    "    grad_d = grad_y_pred.sum()\n",
    "    grad_c = (grad_y_pred * x).sum()\n",
    "    grad_b = (grad_y_pred * x ** 2).sum()\n",
    "    grad_a = (grad_y_pred * x ** 3).sum()\n",
    "    \n",
    "    a -= learning_rate*grad_a\n",
    "    b -= learning_rate*grad_b\n",
    "    c -= learning_rate*grad_c\n",
    "    d -= learning_rate*grad_d\n",
    "\n",
    "print(a, b, c, d)"
   ],
   "metadata": {
    "collapsed": false,
    "ExecuteTime": {
     "end_time": "2023-12-15T05:05:06.764590266Z",
     "start_time": "2023-12-15T05:05:06.570941039Z"
    }
   },
   "id": "bc42979119d90ace"
  },
  {
   "cell_type": "code",
   "execution_count": 48,
   "outputs": [],
   "source": [
    "import torch\n",
    "import math"
   ],
   "metadata": {
    "collapsed": false,
    "ExecuteTime": {
     "end_time": "2023-12-15T05:54:05.170640520Z",
     "start_time": "2023-12-15T05:54:03.753549012Z"
    }
   },
   "id": "280c07c772427130"
  },
  {
   "cell_type": "code",
   "execution_count": 49,
   "outputs": [],
   "source": [
    "dtype = torch.float\n",
    "device = 'cuda' if torch.cuda.is_available() else 'cpu'\n",
    "torch.set_default_device(device)"
   ],
   "metadata": {
    "collapsed": false,
    "ExecuteTime": {
     "end_time": "2023-12-15T05:54:35.759727901Z",
     "start_time": "2023-12-15T05:54:35.718615544Z"
    }
   },
   "id": "7bfc318b06527216"
  },
  {
   "cell_type": "code",
   "execution_count": 53,
   "outputs": [],
   "source": [
    "class LegendrePolynomial3(torch.autograd.Function):\n",
    "    @staticmethod\n",
    "    def forward(ctx, input, *args, **kwargs):\n",
    "        ctx.save_for_backward(input)\n",
    "        return 0.5*(5*input**3-3*input)\n",
    "    \n",
    "    @staticmethod\n",
    "    def backward(ctx, grad_outputs):\n",
    "        input, = ctx.saved_tensors\n",
    "        return grad_outputs * ((15/2) * input ** 2 - 3*1)"
   ],
   "metadata": {
    "collapsed": false,
    "ExecuteTime": {
     "end_time": "2023-12-15T06:11:47.204512309Z",
     "start_time": "2023-12-15T06:11:47.190871333Z"
    }
   },
   "id": "8125393433e5183a"
  },
  {
   "cell_type": "code",
   "execution_count": 54,
   "outputs": [
    {
     "name": "stdout",
     "output_type": "stream",
     "text": [
      "99 291.9667053222656\n",
      "199 218.27239990234375\n",
      "299 162.18350219726562\n",
      "399 119.98851776123047\n",
      "499 88.59320068359375\n",
      "599 65.48358154296875\n",
      "699 48.65519332885742\n",
      "799 36.534183502197266\n",
      "899 27.901119232177734\n",
      "999 21.821998596191406\n",
      "1099 17.5905818939209\n",
      "1199 14.67898941040039\n",
      "1299 12.69812297821045\n",
      "1399 11.365156173706055\n",
      "1499 10.477325439453125\n",
      "1599 9.891486167907715\n",
      "1699 9.508221626281738\n",
      "1799 9.259451866149902\n",
      "1899 9.099014282226562\n",
      "1999 8.996124267578125\n",
      "Result: y = -3.1605404404722037e-10 + -2.2151637077331543 * P3(4.5359185851800987e-10 + 0.25649651885032654 x)\n"
     ]
    }
   ],
   "source": [
    "dtype = torch.float\n",
    "device = torch.device(\"cpu\")\n",
    "# device = torch.device(\"cuda:0\")  # Uncomment this to run on GPU\n",
    "\n",
    "# Create Tensors to hold input and outputs.\n",
    "# By default, requires_grad=False, which indicates that we do not need to\n",
    "# compute gradients with respect to these Tensors during the backward pass.\n",
    "x = torch.linspace(-math.pi, math.pi, 2000, device=device, dtype=dtype)\n",
    "y = torch.sin(x)\n",
    "\n",
    "# Create random Tensors for weights. For this example, we need\n",
    "# 4 weights: y = a + b * P3(c + d * x), these weights need to be initialized\n",
    "# not too far from the correct result to ensure convergence.\n",
    "# Setting requires_grad=True indicates that we want to compute gradients with\n",
    "# respect to these Tensors during the backward pass.\n",
    "a = torch.full((), 0.0, device=device, dtype=dtype, requires_grad=True)\n",
    "b = torch.full((), -1.0, device=device, dtype=dtype, requires_grad=True)\n",
    "c = torch.full((), 0.0, device=device, dtype=dtype, requires_grad=True)\n",
    "d = torch.full((), 0.3, device=device, dtype=dtype, requires_grad=True)\n",
    "\n",
    "learning_rate = 5e-6\n",
    "for t in range(2000):\n",
    "    # To apply our Function, we use Function.apply method. We alias this as 'P3'.\n",
    "    P3 = LegendrePolynomial3.apply\n",
    "\n",
    "    # Forward pass: compute predicted y using operations; we compute\n",
    "    # P3 using our custom autograd operation.\n",
    "    y_pred = a + b * P3(c + d * x)\n",
    "\n",
    "    # Compute and print loss\n",
    "    loss = (y_pred - y).pow(2).sum()\n",
    "    if t % 100 == 99:\n",
    "        print(t, loss.item())\n",
    "\n",
    "    # Use autograd to compute the backward pass.\n",
    "    loss.backward()\n",
    "\n",
    "    # Update weights using gradient descent\n",
    "    with torch.no_grad():\n",
    "        a -= learning_rate * a.grad\n",
    "        b -= learning_rate * b.grad\n",
    "        c -= learning_rate * c.grad\n",
    "        d -= learning_rate * d.grad\n",
    "\n",
    "        # Manually zero the gradients after updating weights\n",
    "        a.grad = None\n",
    "        b.grad = None\n",
    "        c.grad = None\n",
    "        d.grad = None\n",
    "\n",
    "print(f'Result: y = {a.item()} + {b.item()} * P3({c.item()} + {d.item()} x)')"
   ],
   "metadata": {
    "collapsed": false,
    "ExecuteTime": {
     "end_time": "2023-12-15T06:11:48.255449882Z",
     "start_time": "2023-12-15T06:11:47.668500459Z"
    }
   },
   "id": "3c5e7ee1008d675a"
  }
 ],
 "metadata": {
  "kernelspec": {
   "display_name": "Python 3",
   "language": "python",
   "name": "python3"
  },
  "language_info": {
   "codemirror_mode": {
    "name": "ipython",
    "version": 2
   },
   "file_extension": ".py",
   "mimetype": "text/x-python",
   "name": "python",
   "nbconvert_exporter": "python",
   "pygments_lexer": "ipython2",
   "version": "2.7.6"
  }
 },
 "nbformat": 4,
 "nbformat_minor": 5
}
