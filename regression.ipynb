{
 "cells": [
  {
   "cell_type": "code",
   "execution_count": 21,
   "id": "initial_id",
   "metadata": {
    "collapsed": true,
    "ExecuteTime": {
     "end_time": "2023-12-14T15:46:41.513307714Z",
     "start_time": "2023-12-14T15:46:41.496158695Z"
    }
   },
   "outputs": [],
   "source": [
    "import pandas as pd, numpy as np, warnings, matplotlib.pyplot as plt, seaborn as sns, gc\n",
    "warnings.filterwarnings('ignore')"
   ]
  },
  {
   "cell_type": "code",
   "execution_count": 22,
   "outputs": [],
   "source": [
    "path = '../dsets/horse_health'"
   ],
   "metadata": {
    "collapsed": false,
    "ExecuteTime": {
     "end_time": "2023-12-14T15:46:41.745273605Z",
     "start_time": "2023-12-14T15:46:41.684554419Z"
    }
   },
   "id": "31498186d867f1de"
  },
  {
   "cell_type": "code",
   "execution_count": 23,
   "outputs": [
    {
     "data": {
      "text/plain": "<Axes: xlabel='outcome', ylabel='count'>"
     },
     "execution_count": 23,
     "metadata": {},
     "output_type": "execute_result"
    },
    {
     "data": {
      "text/plain": "<Figure size 640x480 with 1 Axes>",
      "image/png": "[encoded data removed]"
     },
     "metadata": {},
     "output_type": "display_data"
    }
   ],
   "source": [
    "train = pd.read_csv('./data/combined.csv')\n",
    "test = pd.read_csv(path+'/test.csv', index_col='id')\n",
    "sns.countplot(train, x='outcome')"
   ],
   "metadata": {
    "collapsed": false,
    "ExecuteTime": {
     "end_time": "2023-12-14T15:46:42.003042508Z",
     "start_time": "2023-12-14T15:46:41.850584432Z"
    }
   },
   "id": "9d7ec38fde189bd9"
  },
  {
   "cell_type": "code",
   "execution_count": 24,
   "outputs": [],
   "source": [
    "surgeryMap = {'yes':0, 'no':1}\n",
    "mapSurgery = {0:'yes', 1:'no'}\n",
    "train['surgery'] = train['surgery'].map(surgeryMap)"
   ],
   "metadata": {
    "collapsed": false,
    "ExecuteTime": {
     "end_time": "2023-12-14T15:46:42.213889162Z",
     "start_time": "2023-12-14T15:46:42.001252987Z"
    }
   },
   "id": "17acc878f9e57086"
  },
  {
   "cell_type": "code",
   "execution_count": 25,
   "outputs": [],
   "source": [
    "outcome_map = train.outcome.unique()\n",
    "outcome_map = {w:i for i,w in enumerate(outcome_map)}\n",
    "reverse_outcome_map = {outcome_map[k]:k for k in outcome_map.keys()}\n",
    "train['outcome'] = train['outcome'].map(outcome_map)"
   ],
   "metadata": {
    "collapsed": false,
    "ExecuteTime": {
     "end_time": "2023-12-14T15:46:42.392569157Z",
     "start_time": "2023-12-14T15:46:42.212833917Z"
    }
   },
   "id": "bbb179d420c4a6a4"
  },
  {
   "cell_type": "code",
   "execution_count": 26,
   "outputs": [],
   "source": [
    "def getNumCatCol(df):\n",
    "    cat_cols = []\n",
    "    num_cols = []\n",
    "    for col in df.columns:\n",
    "        if df[col].dtype in ['int64', 'float64']:\n",
    "            num_cols.append(col)\n",
    "        else:\n",
    "            cat_cols.append(col)\n",
    "    return cat_cols, num_cols"
   ],
   "metadata": {
    "collapsed": false,
    "ExecuteTime": {
     "end_time": "2023-12-14T15:46:42.495074820Z",
     "start_time": "2023-12-14T15:46:42.387759033Z"
    }
   },
   "id": "4fdfb7577d8f4505"
  },
  {
   "cell_type": "code",
   "execution_count": 27,
   "outputs": [],
   "source": [
    "cat_cols, num_cols = getNumCatCol(train)"
   ],
   "metadata": {
    "collapsed": false,
    "ExecuteTime": {
     "end_time": "2023-12-14T15:46:42.563599074Z",
     "start_time": "2023-12-14T15:46:42.452188079Z"
    }
   },
   "id": "708d45d47e8f887c"
  },
  {
   "cell_type": "code",
   "execution_count": 28,
   "outputs": [],
   "source": [
    "from sklearn.preprocessing import LabelEncoder, OneHotEncoder\n",
    "\n",
    "def preprocessing(df, le_cols, ohe_cols):\n",
    "\n",
    "    le = LabelEncoder()\n",
    "\n",
    "    for col in le_cols:\n",
    "        df[col] = le.fit_transform(df[col])\n",
    "\n",
    "    df = pd.get_dummies(df, columns = ohe_cols)\n",
    "\n",
    "    df[\"pain\"] = df[\"pain\"].replace('slight', 'moderate')\n",
    "    df[\"peristalsis\"] = df[\"peristalsis\"].replace('distend_small', 'normal')\n",
    "    df[\"rectal_exam_feces\"] = df[\"rectal_exam_feces\"].replace('serosanguious', 'absent')\n",
    "    df[\"nasogastric_reflux\"] = df[\"nasogastric_reflux\"].replace('slight', 'none')\n",
    "\n",
    "    df[\"temp_of_extremities\"] = df[\"temp_of_extremities\"].fillna(\"normal\").map({'cold': 0, 'cool': 1, 'normal': 2, 'warm': 3})\n",
    "    df[\"peripheral_pulse\"] = df[\"peripheral_pulse\"].fillna(\"normal\").map({'absent': 0, 'reduced': 1, 'normal': 2, 'increased': 3})\n",
    "    df[\"capillary_refill_time\"] = df[\"capillary_refill_time\"].fillna(\"3\").map({'less_3_sec': 0, '3': 1, 'more_3_sec': 2})\n",
    "    df[\"pain\"] = df[\"pain\"].fillna(\"depressed\").map({'alert': 0, 'depressed': 1, 'moderate': 2, 'mild_pain': 3, 'severe_pain': 4, 'extreme_pain': 5})\n",
    "    df[\"peristalsis\"] = df[\"peristalsis\"].fillna(\"hypomotile\").map({'hypermotile': 0, 'normal': 1, 'hypomotile': 2, 'absent': 3})\n",
    "    df[\"abdominal_distention\"] = df[\"abdominal_distention\"].fillna(\"none\").map({'none': 0, 'slight': 1, 'moderate': 2, 'severe': 3})\n",
    "    df[\"nasogastric_tube\"] = df[\"nasogastric_tube\"].fillna(\"none\").map({'none': 0, 'slight': 1, 'significant': 2})\n",
    "    df[\"nasogastric_reflux\"] = df[\"nasogastric_reflux\"].fillna(\"none\").map({'less_1_liter': 0, 'none': 1, 'more_1_liter': 2})\n",
    "    df[\"rectal_exam_feces\"] = df[\"rectal_exam_feces\"].fillna(\"absent\").map({'absent': 0, 'decreased': 1, 'normal': 2, 'increased': 3})\n",
    "    df[\"abdomen\"] = df[\"abdomen\"].fillna(\"distend_small\").map({'normal': 0, 'other': 1, 'firm': 2,'distend_small': 3, 'distend_large': 4})\n",
    "    df[\"abdomo_appearance\"] = df[\"abdomo_appearance\"].fillna(\"serosanguious\").map({'clear': 0, 'cloudy': 1, 'serosanguious': 2})\n",
    "\n",
    "    df.drop('lesion_3',axis=1,inplace=True)\n",
    "\n",
    "    return df\n",
    "\n",
    "def features_engineering(df):\n",
    "    df['lesion_2'] = df['lesion_2'].apply(lambda x:1 if x>0 else 0)\n",
    "    data_preprocessed = df.copy()\n",
    "\n",
    "    data_preprocessed[\"abs_rectal_temp\"] = (data_preprocessed[\"rectal_temp\"] - 37.8).abs()\n",
    "    data_preprocessed.drop(columns=[\"rectal_temp\"])\n",
    "\n",
    "    return data_preprocessed"
   ],
   "metadata": {
    "collapsed": false,
    "ExecuteTime": {
     "end_time": "2023-12-14T15:46:42.793778804Z",
     "start_time": "2023-12-14T15:46:42.716815585Z"
    }
   },
   "id": "65bf74ce29393a67"
  },
  {
   "cell_type": "code",
   "execution_count": 29,
   "outputs": [],
   "source": [
    "le_cols = [\"surgery\", \"age\", \"surgical_lesion\", \"cp_data\"]\n",
    "ohe_cols = [\"mucous_membrane\"]\n",
    "\n",
    "train = preprocessing(train, le_cols, ohe_cols)\n",
    "test = preprocessing(test, le_cols, ohe_cols)"
   ],
   "metadata": {
    "collapsed": false,
    "ExecuteTime": {
     "end_time": "2023-12-14T15:46:43.095595282Z",
     "start_time": "2023-12-14T15:46:43.032593148Z"
    }
   },
   "id": "f9b3d99d46033ffa"
  },
  {
   "cell_type": "code",
   "execution_count": 30,
   "outputs": [],
   "source": [
    "train = features_engineering(train)\n",
    "test = features_engineering(test)"
   ],
   "metadata": {
    "collapsed": false,
    "ExecuteTime": {
     "end_time": "2023-12-14T15:46:43.370055226Z",
     "start_time": "2023-12-14T15:46:43.351723874Z"
    }
   },
   "id": "40adc5ff9887174f"
  },
  {
   "cell_type": "code",
   "execution_count": 31,
   "outputs": [],
   "source": [
    "cat_cols, num_cols = getNumCatCol(train)"
   ],
   "metadata": {
    "collapsed": false,
    "ExecuteTime": {
     "end_time": "2023-12-14T15:46:43.630426005Z",
     "start_time": "2023-12-14T15:46:43.545476049Z"
    }
   },
   "id": "3e9303e9771134e4"
  },
  {
   "cell_type": "code",
   "execution_count": 32,
   "outputs": [],
   "source": [
    "from sklearn.impute import KNNImputer\n",
    "\n",
    "knn = KNNImputer(n_neighbors=12)\n",
    "\n",
    "df_train_knn = pd.DataFrame(knn.fit_transform(train[num_cols]), columns=num_cols)"
   ],
   "metadata": {
    "collapsed": false,
    "ExecuteTime": {
     "end_time": "2023-12-14T15:46:43.895467430Z",
     "start_time": "2023-12-14T15:46:43.834757844Z"
    }
   },
   "id": "b0b497fac510ddc0"
  },
  {
   "cell_type": "code",
   "execution_count": 33,
   "outputs": [],
   "source": [
    "t_num_cols = train.drop(axis='columns', columns='outcome').columns\n",
    "df_test_knn = pd.DataFrame(knn.fit_transform(test[t_num_cols]), columns=t_num_cols)"
   ],
   "metadata": {
    "collapsed": false,
    "ExecuteTime": {
     "end_time": "2023-12-14T15:46:44.560953225Z",
     "start_time": "2023-12-14T15:46:44.535518631Z"
    }
   },
   "id": "91bae6eec7a60431"
  },
  {
   "cell_type": "code",
   "execution_count": 34,
   "outputs": [],
   "source": [
    "test_2 = test.drop(t_num_cols, axis=1).reset_index()\n",
    "test_2 = pd.concat([test_2, df_test_knn], axis=1)\n",
    "test_2.drop(['id'], axis=1, inplace=True)"
   ],
   "metadata": {
    "collapsed": false,
    "ExecuteTime": {
     "end_time": "2023-12-14T15:46:44.735638722Z",
     "start_time": "2023-12-14T15:46:44.729311796Z"
    }
   },
   "id": "5e5ac426900dbd9a"
  },
  {
   "cell_type": "code",
   "execution_count": 35,
   "outputs": [],
   "source": [
    "train_2 = train.drop(num_cols, axis=1).reset_index()\n",
    "train_2 = pd.concat([train_2, df_train_knn], axis=1)\n",
    "train_2.drop(['index'], axis=1, inplace=True)"
   ],
   "metadata": {
    "collapsed": false,
    "ExecuteTime": {
     "end_time": "2023-12-14T15:46:45.089602701Z",
     "start_time": "2023-12-14T15:46:45.013167260Z"
    }
   },
   "id": "7fa975af239e68fc"
  },
  {
   "cell_type": "code",
   "execution_count": 36,
   "outputs": [],
   "source": [
    "import torch\n",
    "import torch.nn\n",
    "from torch.utils.data import DataLoader, Dataset, TensorDataset"
   ],
   "metadata": {
    "collapsed": false,
    "ExecuteTime": {
     "end_time": "2023-12-14T15:46:45.408226169Z",
     "start_time": "2023-12-14T15:46:45.400693140Z"
    }
   },
   "id": "ed08d72dc0ab131c"
  },
  {
   "cell_type": "code",
   "execution_count": 37,
   "outputs": [],
   "source": [
    "from sklearn.model_selection import KFold, StratifiedKFold, GridSearchCV, train_test_split\n",
    "\n",
    "X_t = train_2.drop('outcome', axis=1)\n",
    "y_t = train_2['outcome']"
   ],
   "metadata": {
    "collapsed": false,
    "ExecuteTime": {
     "end_time": "2023-12-14T15:46:45.668268620Z",
     "start_time": "2023-12-14T15:46:45.658393573Z"
    }
   },
   "id": "81fdf06049f605a0"
  },
  {
   "cell_type": "code",
   "execution_count": 38,
   "outputs": [],
   "source": [
    "import imblearn\n",
    "from imblearn.over_sampling import SMOTE\n",
    "from imblearn.under_sampling import RandomUnderSampler\n",
    "from imblearn.pipeline import Pipeline\n",
    "\n",
    "smot = SMOTE()\n",
    "rand_u_samp = RandomUnderSampler()\n",
    "pipe = Pipeline([('overSamp', smot), ('underSamp', rand_u_samp)])\n",
    "\n",
    "X_t, y_t = pipe.fit_resample(X_t, y_t)"
   ],
   "metadata": {
    "collapsed": false,
    "ExecuteTime": {
     "end_time": "2023-12-14T15:46:48.431231331Z",
     "start_time": "2023-12-14T15:46:48.411266488Z"
    }
   },
   "id": "9317e3c59cb76d1a"
  },
  {
   "cell_type": "code",
   "execution_count": 39,
   "outputs": [
    {
     "data": {
      "text/plain": "<Axes: xlabel='outcome', ylabel='count'>"
     },
     "execution_count": 39,
     "metadata": {},
     "output_type": "execute_result"
    },
    {
     "data": {
      "text/plain": "<Figure size 640x480 with 1 Axes>",
      "image/png": "[encoded data removed]"
     },
     "metadata": {},
     "output_type": "display_data"
    }
   ],
   "source": [
    "sns.countplot(data=pd.concat([X_t, y_t], axis=1), x='outcome')"
   ],
   "metadata": {
    "collapsed": false,
    "ExecuteTime": {
     "end_time": "2023-12-14T15:46:50.150431188Z",
     "start_time": "2023-12-14T15:46:49.978370897Z"
    }
   },
   "id": "2c244e3165c84dae"
  },
  {
   "cell_type": "code",
   "execution_count": 20,
   "outputs": [],
   "source": [
    "X_t, X_v, y_t, y_v = train_test_split(X_t, y_t, train_size=0.9)"
   ],
   "metadata": {
    "collapsed": false,
    "ExecuteTime": {
     "end_time": "2023-12-14T15:46:33.807868338Z",
     "start_time": "2023-12-14T15:46:33.777798848Z"
    }
   },
   "id": "781f5ff1e4c6e3ce"
  },
  {
   "cell_type": "code",
   "execution_count": 21,
   "outputs": [],
   "source": [
    "from xgboost import XGBClassifier, XGBRegressor\n",
    "from sklearn.tree import DecisionTreeClassifier\n",
    "from sklearn.ensemble import GradientBoostingClassifier,HistGradientBoostingClassifier,AdaBoostClassifier\n",
    "from sklearn.metrics import accuracy_score, mean_squared_error\n",
    "from sklearn.linear_model import LogisticRegression\n",
    "\n",
    "def train(model):\n",
    "    kf = KFold(n_splits=5, shuffle=True)\n",
    "    for i, (train_idx, val_idx) in enumerate(kf.split(X_t, y_t)):\n",
    "        X_train, X_val = X_t.iloc[train_idx], X_t.iloc[val_idx]\n",
    "        y_train, y_val = y_t.iloc[train_idx], y_t.iloc[val_idx]\n",
    "        \n",
    "        model.fit(X_train, y_train)\n",
    "        y_pred = model.predict(X_val)\n",
    "        \n",
    "        print('FOLD: ', i)\n",
    "        print('aucarcy score: ', accuracy_score(y_val, y_pred))\n",
    "        print('='*25)\n",
    "\n",
    "def test(test_set, model):\n",
    "    y_pred = model.predict(test_set)\n",
    "    return y_pred"
   ],
   "metadata": {
    "collapsed": false,
    "ExecuteTime": {
     "end_time": "2023-12-13T07:00:33.803340833Z",
     "start_time": "2023-12-13T07:00:33.714134882Z"
    }
   },
   "id": "ac868e44a681e73a"
  },
  {
   "cell_type": "code",
   "execution_count": 107,
   "outputs": [
    {
     "name": "stdout",
     "output_type": "stream",
     "text": [
      "FOLD:  0\n",
      "aucarcy score:  0.8571428571428571\n",
      "=========================\n",
      "FOLD:  1\n",
      "aucarcy score:  0.7881773399014779\n",
      "=========================\n",
      "FOLD:  2\n",
      "aucarcy score:  0.8078817733990148\n",
      "=========================\n",
      "FOLD:  3\n",
      "aucarcy score:  0.7807881773399015\n",
      "=========================\n",
      "FOLD:  4\n",
      "aucarcy score:  0.7980295566502463\n",
      "=========================\n",
      "0.8716814159292036\n"
     ]
    }
   ],
   "source": [
    "model1 = XGBClassifier({'learning_rate':0.01, 'objective':'multi:softmax','eval_metric': 'merror', 'tree_method':'gpu_hist', 'predictor':'gpu_predictor'}, device='gpu')\n",
    "train(model1)\n",
    "y_val_pred = test(X_v, model1)\n",
    "print(accuracy_score(y_v, y_val_pred))"
   ],
   "metadata": {
    "collapsed": false,
    "ExecuteTime": {
     "end_time": "2023-12-11T13:41:15.235329409Z",
     "start_time": "2023-12-11T13:41:11.876716568Z"
    }
   },
   "id": "cc51e73c4fe09fc8"
  },
  {
   "cell_type": "code",
   "execution_count": 108,
   "outputs": [
    {
     "name": "stdout",
     "output_type": "stream",
     "text": [
      "FOLD:  0\n",
      "aucarcy score:  0.7216748768472906\n",
      "=========================\n",
      "FOLD:  1\n",
      "aucarcy score:  0.6625615763546798\n",
      "=========================\n",
      "FOLD:  2\n",
      "aucarcy score:  0.6773399014778325\n",
      "=========================\n",
      "FOLD:  3\n",
      "aucarcy score:  0.6650246305418719\n",
      "=========================\n",
      "FOLD:  4\n",
      "aucarcy score:  0.7019704433497537\n",
      "=========================\n",
      "0.668141592920354\n"
     ]
    }
   ],
   "source": [
    "model2 = DecisionTreeClassifier()\n",
    "y_val2 = train(model2)\n",
    "#y_pred2 = test(model2)\n",
    "y_val_pred = test(X_v, model2)\n",
    "print(accuracy_score(y_v, y_val_pred))"
   ],
   "metadata": {
    "collapsed": false,
    "ExecuteTime": {
     "end_time": "2023-12-11T13:41:26.693466648Z",
     "start_time": "2023-12-11T13:41:26.604064722Z"
    }
   },
   "id": "4b9e6cdac5edeec9"
  },
  {
   "cell_type": "code",
   "execution_count": 109,
   "outputs": [
    {
     "name": "stdout",
     "output_type": "stream",
     "text": [
      "FOLD:  0\n",
      "aucarcy score:  0.7413793103448276\n",
      "=========================\n",
      "FOLD:  1\n",
      "aucarcy score:  0.7142857142857143\n",
      "=========================\n",
      "FOLD:  2\n",
      "aucarcy score:  0.6995073891625616\n",
      "=========================\n",
      "FOLD:  3\n",
      "aucarcy score:  0.7389162561576355\n",
      "=========================\n",
      "FOLD:  4\n",
      "aucarcy score:  0.7044334975369458\n",
      "=========================\n",
      "0.7433628318584071\n"
     ]
    }
   ],
   "source": [
    "model3 = AdaBoostClassifier()\n",
    "y_val3 = train(model3)\n",
    "#y_pred3 = test(model3)\n",
    "y_val_pred = test(X_v, model3)\n",
    "print(accuracy_score(y_v, y_val_pred))\n"
   ],
   "metadata": {
    "collapsed": false,
    "ExecuteTime": {
     "end_time": "2023-12-11T13:41:28.845711085Z",
     "start_time": "2023-12-11T13:41:28.206339708Z"
    }
   },
   "id": "f5f942efbe8d5a8d"
  },
  {
   "cell_type": "code",
   "execution_count": 40,
   "outputs": [
    {
     "ename": "NameError",
     "evalue": "name 'LogisticRegression' is not defined",
     "output_type": "error",
     "traceback": [
      "\u001B[0;31m---------------------------------------------------------------------------\u001B[0m",
      "\u001B[0;31mNameError\u001B[0m                                 Traceback (most recent call last)",
      "Cell \u001B[0;32mIn[40], line 1\u001B[0m\n\u001B[0;32m----> 1\u001B[0m model4 \u001B[38;5;241m=\u001B[39m LogisticRegression(n_jobs\u001B[38;5;241m=\u001B[39m\u001B[38;5;241m6\u001B[39m)\n",
      "\u001B[0;31mNameError\u001B[0m: name 'LogisticRegression' is not defined"
     ]
    }
   ],
   "source": [
    "model4 = LogisticRegression(n_jobs=6)"
   ],
   "metadata": {
    "collapsed": false,
    "ExecuteTime": {
     "end_time": "2023-12-14T15:47:03.343048391Z",
     "start_time": "2023-12-14T15:47:03.096369359Z"
    }
   },
   "id": "51e9cd3c4cfb7b67"
  },
  {
   "cell_type": "code",
   "execution_count": 41,
   "outputs": [],
   "source": [
    "total = pd.concat([X_t, y_t], axis=1).reset_index()"
   ],
   "metadata": {
    "collapsed": false,
    "ExecuteTime": {
     "end_time": "2023-12-14T15:47:04.353913652Z",
     "start_time": "2023-12-14T15:47:04.346045984Z"
    }
   },
   "id": "a1a794a98c08d074"
  },
  {
   "cell_type": "code",
   "execution_count": 42,
   "outputs": [
    {
     "data": {
      "text/plain": "      index  mucous_membrane_bright_pink  mucous_membrane_bright_red  \\\n752    2002                        False                       False   \n753     740                        False                       False   \n754    2007                        False                       False   \n755    1856                        False                       False   \n756     957                        False                       False   \n...     ...                          ...                         ...   \n1499    328                        False                       False   \n1500   2198                        False                       False   \n1501   1437                        False                        True   \n1502   2130                        False                       False   \n1503    462                        False                       False   \n\n      mucous_membrane_dark_cyanotic  mucous_membrane_normal_pink  \\\n752                           False                         True   \n753                           False                        False   \n754                           False                        False   \n755                            True                        False   \n756                           False                        False   \n...                             ...                          ...   \n1499                          False                         True   \n1500                          False                         True   \n1501                          False                        False   \n1502                          False                        False   \n1503                           True                        False   \n\n      mucous_membrane_pale_cyanotic  mucous_membrane_pale_pink   surgery  age  \\\n752                           False                       True  0.000000  0.0   \n753                           False                       True  0.000000  0.0   \n754                            True                      False  0.010574  0.0   \n755                            True                      False  0.000000  0.0   \n756                           False                       True  0.000000  0.0   \n...                             ...                        ...       ...  ...   \n1499                          False                      False  1.000000  0.0   \n1500                           True                      False  0.381870  0.0   \n1501                          False                      False  1.000000  0.0   \n1502                           True                       True  0.000000  0.0   \n1503                          False                      False  0.000000  0.0   \n\n      hospital_number  ...  packed_cell_volume  total_protein  \\\n752      5.347870e+05  ...           41.261736      75.000000   \n753      5.338710e+05  ...           55.000000      65.000000   \n754      5.302420e+05  ...           52.000000       8.595770   \n755      5.345560e+05  ...           60.258301      81.000000   \n756      5.351300e+05  ...           48.000000      66.000000   \n...               ...  ...                 ...            ...   \n1499     5.282980e+05  ...           45.000000       7.500000   \n1500     5.275212e+06  ...           51.236261      47.178467   \n1501     5.281510e+05  ...           53.083333      11.075000   \n1502     5.286826e+05  ...           47.074955       6.354803   \n1503     5.306120e+05  ...           66.000000       6.000000   \n\n      abdomo_appearance  abdomo_protein  surgical_lesion     lesion_1  \\\n752                 1.0        1.000000         0.000000  3111.000000   \n753                 1.0        1.000000         0.000000  7209.000000   \n754                 2.0        7.400000         1.000000  2207.000000   \n755                 1.0        2.000000         0.491666  2208.000000   \n756                 2.0        2.000000         1.000000  2205.000000   \n...                 ...             ...              ...          ...   \n1499                0.0        5.000000         0.000000  8300.000000   \n1500                2.0        3.510028         1.000000  2205.000000   \n1501                2.0        3.325000         0.000000  4124.000000   \n1502                2.0        3.221544         1.000000  2207.290395   \n1503                2.0        3.400000         1.000000  2208.000000   \n\n      lesion_2   cp_data  abs_rectal_temp  outcome  \n752        0.0  0.710289         0.413087      1.0  \n753        0.0  0.000000         0.200000      1.0  \n754        0.0  0.010574         0.600000      1.0  \n755        0.0  0.000000         0.547500      1.0  \n756        0.0  0.000000         0.700000      1.0  \n...        ...       ...              ...      ...  \n1499       0.0  1.000000         0.200000      1.0  \n1500       0.0  0.000000         0.556317      1.0  \n1501       0.0  0.000000         0.700000      1.0  \n1502       0.0  0.763465         0.807496      1.0  \n1503       0.0  0.000000         0.500000      1.0  \n\n[752 rows x 34 columns]",
      "text/html": "<div>\n<style scoped>\n    .dataframe tbody tr th:only-of-type {\n        vertical-align: middle;\n    }\n\n    .dataframe tbody tr th {\n        vertical-align: top;\n    }\n\n    .dataframe thead th {\n        text-align: right;\n    }\n</style>\n<table border=\"1\" class=\"dataframe\">\n  <thead>\n    <tr style=\"text-align: right;\">\n      <th></th>\n      <th>index</th>\n      <th>mucous_membrane_bright_pink</th>\n      <th>mucous_membrane_bright_red</th>\n      <th>mucous_membrane_dark_cyanotic</th>\n      <th>mucous_membrane_normal_pink</th>\n      <th>mucous_membrane_pale_cyanotic</th>\n      <th>mucous_membrane_pale_pink</th>\n      <th>surgery</th>\n      <th>age</th>\n      <th>hospital_number</th>\n      <th>...</th>\n      <th>packed_cell_volume</th>\n      <th>total_protein</th>\n      <th>abdomo_appearance</th>\n      <th>abdomo_protein</th>\n      <th>surgical_lesion</th>\n      <th>lesion_1</th>\n      <th>lesion_2</th>\n      <th>cp_data</th>\n      <th>abs_rectal_temp</th>\n      <th>outcome</th>\n    </tr>\n  </thead>\n  <tbody>\n    <tr>\n      <th>752</th>\n      <td>2002</td>\n      <td>False</td>\n      <td>False</td>\n      <td>False</td>\n      <td>True</td>\n      <td>False</td>\n      <td>True</td>\n      <td>0.000000</td>\n      <td>0.0</td>\n      <td>5.347870e+05</td>\n      <td>...</td>\n      <td>41.261736</td>\n      <td>75.000000</td>\n      <td>1.0</td>\n      <td>1.000000</td>\n      <td>0.000000</td>\n      <td>3111.000000</td>\n      <td>0.0</td>\n      <td>0.710289</td>\n      <td>0.413087</td>\n      <td>1.0</td>\n    </tr>\n    <tr>\n      <th>753</th>\n      <td>740</td>\n      <td>False</td>\n      <td>False</td>\n      <td>False</td>\n      <td>False</td>\n      <td>False</td>\n      <td>True</td>\n      <td>0.000000</td>\n      <td>0.0</td>\n      <td>5.338710e+05</td>\n      <td>...</td>\n      <td>55.000000</td>\n      <td>65.000000</td>\n      <td>1.0</td>\n      <td>1.000000</td>\n      <td>0.000000</td>\n      <td>7209.000000</td>\n      <td>0.0</td>\n      <td>0.000000</td>\n      <td>0.200000</td>\n      <td>1.0</td>\n    </tr>\n    <tr>\n      <th>754</th>\n      <td>2007</td>\n      <td>False</td>\n      <td>False</td>\n      <td>False</td>\n      <td>False</td>\n      <td>True</td>\n      <td>False</td>\n      <td>0.010574</td>\n      <td>0.0</td>\n      <td>5.302420e+05</td>\n      <td>...</td>\n      <td>52.000000</td>\n      <td>8.595770</td>\n      <td>2.0</td>\n      <td>7.400000</td>\n      <td>1.000000</td>\n      <td>2207.000000</td>\n      <td>0.0</td>\n      <td>0.010574</td>\n      <td>0.600000</td>\n      <td>1.0</td>\n    </tr>\n    <tr>\n      <th>755</th>\n      <td>1856</td>\n      <td>False</td>\n      <td>False</td>\n      <td>True</td>\n      <td>False</td>\n      <td>True</td>\n      <td>False</td>\n      <td>0.000000</td>\n      <td>0.0</td>\n      <td>5.345560e+05</td>\n      <td>...</td>\n      <td>60.258301</td>\n      <td>81.000000</td>\n      <td>1.0</td>\n      <td>2.000000</td>\n      <td>0.491666</td>\n      <td>2208.000000</td>\n      <td>0.0</td>\n      <td>0.000000</td>\n      <td>0.547500</td>\n      <td>1.0</td>\n    </tr>\n    <tr>\n      <th>756</th>\n      <td>957</td>\n      <td>False</td>\n      <td>False</td>\n      <td>False</td>\n      <td>False</td>\n      <td>False</td>\n      <td>True</td>\n      <td>0.000000</td>\n      <td>0.0</td>\n      <td>5.351300e+05</td>\n      <td>...</td>\n      <td>48.000000</td>\n      <td>66.000000</td>\n      <td>2.0</td>\n      <td>2.000000</td>\n      <td>1.000000</td>\n      <td>2205.000000</td>\n      <td>0.0</td>\n      <td>0.000000</td>\n      <td>0.700000</td>\n      <td>1.0</td>\n    </tr>\n    <tr>\n      <th>...</th>\n      <td>...</td>\n      <td>...</td>\n      <td>...</td>\n      <td>...</td>\n      <td>...</td>\n      <td>...</td>\n      <td>...</td>\n      <td>...</td>\n      <td>...</td>\n      <td>...</td>\n      <td>...</td>\n      <td>...</td>\n      <td>...</td>\n      <td>...</td>\n      <td>...</td>\n      <td>...</td>\n      <td>...</td>\n      <td>...</td>\n      <td>...</td>\n      <td>...</td>\n      <td>...</td>\n    </tr>\n    <tr>\n      <th>1499</th>\n      <td>328</td>\n      <td>False</td>\n      <td>False</td>\n      <td>False</td>\n      <td>True</td>\n      <td>False</td>\n      <td>False</td>\n      <td>1.000000</td>\n      <td>0.0</td>\n      <td>5.282980e+05</td>\n      <td>...</td>\n      <td>45.000000</td>\n      <td>7.500000</td>\n      <td>0.0</td>\n      <td>5.000000</td>\n      <td>0.000000</td>\n      <td>8300.000000</td>\n      <td>0.0</td>\n      <td>1.000000</td>\n      <td>0.200000</td>\n      <td>1.0</td>\n    </tr>\n    <tr>\n      <th>1500</th>\n      <td>2198</td>\n      <td>False</td>\n      <td>False</td>\n      <td>False</td>\n      <td>True</td>\n      <td>True</td>\n      <td>False</td>\n      <td>0.381870</td>\n      <td>0.0</td>\n      <td>5.275212e+06</td>\n      <td>...</td>\n      <td>51.236261</td>\n      <td>47.178467</td>\n      <td>2.0</td>\n      <td>3.510028</td>\n      <td>1.000000</td>\n      <td>2205.000000</td>\n      <td>0.0</td>\n      <td>0.000000</td>\n      <td>0.556317</td>\n      <td>1.0</td>\n    </tr>\n    <tr>\n      <th>1501</th>\n      <td>1437</td>\n      <td>False</td>\n      <td>True</td>\n      <td>False</td>\n      <td>False</td>\n      <td>False</td>\n      <td>False</td>\n      <td>1.000000</td>\n      <td>0.0</td>\n      <td>5.281510e+05</td>\n      <td>...</td>\n      <td>53.083333</td>\n      <td>11.075000</td>\n      <td>2.0</td>\n      <td>3.325000</td>\n      <td>0.000000</td>\n      <td>4124.000000</td>\n      <td>0.0</td>\n      <td>0.000000</td>\n      <td>0.700000</td>\n      <td>1.0</td>\n    </tr>\n    <tr>\n      <th>1502</th>\n      <td>2130</td>\n      <td>False</td>\n      <td>False</td>\n      <td>False</td>\n      <td>False</td>\n      <td>True</td>\n      <td>True</td>\n      <td>0.000000</td>\n      <td>0.0</td>\n      <td>5.286826e+05</td>\n      <td>...</td>\n      <td>47.074955</td>\n      <td>6.354803</td>\n      <td>2.0</td>\n      <td>3.221544</td>\n      <td>1.000000</td>\n      <td>2207.290395</td>\n      <td>0.0</td>\n      <td>0.763465</td>\n      <td>0.807496</td>\n      <td>1.0</td>\n    </tr>\n    <tr>\n      <th>1503</th>\n      <td>462</td>\n      <td>False</td>\n      <td>False</td>\n      <td>True</td>\n      <td>False</td>\n      <td>False</td>\n      <td>False</td>\n      <td>0.000000</td>\n      <td>0.0</td>\n      <td>5.306120e+05</td>\n      <td>...</td>\n      <td>66.000000</td>\n      <td>6.000000</td>\n      <td>2.0</td>\n      <td>3.400000</td>\n      <td>1.000000</td>\n      <td>2208.000000</td>\n      <td>0.0</td>\n      <td>0.000000</td>\n      <td>0.500000</td>\n      <td>1.0</td>\n    </tr>\n  </tbody>\n</table>\n<p>752 rows × 34 columns</p>\n</div>"
     },
     "execution_count": 42,
     "metadata": {},
     "output_type": "execute_result"
    }
   ],
   "source": [
    "total[752:(752*2)]"
   ],
   "metadata": {
    "collapsed": false,
    "ExecuteTime": {
     "end_time": "2023-12-14T15:47:05.264667287Z",
     "start_time": "2023-12-14T15:47:05.247035341Z"
    }
   },
   "id": "6eb5cfcd25fc46f4"
  },
  {
   "cell_type": "code",
   "execution_count": 43,
   "outputs": [],
   "source": [
    "def get_target_dist(df, target):\n",
    "    class_0 = df[target]"
   ],
   "metadata": {
    "collapsed": false,
    "ExecuteTime": {
     "end_time": "2023-12-14T15:47:07.687755984Z",
     "start_time": "2023-12-14T15:47:07.665629272Z"
    }
   },
   "id": "1e28d0479c42e9a3"
  },
  {
   "cell_type": "code",
   "execution_count": 51,
   "outputs": [],
   "source": [
    "class CSVDataset(Dataset):\n",
    "    def __init__(self, csv_file, test=False):\n",
    "        self.csv_file = csv_file\n",
    "        self.rows = csv_file.shape[0]\n",
    "        self.test = test\n",
    "        \n",
    "        # OG\n",
    "        self.X = None\n",
    "        self.Y = None\n",
    "        self.X_valid = None\n",
    "        self.Y_valid = None\n",
    "        \n",
    "        # Tensors\n",
    "        self.X_tensor = None\n",
    "        self.Y_tensor = None\n",
    "        self.X_eval_tensor = None\n",
    "        self.Y_eval_tensor = None\n",
    "        \n",
    "        \n",
    "    def _split(self, target, train_size=0.9):\n",
    "        if not self.test:\n",
    "            \n",
    "            \n",
    "            og = 752 \n",
    "            class_rows = og*0.95\n",
    "            class_rows = int((class_rows - class_rows%100))\n",
    "            self.valid_rows = og - class_rows\n",
    "            \n",
    "            self.X = self.csv_file[:class_rows] # 700\n",
    "            self.X_valid = self.csv_file[class_rows:og] #700-752\n",
    "            \n",
    "            self.X = pd.concat([self.X, self.csv_file[og:og*2-52]], axis=0) #752-1452\n",
    "            self.X_valid = pd.concat([self.X_valid, self.csv_file[og*2-52:(og*2)]], axis=0) #1452-1504\n",
    "            \n",
    "            self.X = pd.concat([self.X, self.csv_file[(og*2):(og*3-52)]], axis=0) #1504-2104\n",
    "            self.X_valid = pd.concat([self.X_valid, self.csv_file[(og*3-52):(og*3)]], axis=0)\n",
    "            \n",
    "            self.Y = self.csv_file[target][:class_rows]\n",
    "            self.Y_valid = self.csv_file[target][class_rows:og]\n",
    "            \n",
    "            self.Y = pd.concat([self.Y, self.csv_file[target][og:og+class_rows]], axis=0)\n",
    "            self.Y_valid = pd.concat([self.Y_valid, self.csv_file[target][og+class_rows:(og*2)]], axis=0)\n",
    "            \n",
    "            self.Y = pd.concat([self.Y, self.csv_file[target][(og*2):(og*3-52)]], axis=0)\n",
    "            self.Y_valid = pd.concat([self.Y_valid, self.csv_file[target][(og*3-52):(og*3)]], axis=0)\n",
    "\n",
    "            self.X.drop([target], axis=1, inplace=True)\n",
    "            self.X_valid.drop([target], axis=1, inplace=True)\n",
    "\n",
    "            self.Y = pd.get_dummies(self.Y, columns=[target], drop_first=False, dtype=np.float32)\n",
    "            self.Y_valid = pd.get_dummies(self.Y_valid, columns=[target], drop_first=False, dtype=np.float32)\n",
    "            \n",
    "            print(self.X.columns, self.Y.columns)\n",
    "        else:\n",
    "            print('Cannot split test data.')\n",
    "    \n",
    "    def toTensor(self):\n",
    "        if self.test:\n",
    "            self.X_tensor = torch.tensor(np.array(self.csv_file.values, dtype=np.float32), dtype=torch.float, device='cuda')\n",
    "            return\n",
    "        \n",
    "        with torch.device('cuda'):        \n",
    "            self.X_tensor = torch.tensor(np.array(self.X.values, dtype=np.float32), dtype=torch.float)\n",
    "            self.Y_tensor = torch.tensor(np.array(self.Y.values, dtype=np.float32), dtype=torch.float, requires_grad=True)\n",
    "            self.X_eval_tensor = torch.tensor(np.array(self.X_valid.values, dtype=np.float32), dtype=torch.float)\n",
    "            self.Y_eval_tensor = torch.tensor(np.array(self.Y_valid.values, dtype=np.float32), dtype=torch.float, requires_grad=True)\n",
    "        \n",
    "    def __getitem__(self, item):\n",
    "        if not self.test:\n",
    "            return self.X_tensor[item], self.Y_tensor[item]\n",
    "        return self.X_tensor[item]\n",
    "    \n",
    "    def __len__(self):\n",
    "        return self.X_tensor.size()[0]"
   ],
   "metadata": {
    "collapsed": false,
    "ExecuteTime": {
     "end_time": "2023-12-14T15:47:56.015319613Z",
     "start_time": "2023-12-14T15:47:55.943204008Z"
    }
   },
   "id": "f6bb118ddb1937a1"
  },
  {
   "cell_type": "code",
   "execution_count": 52,
   "outputs": [],
   "source": [
    "import torch.nn as nn\n",
    "\n",
    "class NNModel(nn.Module):\n",
    "    def __init__(self, inp_size, out_size, hidden):\n",
    "        super(NNModel, self).__init__()\n",
    "        \n",
    "        self.input_layer = nn.Linear(in_features=inp_size, out_features=hidden)\n",
    "        self.act1 = nn.LeakyReLU()\n",
    "        self.hidden_layer = nn.Linear(in_features=hidden, out_features=hidden)\n",
    "        self.act3 = nn.LeakyReLU()\n",
    "        self.hidden_layer2 = nn.Linear(in_features=hidden, out_features=hidden)\n",
    "        self.act2 = nn.LeakyReLU()\n",
    "        self.output_layer = nn.Linear(in_features=hidden, out_features=out_size)\n",
    "    \n",
    "    def forward(self, input_tensor):\n",
    "        x = self.input_layer(input_tensor)\n",
    "        x = self.act1(x)\n",
    "        x = self.hidden_layer(x)\n",
    "        x = self.act2(x)\n",
    "        x = self.hidden_layer2(x)\n",
    "        x = self.act3(x)\n",
    "        x = self.output_layer(x)\n",
    "        return x "
   ],
   "metadata": {
    "collapsed": false,
    "ExecuteTime": {
     "end_time": "2023-12-14T15:47:56.419543174Z",
     "start_time": "2023-12-14T15:47:56.394574048Z"
    }
   },
   "id": "ab31e876f92bc6f7"
  },
  {
   "cell_type": "code",
   "execution_count": 53,
   "outputs": [
    {
     "name": "stdout",
     "output_type": "stream",
     "text": [
      "Index(['mucous_membrane_bright_pink', 'mucous_membrane_bright_red',\n",
      "       'mucous_membrane_dark_cyanotic', 'mucous_membrane_normal_pink',\n",
      "       'mucous_membrane_pale_cyanotic', 'mucous_membrane_pale_pink', 'surgery',\n",
      "       'age', 'hospital_number', 'rectal_temp', 'pulse', 'respiratory_rate',\n",
      "       'temp_of_extremities', 'peripheral_pulse', 'capillary_refill_time',\n",
      "       'pain', 'peristalsis', 'abdominal_distention', 'nasogastric_tube',\n",
      "       'nasogastric_reflux', 'nasogastric_reflux_ph', 'rectal_exam_feces',\n",
      "       'abdomen', 'packed_cell_volume', 'total_protein', 'abdomo_appearance',\n",
      "       'abdomo_protein', 'surgical_lesion', 'lesion_1', 'lesion_2', 'cp_data',\n",
      "       'abs_rectal_temp'],\n",
      "      dtype='object') Index([0.0, 1.0, 2.0], dtype='float64')\n"
     ]
    }
   ],
   "source": [
    "trainSet = CSVDataset(pd.concat([X_t, y_t], axis=1))\n",
    "trainSet._split('outcome')\n",
    "trainSet.toTensor()\n",
    "\n",
    "testSet = CSVDataset(test_2, test=True)\n",
    "testSet.toTensor()"
   ],
   "metadata": {
    "collapsed": false,
    "ExecuteTime": {
     "end_time": "2023-12-14T15:47:56.659465603Z",
     "start_time": "2023-12-14T15:47:56.583749857Z"
    }
   },
   "id": "cc4d37c7b384ecec"
  },
  {
   "cell_type": "code",
   "execution_count": 54,
   "outputs": [],
   "source": [
    "def trainning(dataLoader, epochs, optimizer, criterion, debug = False):\n",
    "    loss_h = []\n",
    "    size = len(dataLoader.dataset)\n",
    "    softmax = nn.Softmax()\n",
    "    model.train()\n",
    "    for i in range(epochs):\n",
    "        for batch, (X, y) in enumerate(dataLoader):\n",
    "            # Compute predict and loss\n",
    "            y_hat = model(X)\n",
    "            # debug\n",
    "            if debug:\n",
    "                print(y_hat[0], y[0])\n",
    "            loss = criterion(y_hat, y)\n",
    "            # Back prop\n",
    "            loss.backward()\n",
    "            optimizer.step()\n",
    "            optimizer.zero_grad()\n",
    "            if i%100 == 0:\n",
    "                loss, current = loss.item(), (batch + 1) * len(X)\n",
    "                print(f\"iteration: {i}, loss: {loss}  [{current:>5d}/{size}]\")"
   ],
   "metadata": {
    "collapsed": false,
    "ExecuteTime": {
     "end_time": "2023-12-14T15:47:57.061392976Z",
     "start_time": "2023-12-14T15:47:57.058577841Z"
    }
   },
   "id": "55ba4dc29401083d"
  },
  {
   "cell_type": "code",
   "execution_count": 55,
   "outputs": [],
   "source": [
    "def test_loop(dataloader, model, loss_fn):\n",
    "    # Set the model to evaluation mode - important for batch normalization and dropout layers\n",
    "    # Unnecessary in this situation but added for best practices\n",
    "    model.eval()\n",
    "    size = 104 \n",
    "    num_batches = 1\n",
    "    test_loss, correct = 0, 0\n",
    "    softmax = nn.Softmax()\n",
    "    \n",
    "    X_eval = trainSet.X_eval_tensor\n",
    "    Y_eval = trainSet.Y_eval_tensor\n",
    "    \n",
    "    # Evaluating the model with torch.no_grad() ensures that no gradients are computed during test mode\n",
    "    # also serves to reduce unnecessary gradient computations and memory usage for tensors with requires_grad=True\n",
    "    with torch.no_grad():\n",
    "        for i in range(size):\n",
    "            X, y = X_eval[i], Y_eval[i]\n",
    "            pred = model(X)\n",
    "            sft = softmax(pred)\n",
    "            print(sft.argmax(), y.argmax())\n",
    "            test_loss += loss_fn(pred, y).item()\n",
    "            correct += (pred.argmax() == y).type(torch.float).sum().item()\n",
    "\n",
    "    test_loss /= num_batches\n",
    "    correct /= size\n",
    "    print(f\"Test Error: \\n Accuracy: {correct:>0.1f}%, Avg loss: {test_loss:>8f} \\n\")\n"
   ],
   "metadata": {
    "collapsed": false,
    "ExecuteTime": {
     "end_time": "2023-12-14T15:47:57.548469444Z",
     "start_time": "2023-12-14T15:47:57.543430811Z"
    }
   },
   "id": "69ab62a7ff4cf4a4"
  },
  {
   "cell_type": "code",
   "execution_count": 56,
   "outputs": [],
   "source": [
    "model = NNModel(train_2.shape[1]-1, 3, 512).to('cuda')\n",
    "optim = torch.optim.Adagrad(model.parameters(), lr=0.01)\n",
    "criterion = nn.CrossEntropyLoss()"
   ],
   "metadata": {
    "collapsed": false,
    "ExecuteTime": {
     "end_time": "2023-12-14T15:47:57.999672744Z",
     "start_time": "2023-12-14T15:47:57.989892056Z"
    }
   },
   "id": "fd3d62f7f815ee"
  },
  {
   "cell_type": "code",
   "execution_count": 57,
   "outputs": [],
   "source": [
    "train_loader = DataLoader(trainSet, batch_size=1024, shuffle=True)\n",
    "test_loader = DataLoader(testSet, batch_size=1, shuffle=True)"
   ],
   "metadata": {
    "collapsed": false,
    "ExecuteTime": {
     "end_time": "2023-12-14T15:47:58.444413248Z",
     "start_time": "2023-12-14T15:47:58.441376924Z"
    }
   },
   "id": "dba52d001fd5e0ed"
  },
  {
   "cell_type": "code",
   "execution_count": 58,
   "outputs": [
    {
     "name": "stdout",
     "output_type": "stream",
     "text": [
      "iteration: 0, loss: 5306.5166015625  [ 1024/2100]\n",
      "iteration: 0, loss: 292445.8125  [ 2048/2100]\n",
      "iteration: 0, loss: 3412811.25  [  156/2100]\n",
      "iteration: 100, loss: 41.589080810546875  [ 1024/2100]\n",
      "iteration: 100, loss: 95.83827209472656  [ 2048/2100]\n",
      "iteration: 100, loss: 30.040687561035156  [  156/2100]\n",
      "iteration: 200, loss: 18.161121368408203  [ 1024/2100]\n",
      "iteration: 200, loss: 27.941051483154297  [ 2048/2100]\n",
      "iteration: 200, loss: 19.277944564819336  [  156/2100]\n",
      "iteration: 300, loss: 9.334606170654297  [ 1024/2100]\n",
      "iteration: 300, loss: 10.24014663696289  [ 2048/2100]\n",
      "iteration: 300, loss: 29.033205032348633  [  156/2100]\n",
      "iteration: 400, loss: 11.14191722869873  [ 1024/2100]\n",
      "iteration: 400, loss: 11.664552688598633  [ 2048/2100]\n",
      "iteration: 400, loss: 19.60796546936035  [  156/2100]\n",
      "iteration: 500, loss: 12.098081588745117  [ 1024/2100]\n",
      "iteration: 500, loss: 14.628744125366211  [ 2048/2100]\n",
      "iteration: 500, loss: 10.903515815734863  [  156/2100]\n",
      "iteration: 600, loss: 14.502462387084961  [ 1024/2100]\n",
      "iteration: 600, loss: 4.208173751831055  [ 2048/2100]\n",
      "iteration: 600, loss: 3.107877492904663  [  156/2100]\n",
      "iteration: 700, loss: 2.16554856300354  [ 1024/2100]\n",
      "iteration: 700, loss: 5.78240966796875  [ 2048/2100]\n",
      "iteration: 700, loss: 11.160998344421387  [  156/2100]\n",
      "iteration: 800, loss: 12.544486045837402  [ 1024/2100]\n",
      "iteration: 800, loss: 12.733972549438477  [ 2048/2100]\n",
      "iteration: 800, loss: 3.6600663661956787  [  156/2100]\n",
      "iteration: 900, loss: 10.689878463745117  [ 1024/2100]\n",
      "iteration: 900, loss: 11.274446487426758  [ 2048/2100]\n",
      "iteration: 900, loss: 7.3514580726623535  [  156/2100]\n",
      "iteration: 1000, loss: 9.71418571472168  [ 1024/2100]\n",
      "iteration: 1000, loss: 7.020020961761475  [ 2048/2100]\n",
      "iteration: 1000, loss: 3.0932788848876953  [  156/2100]\n",
      "iteration: 1100, loss: 8.750669479370117  [ 1024/2100]\n",
      "iteration: 1100, loss: 3.6862518787384033  [ 2048/2100]\n",
      "iteration: 1100, loss: 4.340168476104736  [  156/2100]\n",
      "iteration: 1200, loss: 6.276400089263916  [ 1024/2100]\n",
      "iteration: 1200, loss: 4.4364118576049805  [ 2048/2100]\n",
      "iteration: 1200, loss: 4.529384613037109  [  156/2100]\n",
      "iteration: 1300, loss: 6.075089454650879  [ 1024/2100]\n",
      "iteration: 1300, loss: 3.7485411167144775  [ 2048/2100]\n",
      "iteration: 1300, loss: 2.2841904163360596  [  156/2100]\n",
      "iteration: 1400, loss: 2.777064800262451  [ 1024/2100]\n",
      "iteration: 1400, loss: 2.8721938133239746  [ 2048/2100]\n",
      "iteration: 1400, loss: 1.81553316116333  [  156/2100]\n",
      "iteration: 1500, loss: 7.200777530670166  [ 1024/2100]\n",
      "iteration: 1500, loss: 1.933642864227295  [ 2048/2100]\n",
      "iteration: 1500, loss: 2.6650874614715576  [  156/2100]\n",
      "iteration: 1600, loss: 6.55972146987915  [ 1024/2100]\n",
      "iteration: 1600, loss: 4.1695051193237305  [ 2048/2100]\n",
      "iteration: 1600, loss: 4.252092361450195  [  156/2100]\n",
      "iteration: 1700, loss: 1.3408528566360474  [ 1024/2100]\n",
      "iteration: 1700, loss: 2.430436849594116  [ 2048/2100]\n",
      "iteration: 1700, loss: 2.680781841278076  [  156/2100]\n",
      "iteration: 1800, loss: 4.081723213195801  [ 1024/2100]\n",
      "iteration: 1800, loss: 6.46824312210083  [ 2048/2100]\n",
      "iteration: 1800, loss: 3.100797414779663  [  156/2100]\n",
      "iteration: 1900, loss: 5.528021812438965  [ 1024/2100]\n",
      "iteration: 1900, loss: 1.5126007795333862  [ 2048/2100]\n",
      "iteration: 1900, loss: 2.645622730255127  [  156/2100]\n",
      "iteration: 2000, loss: 1.2383499145507812  [ 1024/2100]\n",
      "iteration: 2000, loss: 2.418100357055664  [ 2048/2100]\n",
      "iteration: 2000, loss: 5.298254489898682  [  156/2100]\n",
      "iteration: 2100, loss: 1.9486525058746338  [ 1024/2100]\n",
      "iteration: 2100, loss: 3.3183059692382812  [ 2048/2100]\n",
      "iteration: 2100, loss: 1.8029173612594604  [  156/2100]\n",
      "iteration: 2200, loss: 1.5031331777572632  [ 1024/2100]\n",
      "iteration: 2200, loss: 2.0381686687469482  [ 2048/2100]\n",
      "iteration: 2200, loss: 1.8969093561172485  [  156/2100]\n",
      "iteration: 2300, loss: 2.972909688949585  [ 1024/2100]\n",
      "iteration: 2300, loss: 3.610459089279175  [ 2048/2100]\n",
      "iteration: 2300, loss: 4.320125579833984  [  156/2100]\n",
      "iteration: 2400, loss: 3.112481117248535  [ 1024/2100]\n",
      "iteration: 2400, loss: 1.4716594219207764  [ 2048/2100]\n",
      "iteration: 2400, loss: 2.1673195362091064  [  156/2100]\n",
      "iteration: 2500, loss: 2.7094247341156006  [ 1024/2100]\n",
      "iteration: 2500, loss: 3.3895351886749268  [ 2048/2100]\n",
      "iteration: 2500, loss: 1.2410579919815063  [  156/2100]\n",
      "iteration: 2600, loss: 1.2354600429534912  [ 1024/2100]\n",
      "iteration: 2600, loss: 1.7670023441314697  [ 2048/2100]\n",
      "iteration: 2600, loss: 2.381789445877075  [  156/2100]\n",
      "iteration: 2700, loss: 1.4323523044586182  [ 1024/2100]\n",
      "iteration: 2700, loss: 1.9316424131393433  [ 2048/2100]\n",
      "iteration: 2700, loss: 1.9394123554229736  [  156/2100]\n",
      "iteration: 2800, loss: 4.420701026916504  [ 1024/2100]\n",
      "iteration: 2800, loss: 2.57181453704834  [ 2048/2100]\n",
      "iteration: 2800, loss: 3.834017753601074  [  156/2100]\n",
      "iteration: 2900, loss: 1.6922926902770996  [ 1024/2100]\n",
      "iteration: 2900, loss: 1.9159965515136719  [ 2048/2100]\n",
      "iteration: 2900, loss: 1.0534286499023438  [  156/2100]\n",
      "iteration: 3000, loss: 2.883545398712158  [ 1024/2100]\n",
      "iteration: 3000, loss: 3.214754343032837  [ 2048/2100]\n",
      "iteration: 3000, loss: 1.996397852897644  [  156/2100]\n",
      "iteration: 3100, loss: 2.865908145904541  [ 1024/2100]\n",
      "iteration: 3100, loss: 1.8831249475479126  [ 2048/2100]\n",
      "iteration: 3100, loss: 2.930321216583252  [  156/2100]\n",
      "iteration: 3200, loss: 1.2385485172271729  [ 1024/2100]\n",
      "iteration: 3200, loss: 1.514721155166626  [ 2048/2100]\n",
      "iteration: 3200, loss: 2.1398448944091797  [  156/2100]\n",
      "iteration: 3300, loss: 2.5912444591522217  [ 1024/2100]\n",
      "iteration: 3300, loss: 1.2045612335205078  [ 2048/2100]\n",
      "iteration: 3300, loss: 1.5484164953231812  [  156/2100]\n",
      "iteration: 3400, loss: 1.1854822635650635  [ 1024/2100]\n",
      "iteration: 3400, loss: 1.4572839736938477  [ 2048/2100]\n",
      "iteration: 3400, loss: 1.251699686050415  [  156/2100]\n",
      "iteration: 3500, loss: 1.6886076927185059  [ 1024/2100]\n",
      "iteration: 3500, loss: 2.7199385166168213  [ 2048/2100]\n",
      "iteration: 3500, loss: 1.0616981983184814  [  156/2100]\n",
      "iteration: 3600, loss: 2.933056354522705  [ 1024/2100]\n",
      "iteration: 3600, loss: 2.634974718093872  [ 2048/2100]\n",
      "iteration: 3600, loss: 3.5570645332336426  [  156/2100]\n",
      "iteration: 3700, loss: 2.2158093452453613  [ 1024/2100]\n",
      "iteration: 3700, loss: 4.30481481552124  [ 2048/2100]\n",
      "iteration: 3700, loss: 5.736793041229248  [  156/2100]\n",
      "iteration: 3800, loss: 7.243401527404785  [ 1024/2100]\n",
      "iteration: 3800, loss: 8.342374801635742  [ 2048/2100]\n",
      "iteration: 3800, loss: 4.3228631019592285  [  156/2100]\n",
      "iteration: 3900, loss: 3.6291723251342773  [ 1024/2100]\n",
      "iteration: 3900, loss: 2.867465019226074  [ 2048/2100]\n",
      "iteration: 3900, loss: 2.6941936016082764  [  156/2100]\n",
      "iteration: 4000, loss: 1.8761476278305054  [ 1024/2100]\n",
      "iteration: 4000, loss: 1.4223294258117676  [ 2048/2100]\n",
      "iteration: 4000, loss: 3.7327799797058105  [  156/2100]\n",
      "iteration: 4100, loss: 4.735337257385254  [ 1024/2100]\n",
      "iteration: 4100, loss: 4.599347114562988  [ 2048/2100]\n",
      "iteration: 4100, loss: 2.899425983428955  [  156/2100]\n",
      "iteration: 4200, loss: 2.936829090118408  [ 1024/2100]\n",
      "iteration: 4200, loss: 2.7870001792907715  [ 2048/2100]\n",
      "iteration: 4200, loss: 3.7149930000305176  [  156/2100]\n",
      "iteration: 4300, loss: 1.9253978729248047  [ 1024/2100]\n",
      "iteration: 4300, loss: 2.7394626140594482  [ 2048/2100]\n",
      "iteration: 4300, loss: 1.2070444822311401  [  156/2100]\n",
      "iteration: 4400, loss: 2.2325503826141357  [ 1024/2100]\n",
      "iteration: 4400, loss: 3.6290512084960938  [ 2048/2100]\n",
      "iteration: 4400, loss: 2.591935157775879  [  156/2100]\n",
      "iteration: 4500, loss: 3.1162352561950684  [ 1024/2100]\n",
      "iteration: 4500, loss: 3.5283830165863037  [ 2048/2100]\n",
      "iteration: 4500, loss: 2.90211820602417  [  156/2100]\n",
      "iteration: 4600, loss: 3.1697099208831787  [ 1024/2100]\n",
      "iteration: 4600, loss: 3.2096128463745117  [ 2048/2100]\n",
      "iteration: 4600, loss: 4.67633581161499  [  156/2100]\n",
      "iteration: 4700, loss: 3.9671144485473633  [ 1024/2100]\n",
      "iteration: 4700, loss: 3.1695785522460938  [ 2048/2100]\n",
      "iteration: 4700, loss: 2.2966907024383545  [  156/2100]\n",
      "iteration: 4800, loss: 2.9551994800567627  [ 1024/2100]\n",
      "iteration: 4800, loss: 2.705054998397827  [ 2048/2100]\n",
      "iteration: 4800, loss: 2.7469892501831055  [  156/2100]\n",
      "iteration: 4900, loss: 4.529476642608643  [ 1024/2100]\n",
      "iteration: 4900, loss: 3.6950652599334717  [ 2048/2100]\n",
      "iteration: 4900, loss: 3.868638515472412  [  156/2100]\n"
     ]
    }
   ],
   "source": [
    "trainning(train_loader, 5000, optim, criterion)"
   ],
   "metadata": {
    "collapsed": false,
    "ExecuteTime": {
     "end_time": "2023-12-14T15:53:49.059132560Z",
     "start_time": "2023-12-14T15:47:59.531472982Z"
    }
   },
   "id": "9b19c33cf11a1e6c"
  },
  {
   "cell_type": "code",
   "execution_count": 59,
   "outputs": [
    {
     "name": "stdout",
     "output_type": "stream",
     "text": [
      "tensor(1, device='cuda:0') tensor(0, device='cuda:0')\n",
      "tensor(2, device='cuda:0') tensor(0, device='cuda:0')\n",
      "tensor(2, device='cuda:0') tensor(0, device='cuda:0')\n",
      "tensor(2, device='cuda:0') tensor(0, device='cuda:0')\n",
      "tensor(2, device='cuda:0') tensor(0, device='cuda:0')\n",
      "tensor(2, device='cuda:0') tensor(0, device='cuda:0')\n",
      "tensor(2, device='cuda:0') tensor(0, device='cuda:0')\n",
      "tensor(2, device='cuda:0') tensor(0, device='cuda:0')\n",
      "tensor(2, device='cuda:0') tensor(0, device='cuda:0')\n",
      "tensor(2, device='cuda:0') tensor(0, device='cuda:0')\n",
      "tensor(2, device='cuda:0') tensor(0, device='cuda:0')\n",
      "tensor(2, device='cuda:0') tensor(0, device='cuda:0')\n",
      "tensor(2, device='cuda:0') tensor(0, device='cuda:0')\n",
      "tensor(2, device='cuda:0') tensor(0, device='cuda:0')\n",
      "tensor(2, device='cuda:0') tensor(0, device='cuda:0')\n",
      "tensor(2, device='cuda:0') tensor(0, device='cuda:0')\n",
      "tensor(2, device='cuda:0') tensor(0, device='cuda:0')\n",
      "tensor(2, device='cuda:0') tensor(0, device='cuda:0')\n",
      "tensor(2, device='cuda:0') tensor(0, device='cuda:0')\n",
      "tensor(2, device='cuda:0') tensor(0, device='cuda:0')\n",
      "tensor(2, device='cuda:0') tensor(0, device='cuda:0')\n",
      "tensor(2, device='cuda:0') tensor(0, device='cuda:0')\n",
      "tensor(2, device='cuda:0') tensor(0, device='cuda:0')\n",
      "tensor(2, device='cuda:0') tensor(0, device='cuda:0')\n",
      "tensor(2, device='cuda:0') tensor(0, device='cuda:0')\n",
      "tensor(2, device='cuda:0') tensor(0, device='cuda:0')\n",
      "tensor(1, device='cuda:0') tensor(0, device='cuda:0')\n",
      "tensor(2, device='cuda:0') tensor(0, device='cuda:0')\n",
      "tensor(2, device='cuda:0') tensor(0, device='cuda:0')\n",
      "tensor(2, device='cuda:0') tensor(0, device='cuda:0')\n",
      "tensor(2, device='cuda:0') tensor(0, device='cuda:0')\n",
      "tensor(2, device='cuda:0') tensor(0, device='cuda:0')\n",
      "tensor(2, device='cuda:0') tensor(0, device='cuda:0')\n",
      "tensor(2, device='cuda:0') tensor(0, device='cuda:0')\n",
      "tensor(2, device='cuda:0') tensor(0, device='cuda:0')\n",
      "tensor(2, device='cuda:0') tensor(0, device='cuda:0')\n",
      "tensor(2, device='cuda:0') tensor(0, device='cuda:0')\n",
      "tensor(2, device='cuda:0') tensor(0, device='cuda:0')\n",
      "tensor(2, device='cuda:0') tensor(0, device='cuda:0')\n",
      "tensor(2, device='cuda:0') tensor(0, device='cuda:0')\n",
      "tensor(2, device='cuda:0') tensor(0, device='cuda:0')\n",
      "tensor(2, device='cuda:0') tensor(0, device='cuda:0')\n",
      "tensor(2, device='cuda:0') tensor(0, device='cuda:0')\n",
      "tensor(2, device='cuda:0') tensor(0, device='cuda:0')\n",
      "tensor(2, device='cuda:0') tensor(0, device='cuda:0')\n",
      "tensor(2, device='cuda:0') tensor(0, device='cuda:0')\n",
      "tensor(2, device='cuda:0') tensor(0, device='cuda:0')\n",
      "tensor(2, device='cuda:0') tensor(0, device='cuda:0')\n",
      "tensor(2, device='cuda:0') tensor(0, device='cuda:0')\n",
      "tensor(2, device='cuda:0') tensor(0, device='cuda:0')\n",
      "tensor(2, device='cuda:0') tensor(0, device='cuda:0')\n",
      "tensor(2, device='cuda:0') tensor(0, device='cuda:0')\n",
      "tensor(2, device='cuda:0') tensor(1, device='cuda:0')\n",
      "tensor(2, device='cuda:0') tensor(1, device='cuda:0')\n",
      "tensor(2, device='cuda:0') tensor(1, device='cuda:0')\n",
      "tensor(2, device='cuda:0') tensor(1, device='cuda:0')\n",
      "tensor(2, device='cuda:0') tensor(1, device='cuda:0')\n",
      "tensor(2, device='cuda:0') tensor(1, device='cuda:0')\n",
      "tensor(2, device='cuda:0') tensor(1, device='cuda:0')\n",
      "tensor(2, device='cuda:0') tensor(1, device='cuda:0')\n",
      "tensor(2, device='cuda:0') tensor(1, device='cuda:0')\n",
      "tensor(2, device='cuda:0') tensor(1, device='cuda:0')\n",
      "tensor(2, device='cuda:0') tensor(1, device='cuda:0')\n",
      "tensor(2, device='cuda:0') tensor(1, device='cuda:0')\n",
      "tensor(2, device='cuda:0') tensor(1, device='cuda:0')\n",
      "tensor(2, device='cuda:0') tensor(1, device='cuda:0')\n",
      "tensor(2, device='cuda:0') tensor(1, device='cuda:0')\n",
      "tensor(2, device='cuda:0') tensor(1, device='cuda:0')\n",
      "tensor(2, device='cuda:0') tensor(1, device='cuda:0')\n",
      "tensor(2, device='cuda:0') tensor(1, device='cuda:0')\n",
      "tensor(2, device='cuda:0') tensor(1, device='cuda:0')\n",
      "tensor(2, device='cuda:0') tensor(1, device='cuda:0')\n",
      "tensor(2, device='cuda:0') tensor(1, device='cuda:0')\n",
      "tensor(2, device='cuda:0') tensor(1, device='cuda:0')\n",
      "tensor(2, device='cuda:0') tensor(1, device='cuda:0')\n",
      "tensor(2, device='cuda:0') tensor(1, device='cuda:0')\n",
      "tensor(2, device='cuda:0') tensor(1, device='cuda:0')\n",
      "tensor(2, device='cuda:0') tensor(1, device='cuda:0')\n",
      "tensor(2, device='cuda:0') tensor(1, device='cuda:0')\n",
      "tensor(2, device='cuda:0') tensor(1, device='cuda:0')\n",
      "tensor(2, device='cuda:0') tensor(1, device='cuda:0')\n",
      "tensor(2, device='cuda:0') tensor(1, device='cuda:0')\n",
      "tensor(2, device='cuda:0') tensor(1, device='cuda:0')\n",
      "tensor(1, device='cuda:0') tensor(1, device='cuda:0')\n",
      "tensor(2, device='cuda:0') tensor(1, device='cuda:0')\n",
      "tensor(2, device='cuda:0') tensor(1, device='cuda:0')\n",
      "tensor(2, device='cuda:0') tensor(1, device='cuda:0')\n",
      "tensor(2, device='cuda:0') tensor(1, device='cuda:0')\n",
      "tensor(2, device='cuda:0') tensor(1, device='cuda:0')\n",
      "tensor(2, device='cuda:0') tensor(1, device='cuda:0')\n",
      "tensor(2, device='cuda:0') tensor(1, device='cuda:0')\n",
      "tensor(2, device='cuda:0') tensor(1, device='cuda:0')\n",
      "tensor(2, device='cuda:0') tensor(1, device='cuda:0')\n",
      "tensor(2, device='cuda:0') tensor(1, device='cuda:0')\n",
      "tensor(2, device='cuda:0') tensor(1, device='cuda:0')\n",
      "tensor(2, device='cuda:0') tensor(1, device='cuda:0')\n",
      "tensor(2, device='cuda:0') tensor(1, device='cuda:0')\n",
      "tensor(2, device='cuda:0') tensor(1, device='cuda:0')\n",
      "tensor(2, device='cuda:0') tensor(1, device='cuda:0')\n",
      "tensor(2, device='cuda:0') tensor(1, device='cuda:0')\n",
      "tensor(2, device='cuda:0') tensor(1, device='cuda:0')\n",
      "tensor(2, device='cuda:0') tensor(1, device='cuda:0')\n",
      "tensor(2, device='cuda:0') tensor(1, device='cuda:0')\n",
      "tensor(2, device='cuda:0') tensor(1, device='cuda:0')\n",
      "Test Error: \n",
      " Accuracy: 0.0%, Avg loss: 202.031865 \n"
     ]
    }
   ],
   "source": [
    "test_loop(train_loader, model, criterion)"
   ],
   "metadata": {
    "collapsed": false,
    "ExecuteTime": {
     "end_time": "2023-12-14T15:53:49.181253956Z",
     "start_time": "2023-12-14T15:53:49.061420839Z"
    }
   },
   "id": "a9aee9f826569ed1"
  },
  {
   "cell_type": "code",
   "execution_count": null,
   "outputs": [],
   "source": [],
   "metadata": {
    "collapsed": false
   },
   "id": "5da91bc6b0797270"
  }
 ],
 "metadata": {
  "kernelspec": {
   "display_name": "Python 3",
   "language": "python",
   "name": "python3"
  },
  "language_info": {
   "codemirror_mode": {
    "name": "ipython",
    "version": 2
   },
   "file_extension": ".py",
   "mimetype": "text/x-python",
   "name": "python",
   "nbconvert_exporter": "python",
   "pygments_lexer": "ipython2",
   "version": "2.7.6"
  }
 },
 "nbformat": 4,
 "nbformat_minor": 5
}
