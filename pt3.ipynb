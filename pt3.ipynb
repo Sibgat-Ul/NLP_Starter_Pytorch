{
 "cells": [
  {
   "cell_type": "code",
   "execution_count": 15,
   "id": "initial_id",
   "metadata": {
    "collapsed": true,
    "ExecuteTime": {
     "end_time": "2023-12-03T14:31:58.389368419Z",
     "start_time": "2023-12-03T14:31:58.213073179Z"
    }
   },
   "outputs": [],
   "source": [
    "import math\n",
    "import string\n",
    "\n",
    "import torch\n",
    "import torch.nn as nn\n",
    "import torch.optim as optim\n",
    "from torch.utils.data import DataLoader, Dataset, TensorDataset, IterableDataset\n",
    "\n",
    "import torchdata\n",
    "import torchtext\n",
    "\n",
    "import re\n",
    "import glob\n",
    "import warnings\n",
    "import unicodedata\n",
    "import string"
   ]
  },
  {
   "cell_type": "code",
   "execution_count": 16,
   "outputs": [],
   "source": [
    "def get_files(path):\n",
    "    return glob.glob(path)\n",
    "\n",
    "def unicodeToAscii(word):\n",
    "    return ''.join(c for c in unicodedata.normalize('NFD', word)\n",
    "        if unicodedata.category(c) != 'Mn' and c in all_letters\n",
    "    )\n",
    "\n",
    "def readLine(fname):\n",
    "    file_name = re.findall(r'/data/names/(.*).txt', fname)[0]\n",
    "    with open(fname,encoding='utf-8') as file:\n",
    "        return file_name,[unicodeToAscii(line.strip()) for line in file]\n",
    "    \n",
    "def getCategory(path):\n",
    "    files = get_files(path)\n",
    "    category = [re.findall(r'/data/names/(.*).txt', file_name)[0] for file_name in files]\n",
    "    return category\n",
    "\n",
    "def getCatToName(path):\n",
    "    files = get_files(path)\n",
    "    cats = []\n",
    "    catToName = {}\n",
    "    for file in files:\n",
    "        cat, name = readLine(file)\n",
    "        cats.append(cat)\n",
    "        catToName[cat] = name\n",
    "    return cats, catToName"
   ],
   "metadata": {
    "collapsed": false,
    "ExecuteTime": {
     "end_time": "2023-12-03T14:31:58.389618368Z",
     "start_time": "2023-12-03T14:31:58.254065086Z"
    }
   },
   "id": "1e370b21a37849b5"
  },
  {
   "cell_type": "code",
   "execution_count": 63,
   "outputs": [],
   "source": [
    "all_letters = string.ascii_letters + \".,';-\" + '<EOS>'"
   ],
   "metadata": {
    "collapsed": false,
    "ExecuteTime": {
     "end_time": "2023-12-03T15:27:44.512841959Z",
     "start_time": "2023-12-03T15:27:44.447994683Z"
    }
   },
   "id": "c30433579c1bb65"
  },
  {
   "cell_type": "code",
   "execution_count": 18,
   "outputs": [],
   "source": [
    "### Label\n",
    "path = './data/names/*.txt'\n",
    "### Lang to Name\n",
    "all_cat, catToLine = getCatToName(path)"
   ],
   "metadata": {
    "collapsed": false,
    "ExecuteTime": {
     "end_time": "2023-12-03T14:31:58.389928336Z",
     "start_time": "2023-12-03T14:31:58.254277804Z"
    }
   },
   "id": "df8b9220dbfff349"
  },
  {
   "cell_type": "code",
   "execution_count": 19,
   "outputs": [],
   "source": [
    "class RNN_GEN_NAME(nn.Module):\n",
    "    def __init__(self, input_size, hidden_size, output_size, n_categories):\n",
    "        super(RNN_GEN_NAME, self).__init__()\n",
    "        \n",
    "        self.hidden_size = hidden_size\n",
    "        self.input_size = input_size\n",
    "        self.output_size = output_size\n",
    "        self.n_categories = n_categories\n",
    "        \n",
    "        self.inputToHidden = nn.Linear(input_size+hidden_size+n_categories, hidden_size)\n",
    "        self.inputToOutput = nn.Linear(input_size+hidden_size+n_categories, output_size)\n",
    "        self.outToOut = nn.Linear(hidden_size+output_size, output_size)\n",
    "        \n",
    "        self.dropOut = nn.Dropout(0.3)\n",
    "        self.act1 = nn.LeakyReLU()\n",
    "        self.act2 = nn.LeakyReLU()\n",
    "        self.softMax = nn.LogSoftmax()\n",
    "        \n",
    "    def forward(self, category, inp, hid):\n",
    "        input_comb = torch.cat((category,inp,hid), 1)\n",
    "        \n",
    "        hidden = self.inputToHidden(input_comb)\n",
    "        output = self.inputToOutput(input_comb)\n",
    "        \n",
    "        output_combined = torch.cat((hidden, output), 1)\n",
    "        \n",
    "        output = self.outToOut(output_combined)\n",
    "        output = self.dropOut(output)\n",
    "        output = self.softMax(output)\n",
    "        \n",
    "        return output, hidden\n",
    "    \n",
    "    def initHidden(self, hidden):\n",
    "        return torch.zeros(1, hidden)"
   ],
   "metadata": {
    "collapsed": false,
    "ExecuteTime": {
     "end_time": "2023-12-03T14:31:58.390061175Z",
     "start_time": "2023-12-03T14:31:58.272199761Z"
    }
   },
   "id": "22991069e01dc956"
  },
  {
   "cell_type": "code",
   "execution_count": 80,
   "outputs": [],
   "source": [
    "import random, math\n",
    "\n",
    "def randomChoice(listToChoice):\n",
    "    return listToChoice[random.randint(0, len(listToChoice)-1)]\n",
    "\n",
    "def randomPair(catList, lineList):\n",
    "    return randomChoice(catList), randomChoice(lineList)\n",
    "\n",
    "def lineToTensor(line, letters):\n",
    "    tensor = torch.zeros([len(line), len(letters)])\n",
    "    \n",
    "    for i, l in enumerate(line):\n",
    "        l_to_index = getIndex(letters, l)\n",
    "        tensor[i][l_to_index] = 1\n",
    "    \n",
    "    print(tensor)\n",
    "\n",
    "def randomExample(catList, lineList, oheCat):\n",
    "    cat, line = randomPair(catList, lineList)\n",
    "    catTensor = oheCat[cat]\n",
    "    lineTensor = lineToTensor(line)\n",
    "\n",
    "def catOhe(cat):\n",
    "    lenCat = len(cat)\n",
    "    tensor = torch.zeros([lenCat, lenCat])\n",
    "    catToTensor = {}\n",
    "    for i in range(lenCat):\n",
    "        tensor[i][i] = 1\n",
    "        catToTensor[cat[i]] = tensor[i]\n",
    "    return catToTensor, tensor\n",
    "    \n",
    "    \n",
    "def getIndex(listToSearch, toSearch):\n",
    "    index = math.inf\n",
    "    lenList = len(listToSearch)\n",
    "    \n",
    "    for i in range(lenList):\n",
    "        if listToSearch[i] == toSearch:\n",
    "            index = i\n",
    "            break\n",
    "    \n",
    "    if index >= 0:\n",
    "        return index "
   ],
   "metadata": {
    "collapsed": false,
    "ExecuteTime": {
     "end_time": "2023-12-03T15:36:11.918612888Z",
     "start_time": "2023-12-03T15:36:11.874225811Z"
    }
   },
   "id": "ea779459f1999f67"
  },
  {
   "cell_type": "code",
   "execution_count": 76,
   "outputs": [],
   "source": [
    "li = getIndex(all_cat, 'Arabic')"
   ],
   "metadata": {
    "collapsed": false,
    "ExecuteTime": {
     "end_time": "2023-12-03T15:35:37.777236482Z",
     "start_time": "2023-12-03T15:35:37.749796986Z"
    }
   },
   "id": "15b5fab878f557b4"
  },
  {
   "cell_type": "code",
   "execution_count": 77,
   "outputs": [
    {
     "name": "stdout",
     "output_type": "stream",
     "text": [
      "0\n"
     ]
    }
   ],
   "source": [
    "print(li)"
   ],
   "metadata": {
    "collapsed": false,
    "ExecuteTime": {
     "end_time": "2023-12-03T15:35:38.059949701Z",
     "start_time": "2023-12-03T15:35:38.037134550Z"
    }
   },
   "id": "cc9f6d8fea723e2b"
  },
  {
   "cell_type": "code",
   "execution_count": 78,
   "outputs": [
    {
     "name": "stdout",
     "output_type": "stream",
     "text": [
      "tensor([[0., 0., 0., 0., 0., 0., 0., 0., 0., 0., 0., 0., 0., 0., 0., 0., 0., 0.,\n",
      "         0., 0., 0., 0., 0., 0., 0., 0., 1., 0., 0., 0., 0., 0., 0., 0., 0., 0.,\n",
      "         0., 0., 0., 0., 0., 0., 0., 0., 0., 0., 0., 0., 0., 0., 0., 0., 0., 0.,\n",
      "         0., 0., 0., 0., 0., 0., 0., 0.],\n",
      "        [0., 0., 0., 0., 0., 0., 0., 0., 0., 0., 0., 0., 0., 0., 0., 0., 0., 0.,\n",
      "         0., 0., 0., 0., 0., 0., 0., 0., 0., 1., 0., 0., 0., 0., 0., 0., 0., 0.,\n",
      "         0., 0., 0., 0., 0., 0., 0., 0., 0., 0., 0., 0., 0., 0., 0., 0., 0., 0.,\n",
      "         0., 0., 0., 0., 0., 0., 0., 0.],\n",
      "        [0., 0., 0., 0., 0., 0., 0., 0., 0., 0., 0., 0., 0., 0., 0., 0., 0., 0.,\n",
      "         0., 0., 0., 0., 0., 0., 0., 0., 0., 0., 1., 0., 0., 0., 0., 0., 0., 0.,\n",
      "         0., 0., 0., 0., 0., 0., 0., 0., 0., 0., 0., 0., 0., 0., 0., 0., 0., 0.,\n",
      "         0., 0., 0., 0., 0., 0., 0., 0.]])\n"
     ]
    }
   ],
   "source": [
    "lineToTensor('ABC', all_letters)"
   ],
   "metadata": {
    "collapsed": false,
    "ExecuteTime": {
     "end_time": "2023-12-03T15:35:38.703092311Z",
     "start_time": "2023-12-03T15:35:38.672147133Z"
    }
   },
   "id": "710182e4036a3e0e"
  },
  {
   "cell_type": "code",
   "execution_count": 81,
   "outputs": [],
   "source": [
    "oheTensor, tensor = catOhe(all_cat)"
   ],
   "metadata": {
    "collapsed": false,
    "ExecuteTime": {
     "end_time": "2023-12-03T15:36:15.553140868Z",
     "start_time": "2023-12-03T15:36:15.542659593Z"
    }
   },
   "id": "58f73876d5e24d76"
  },
  {
   "cell_type": "code",
   "execution_count": 83,
   "outputs": [
    {
     "name": "stdout",
     "output_type": "stream",
     "text": [
      "tensor([[1., 0., 0., 0., 0., 0., 0., 0., 0., 0., 0., 0., 0., 0., 0., 0., 0., 0.],\n",
      "        [0., 1., 0., 0., 0., 0., 0., 0., 0., 0., 0., 0., 0., 0., 0., 0., 0., 0.],\n",
      "        [0., 0., 1., 0., 0., 0., 0., 0., 0., 0., 0., 0., 0., 0., 0., 0., 0., 0.],\n",
      "        [0., 0., 0., 1., 0., 0., 0., 0., 0., 0., 0., 0., 0., 0., 0., 0., 0., 0.],\n",
      "        [0., 0., 0., 0., 1., 0., 0., 0., 0., 0., 0., 0., 0., 0., 0., 0., 0., 0.],\n",
      "        [0., 0., 0., 0., 0., 1., 0., 0., 0., 0., 0., 0., 0., 0., 0., 0., 0., 0.],\n",
      "        [0., 0., 0., 0., 0., 0., 1., 0., 0., 0., 0., 0., 0., 0., 0., 0., 0., 0.],\n",
      "        [0., 0., 0., 0., 0., 0., 0., 1., 0., 0., 0., 0., 0., 0., 0., 0., 0., 0.],\n",
      "        [0., 0., 0., 0., 0., 0., 0., 0., 1., 0., 0., 0., 0., 0., 0., 0., 0., 0.],\n",
      "        [0., 0., 0., 0., 0., 0., 0., 0., 0., 1., 0., 0., 0., 0., 0., 0., 0., 0.],\n",
      "        [0., 0., 0., 0., 0., 0., 0., 0., 0., 0., 1., 0., 0., 0., 0., 0., 0., 0.],\n",
      "        [0., 0., 0., 0., 0., 0., 0., 0., 0., 0., 0., 1., 0., 0., 0., 0., 0., 0.],\n",
      "        [0., 0., 0., 0., 0., 0., 0., 0., 0., 0., 0., 0., 1., 0., 0., 0., 0., 0.],\n",
      "        [0., 0., 0., 0., 0., 0., 0., 0., 0., 0., 0., 0., 0., 1., 0., 0., 0., 0.],\n",
      "        [0., 0., 0., 0., 0., 0., 0., 0., 0., 0., 0., 0., 0., 0., 1., 0., 0., 0.],\n",
      "        [0., 0., 0., 0., 0., 0., 0., 0., 0., 0., 0., 0., 0., 0., 0., 1., 0., 0.],\n",
      "        [0., 0., 0., 0., 0., 0., 0., 0., 0., 0., 0., 0., 0., 0., 0., 0., 1., 0.],\n",
      "        [0., 0., 0., 0., 0., 0., 0., 0., 0., 0., 0., 0., 0., 0., 0., 0., 0., 1.]])\n"
     ]
    }
   ],
   "source": [
    "print(tensor)"
   ],
   "metadata": {
    "collapsed": false,
    "ExecuteTime": {
     "end_time": "2023-12-03T15:36:30.315911883Z",
     "start_time": "2023-12-03T15:36:30.285523722Z"
    }
   },
   "id": "c66b927a678cfdf8"
  },
  {
   "cell_type": "code",
   "execution_count": null,
   "outputs": [],
   "source": [],
   "metadata": {
    "collapsed": false
   },
   "id": "2f05b9a90590655b"
  }
 ],
 "metadata": {
  "kernelspec": {
   "display_name": "Python 3",
   "language": "python",
   "name": "python3"
  },
  "language_info": {
   "codemirror_mode": {
    "name": "ipython",
    "version": 2
   },
   "file_extension": ".py",
   "mimetype": "text/x-python",
   "name": "python",
   "nbconvert_exporter": "python",
   "pygments_lexer": "ipython2",
   "version": "2.7.6"
  }
 },
 "nbformat": 4,
 "nbformat_minor": 5
}
