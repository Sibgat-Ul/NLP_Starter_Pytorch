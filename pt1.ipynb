{
 "cells": [
  {
   "cell_type": "code",
   "execution_count": 1,
   "outputs": [],
   "source": [
    "import torch\n",
    "import torch.nn as nn\n",
    "import torch.nn.functional as F\n",
    "import torch.optim as optim\n",
    "import torchdata\n",
    "from torchtext.prototype.generate import GenerationUtils\n",
    "from torchtext.models import T5Transform\n",
    "from torchtext.transforms import SentencePieceTokenizer\n",
    "torch.device('cuda')\n",
    "\n",
    "from io import open\n",
    "import glob\n",
    "import os"
   ],
   "metadata": {
    "collapsed": false,
    "ExecuteTime": {
     "end_time": "2023-12-03T14:26:54.970683719Z",
     "start_time": "2023-12-03T14:26:53.219231316Z"
    }
   },
   "id": "ee6a8e00cced0ab4"
  },
  {
   "cell_type": "code",
   "execution_count": 2,
   "outputs": [
    {
     "data": {
      "text/plain": "0"
     },
     "execution_count": 2,
     "metadata": {},
     "output_type": "execute_result"
    }
   ],
   "source": [],
   "metadata": {
    "collapsed": false,
    "ExecuteTime": {
     "end_time": "2023-12-03T14:26:56.588855318Z",
     "start_time": "2023-12-03T14:26:56.566590124Z"
    }
   },
   "id": "2da76fc213a9642"
  },
  {
   "cell_type": "code",
   "execution_count": 3,
   "outputs": [
    {
     "name": "stdout",
     "output_type": "stream",
     "text": [
      "['data/names/Arabic.txt', 'data/names/Chinese.txt', 'data/names/Czech.txt', 'data/names/Dutch.txt', 'data/names/English.txt', 'data/names/French.txt', 'data/names/German.txt', 'data/names/Greek.txt', 'data/names/Irish.txt', 'data/names/Italian.txt', 'data/names/Japanese.txt', 'data/names/Korean.txt', 'data/names/Polish.txt', 'data/names/Portuguese.txt', 'data/names/Russian.txt', 'data/names/Scottish.txt', 'data/names/Spanish.txt', 'data/names/Vietnamese.txt']\n",
      "abcdefghijklmnopqrstuvwxyzABCDEFGHIJKLMNOPQRSTUVWXYZ .,;'\n"
     ]
    }
   ],
   "source": [
    "def findFiles(path): \n",
    "    return glob.glob(path)\n",
    "print(findFiles('data/names/*.txt'))\n",
    "\n",
    "import unicodedata\n",
    "import string\n",
    "\n",
    "all_letters = string.ascii_letters + \" .,;'\"\n",
    "n_letters = len(all_letters)\n",
    "print(all_letters)"
   ],
   "metadata": {
    "collapsed": false,
    "ExecuteTime": {
     "end_time": "2023-12-03T14:26:56.933241179Z",
     "start_time": "2023-12-03T14:26:56.907812882Z"
    }
   },
   "id": "487738e7066f81dc"
  },
  {
   "cell_type": "code",
   "execution_count": 4,
   "outputs": [],
   "source": [
    "def unicodeToAscii(s):\n",
    "    return ''.join(c for c in unicodedata.normalize('NFD', s)\n",
    "            if unicodedata.category(c) != 'Mn'\n",
    "                   and c in all_letters\n",
    "    )"
   ],
   "metadata": {
    "collapsed": false,
    "ExecuteTime": {
     "end_time": "2023-12-03T14:26:57.999088521Z",
     "start_time": "2023-12-03T14:26:57.993559310Z"
    }
   },
   "id": "560caba9bf49b02d"
  },
  {
   "cell_type": "code",
   "execution_count": 5,
   "outputs": [
    {
     "name": "stdout",
     "output_type": "stream",
     "text": [
      "Slusarski\n"
     ]
    }
   ],
   "source": [
    "print(unicodeToAscii('Ślusàrski'))"
   ],
   "metadata": {
    "collapsed": false,
    "ExecuteTime": {
     "end_time": "2023-12-03T14:26:58.596389752Z",
     "start_time": "2023-12-03T14:26:58.593481718Z"
    }
   },
   "id": "264256073a047ba0"
  },
  {
   "cell_type": "code",
   "execution_count": 6,
   "outputs": [],
   "source": [
    "category_lines = {}\n",
    "all_categories = []\n",
    "\n",
    "def readline(fname):\n",
    "    lines = open(fname, encoding='utf-8').read().strip().split('\\n')\n",
    "    return [unicodeToAscii(line) for line in lines]\n",
    "\n",
    "for fname in findFiles('data/names/*.txt'):\n",
    "    category = os.path.splitext(os.path.basename(fname))[0]\n",
    "    all_categories.append(category)\n",
    "    lines = readline(fname)\n",
    "    category_lines[category] = lines\n",
    "\n",
    "n_categories = len(all_categories)"
   ],
   "metadata": {
    "collapsed": false,
    "ExecuteTime": {
     "end_time": "2023-12-03T14:27:00.796975070Z",
     "start_time": "2023-12-03T14:27:00.733412622Z"
    }
   },
   "id": "934b68f7f43dfb09"
  },
  {
   "cell_type": "code",
   "execution_count": 7,
   "outputs": [
    {
     "name": "stdout",
     "output_type": "stream",
     "text": [
      "['Abandonato', 'Abatangelo', 'Abatantuono', 'Abate', 'Abategiovanni']\n"
     ]
    }
   ],
   "source": [
    "print(category_lines['Italian'][:5])"
   ],
   "metadata": {
    "collapsed": false,
    "ExecuteTime": {
     "end_time": "2023-12-03T14:27:01.519051429Z",
     "start_time": "2023-12-03T14:27:01.497480492Z"
    }
   },
   "id": "b19931008f740e09"
  },
  {
   "cell_type": "code",
   "execution_count": 8,
   "outputs": [],
   "source": [
    "def letterToIndex(letter):\n",
    "    return all_letters.find(letter)\n",
    "\n",
    "def letterToTensor(letter):\n",
    "    tensor = torch.zeros(1, n_letters, device='cuda')\n",
    "    letter_index = letterToIndex(letter)\n",
    "    tensor[0][letter_index] = 1\n",
    "    return tensor\n",
    "# line = name, category = language\n",
    "def lineToTensor(line):\n",
    "    tensor = torch.zeros(len(line), 1, n_letters, device='cuda')\n",
    "    for li, letter in enumerate(line):\n",
    "        tensor[li][0][letterToIndex(letter)] = 1\n",
    "    return tensor"
   ],
   "metadata": {
    "collapsed": false,
    "ExecuteTime": {
     "end_time": "2023-12-03T14:27:10.073331646Z",
     "start_time": "2023-12-03T14:27:10.052242886Z"
    }
   },
   "id": "6cb5ac008111de58"
  },
  {
   "cell_type": "code",
   "execution_count": 9,
   "outputs": [
    {
     "name": "stdout",
     "output_type": "stream",
     "text": [
      "torch.Size([5, 1, 57])\n"
     ]
    }
   ],
   "source": [
    "print(lineToTensor('Jonas').size())"
   ],
   "metadata": {
    "collapsed": false,
    "ExecuteTime": {
     "end_time": "2023-12-03T14:27:10.696107814Z",
     "start_time": "2023-12-03T14:27:10.600834721Z"
    }
   },
   "id": "6b71b9c57ca56354"
  },
  {
   "cell_type": "code",
   "execution_count": 10,
   "outputs": [],
   "source": [
    "# Creating the RNN\n",
    "class RNN(nn.Module):\n",
    "    def __init__(self, input_size, hidden_layers, output_size):\n",
    "        super(RNN, self).__init__()\n",
    "        with torch.device('cuda'):\n",
    "            self.layers = hidden_layers\n",
    "            \n",
    "            self.fc1 = nn.Linear(input_size+hidden_layers, hidden_layers)\n",
    "            self.act1 = nn.LeakyReLU()\n",
    "            self.fc2 = nn.Linear(hidden_layers, 256)\n",
    "            self.act2 = nn.LeakyReLU()\n",
    "            self.output = nn.Linear(256, output_size)\n",
    "            self.act3 = nn.LeakyReLU()\n",
    "            self.softmax = nn.LogSoftmax(1)\n",
    "    \n",
    "    def forward(self, inp, hidden):\n",
    "        with torch.device('cuda'):\n",
    "            x = torch.cat((inp, hidden), 1)\n",
    "            x = hidden = self.fc1(x)\n",
    "            x = self.act1(x)\n",
    "            x = self.fc2(x)\n",
    "            x = self.act2(x)\n",
    "            x = self.output(x)\n",
    "            x = self.act3(x)\n",
    "            x = self.softmax(x)\n",
    "        return x, hidden\n",
    "    \n",
    "    def initHidden(self):\n",
    "        return torch.zeros(1, self.layers, device='cuda')\n",
    "\n"
   ],
   "metadata": {
    "collapsed": false,
    "ExecuteTime": {
     "end_time": "2023-12-03T14:27:12.046700720Z",
     "start_time": "2023-12-03T14:27:12.030320586Z"
    }
   },
   "id": "549a53288fed950a"
  },
  {
   "cell_type": "code",
   "execution_count": 11,
   "outputs": [
    {
     "name": "stdout",
     "output_type": "stream",
     "text": [
      "57 512 18\n"
     ]
    }
   ],
   "source": [
    "n_hidden = 512\n",
    "print(n_letters, n_hidden, n_categories)\n",
    "rnn = RNN(n_letters, n_hidden, n_categories).to('cuda')"
   ],
   "metadata": {
    "collapsed": false,
    "ExecuteTime": {
     "end_time": "2023-12-03T14:27:15.719757279Z",
     "start_time": "2023-12-03T14:27:15.699434665Z"
    }
   },
   "id": "d4fb56d3aa6fa3be"
  },
  {
   "cell_type": "code",
   "execution_count": 12,
   "outputs": [
    {
     "name": "stdout",
     "output_type": "stream",
     "text": [
      "tensor([[-2.9097, -2.8887, -2.8867, -2.8685, -2.8688, -2.9098, -2.8363, -2.9097,\n",
      "         -2.9097, -2.8648, -2.8690, -2.8988, -2.9019, -2.8704, -2.9095, -2.9096,\n",
      "         -2.9095, -2.9096]], device='cuda:0', grad_fn=<LogSoftmaxBackward0>)\n"
     ]
    }
   ],
   "source": [
    "inp = lineToTensor('Jonas')\n",
    "hidd = torch.zeros(1, n_hidden, device='cuda')\n",
    "\n",
    "output, next_hidd = rnn(inp[0], hidd)\n",
    "print(output)"
   ],
   "metadata": {
    "collapsed": false,
    "ExecuteTime": {
     "end_time": "2023-12-03T14:27:16.376817067Z",
     "start_time": "2023-12-03T14:27:16.240019092Z"
    }
   },
   "id": "83754c7527860137"
  },
  {
   "cell_type": "code",
   "execution_count": 13,
   "outputs": [
    {
     "name": "stdout",
     "output_type": "stream",
     "text": [
      "('German', 6)\n"
     ]
    }
   ],
   "source": [
    "def categoryFromOutput(output):\n",
    "    top_n, top_i = output.topk(1)\n",
    "    category_i = top_i[0].item()\n",
    "    return all_categories[category_i], category_i\n",
    "\n",
    "print(categoryFromOutput(output))"
   ],
   "metadata": {
    "collapsed": false,
    "ExecuteTime": {
     "end_time": "2023-12-03T14:27:19.948697024Z",
     "start_time": "2023-12-03T14:27:19.919526667Z"
    }
   },
   "id": "49af387deabe1519"
  },
  {
   "cell_type": "code",
   "execution_count": 14,
   "outputs": [
    {
     "name": "stdout",
     "output_type": "stream",
     "text": [
      "('German', 6)\n"
     ]
    }
   ],
   "source": [
    "print(categoryFromOutput(output))"
   ],
   "metadata": {
    "collapsed": false,
    "ExecuteTime": {
     "end_time": "2023-12-03T14:27:20.327584005Z",
     "start_time": "2023-12-03T14:27:20.323635656Z"
    }
   },
   "id": "db2196700f180573"
  },
  {
   "cell_type": "code",
   "execution_count": 15,
   "outputs": [],
   "source": [
    "import random\n",
    "\n",
    "def randomChoice(n):\n",
    "    return n[random.randint(0, len(n)-1)]\n",
    "\n",
    "def randomTrainingExample():\n",
    "    category = randomChoice(all_categories)\n",
    "    line = randomChoice(category_lines[category])\n",
    "    \n",
    "    categoryTensor = torch.LongTensor([all_categories.index(category)]).to('cuda')\n",
    "    line_tensor = lineToTensor(line)\n",
    "    return category, line, categoryTensor, line_tensor"
   ],
   "metadata": {
    "collapsed": false,
    "ExecuteTime": {
     "end_time": "2023-12-03T14:27:21.493399937Z",
     "start_time": "2023-12-03T14:27:21.474366576Z"
    }
   },
   "id": "49b3219a8e0f1c40"
  },
  {
   "cell_type": "code",
   "execution_count": 16,
   "outputs": [
    {
     "name": "stdout",
     "output_type": "stream",
     "text": [
      "Greek Kreskas\n",
      "Greek Patselas\n",
      "German Schneider\n",
      "Arabic Maroun\n",
      "Vietnamese Le\n",
      "Arabic Khoury\n",
      "Vietnamese Quyen\n",
      "Arabic Haik\n",
      "French Deniel\n",
      "Irish Desmond\n"
     ]
    }
   ],
   "source": [
    "for i in range(10):\n",
    "    category, line, categoryTensor, line_tensor = randomTrainingExample()\n",
    "    print(category, line)"
   ],
   "metadata": {
    "collapsed": false,
    "ExecuteTime": {
     "end_time": "2023-12-03T14:27:23.731653208Z",
     "start_time": "2023-12-03T14:27:23.677140743Z"
    }
   },
   "id": "21cf938362771a6a"
  },
  {
   "cell_type": "code",
   "execution_count": 16,
   "outputs": [],
   "source": [
    "loss_f = nn.NLLLoss()\n",
    "lr = 0.015\n",
    "optimizer = optim.AdamW(rnn.parameters(), lr=lr)\n",
    "\n",
    "class EarlyStopper:\n",
    "    def __init__(self, patience=1, min_delta=0):\n",
    "        self.patience = patience\n",
    "        self.min_delta = min_delta\n",
    "        self.counter = 0\n",
    "        self.min_validation_loss = float('inf')\n",
    "        self.last_validation_loss = None\n",
    "        self.model = None\n",
    "    \n",
    "    def get_model(self):\n",
    "        return self.model\n",
    "    \n",
    "    def save_model(self, model):\n",
    "        self.model = model\n",
    "        \n",
    "    def early_stop(self, validation_loss, model):\n",
    "        try:\n",
    "            int(validation_loss)\n",
    "            if validation_loss < self.min_validation_loss:\n",
    "                self.save_model(model)\n",
    "                self.min_validation_loss = validation_loss\n",
    "                self.counter = 0\n",
    "            elif validation_loss > (self.min_validation_loss + self.min_delta):\n",
    "                self.counter += 1\n",
    "                if self.counter >= self.patience:\n",
    "                    return True\n",
    "            return False\n",
    "        except ValueError:\n",
    "            return True\n",
    "        \n",
    "def train(category_tensor, line_tensor):\n",
    "    hidden = rnn.initHidden()\n",
    "    output = None\n",
    "    \n",
    "    rnn.zero_grad()\n",
    "    for i in range(line_tensor.size()[0]):\n",
    "        output, hidden = rnn(line_tensor[i], hidden)\n",
    "        \n",
    "    loss = loss_f(output, category_tensor)\n",
    "    loss.backward()\n",
    "    \n",
    "    for p in rnn.parameters():\n",
    "        p.data.add_(p.grad.data, alpha=-lr)\n",
    "    \n",
    "    return output, loss.item()"
   ],
   "metadata": {
    "collapsed": false,
    "ExecuteTime": {
     "end_time": "2023-11-17T06:27:09.566773949Z",
     "start_time": "2023-11-17T06:27:09.381701640Z"
    }
   },
   "id": "323b0678b0b766be"
  },
  {
   "cell_type": "code",
   "execution_count": 17,
   "outputs": [
    {
     "name": "stdout",
     "output_type": "stream",
     "text": [
      "1000 1% (0m 2s) 2.9039 Xing / Polish ✗ (Chinese)\n",
      "2000 2% (0m 6s) 2.8455 Hofwegen / Spanish ✗ (Dutch)\n",
      "3000 3% (0m 9s) 2.9138 Clay / Spanish ✗ (English)\n",
      "4000 4% (0m 12s) 2.9417 Bradach / Italian ✗ (Irish)\n",
      "5000 5% (0m 15s) 3.0023 Herback / Japanese ✗ (Czech)\n",
      "6000 6% (0m 18s) 2.5117 Planick / Polish ✗ (Czech)\n",
      "7000 7% (0m 21s) 2.9796 Trnkova / Italian ✗ (Czech)\n",
      "8000 8% (0m 25s) 3.2065 O'Ryan / Korean ✗ (Irish)\n",
      "9000 9% (0m 28s) 4.1755 Ajdrna / Japanese ✗ (Czech)\n",
      "10000 10% (0m 32s) 2.6763 Rios / Greek ✗ (Portuguese)\n",
      "11000 11% (0m 35s) 1.4292 Lauwens / Dutch ✓\n",
      "12000 12% (0m 38s) 1.0978 Zeng / Chinese ✓\n",
      "13000 13% (0m 42s) 4.1586 Andringa / Czech ✗ (Dutch)\n",
      "14000 14% (0m 45s) 1.3222 Paidyshev / Dutch ✗ (Russian)\n",
      "15000 15% (0m 48s) 1.2812 Shiba / Japanese ✓\n",
      "16000 16% (0m 52s) 2.5883 Ruiz / Korean ✗ (Spanish)\n",
      "17000 17% (0m 55s) 0.6071 Petri / Italian ✓\n",
      "18000 18% (0m 58s) 1.3291 Antar / Arabic ✓\n",
      "19000 19% (1m 61s) 4.5462 Close / French ✗ (Greek)\n",
      "20000 20% (1m 64s) 1.9712 Chu / Korean ✗ (Vietnamese)\n",
      "21000 21% (1m 68s) 1.3469 Koo / Korean ✗ (Chinese)\n",
      "22000 22% (1m 71s) 1.0881 Albrici / Italian ✓\n",
      "23000 23% (1m 74s) 2.3273 Kesl / German ✗ (Czech)\n",
      "24000 24% (1m 77s) 1.8280 Klerx / Dutch ✓\n",
      "25000 25% (1m 81s) 1.5119 Lama / Italian ✓\n",
      "26000 26% (1m 84s) 0.0929 Assaf / Arabic ✓\n",
      "27000 27% (1m 88s) 1.9491 Hirase / Arabic ✗ (Japanese)\n",
      "28000 28% (1m 91s) 1.4262 Trinh / Vietnamese ✓\n",
      "29000 28% (1m 94s) 2.1131 Oaks / Dutch ✗ (English)\n",
      "30000 30% (1m 97s) 0.1427 Luong / Vietnamese ✓\n",
      "31000 31% (1m 100s) 1.4271 Costa / Spanish ✗ (Italian)\n",
      "32000 32% (1m 103s) 1.7772 Antar / French ✗ (Arabic)\n",
      "33000 33% (1m 106s) 1.5816 Verona / Spanish ✗ (Italian)\n",
      "34000 34% (1m 109s) 1.3270 Jaeger / German ✓\n",
      "35000 35% (1m 112s) 0.8638 Gomes / Portuguese ✓\n",
      "36000 36% (1m 116s) 0.1716 Mateus / Portuguese ✓\n",
      "37000 37% (1m 119s) 1.5231 Bohm / German ✓\n",
      "38000 38% (2m 122s) 4.0559 Denis / Portuguese ✗ (French)\n",
      "39000 39% (2m 125s) 2.1130 Shim / Chinese ✗ (Korean)\n",
      "40000 40% (2m 129s) 0.2596 Morrison / Scottish ✓\n",
      "41000 41% (2m 132s) 0.9808 Mordkin / Russian ✓\n",
      "42000 42% (2m 135s) 4.8451 V'Yun / Korean ✗ (Russian)\n",
      "43000 43% (2m 138s) 1.7141 Kozlow / Polish ✓\n",
      "44000 44% (2m 142s) 0.2953 Thi / Vietnamese ✓\n",
      "45000 45% (2m 145s) 8.3216 Von grimmelshausen / Greek ✗ (German)\n",
      "46000 46% (2m 148s) 0.3962 Quang / Vietnamese ✓\n",
      "47000 47% (2m 151s) 0.2840 Kotoku / Japanese ✓\n",
      "48000 48% (2m 154s) 2.0675 Bahchivandji / Italian ✗ (Russian)\n",
      "49000 49% (2m 157s) 2.1117 Giolla / Spanish ✗ (Irish)\n",
      "50000 50% (2m 161s) 0.6888 Zheng / Chinese ✓\n",
      "51000 51% (2m 164s) 0.3719 Noh / Korean ✓\n",
      "52000 52% (2m 167s) 0.5567 Dubanowski / Polish ✓\n",
      "Early stopping\n"
     ]
    }
   ],
   "source": [
    "import time, math\n",
    "\n",
    "n_iters = 100000\n",
    "print_every = 1000\n",
    "plot_every = 500\n",
    "\n",
    "current_loss = -math.inf\n",
    "all_losses = []\n",
    "\n",
    "def timeStart(since):\n",
    "    now = time.time()\n",
    "    s = now - since\n",
    "    m = math.floor(s/60)\n",
    "    return '%dm %ds' % (m,s)\n",
    "\n",
    "start = time.time()\n",
    "earlyStop = EarlyStopper(patience=30000, min_delta=0.0001)\n",
    "\n",
    "for iter in range(1, n_iters+1):\n",
    "    with torch.device('cuda'):\n",
    "        category, line, category_tensor, line_tensor = randomTrainingExample()\n",
    "        output, loss = train(category_tensor, line_tensor)\n",
    "        \n",
    "        current_loss += loss\n",
    "        \n",
    "        if iter % print_every == 0:\n",
    "            guess, guess_i = categoryFromOutput(output)\n",
    "            correct = '✓' if guess == category else '✗ (%s)' % category\n",
    "            print('%d %d%% (%s) %.4f %s / %s %s' % (iter, iter / n_iters * 100, timeStart(start), loss, line, guess, correct))\n",
    "    \n",
    "        if iter % plot_every == 0:\n",
    "            all_losses.append(current_loss / plot_every)\n",
    "            current_loss = 0\n",
    "        \n",
    "        decide = earlyStop.early_stop(loss, rnn)\n",
    "        if decide:\n",
    "            print('Early stopping')\n",
    "            break"
   ],
   "metadata": {
    "collapsed": false,
    "ExecuteTime": {
     "end_time": "2023-11-17T06:29:59.943426452Z",
     "start_time": "2023-11-17T06:27:09.570427091Z"
    }
   },
   "id": "ec8fabe88e739f76"
  },
  {
   "cell_type": "code",
   "execution_count": 24,
   "outputs": [],
   "source": [
    "rnn2 = earlyStop.get_model()\n",
    "# Just return an output given a line\n",
    "def evaluate(rnn, line_tensor):\n",
    "    hidden = rnn.initHidden()\n",
    "\n",
    "    for i in range(line_tensor.size()[0]):\n",
    "        output, hidden = rnn(line_tensor[i], hidden)\n",
    "\n",
    "    return output"
   ],
   "metadata": {
    "collapsed": false,
    "ExecuteTime": {
     "end_time": "2023-11-17T06:32:33.560986459Z",
     "start_time": "2023-11-17T06:32:33.557555166Z"
    }
   },
   "id": "bbb64220845213eb"
  },
  {
   "cell_type": "code",
   "execution_count": 19,
   "outputs": [
    {
     "data": {
      "text/plain": "[<matplotlib.lines.Line2D at 0x7fc58fe20d10>]"
     },
     "execution_count": 19,
     "metadata": {},
     "output_type": "execute_result"
    },
    {
     "data": {
      "text/plain": "<Figure size 640x480 with 1 Axes>",
      "image/png": "[encoded data removed]"
     },
     "metadata": {},
     "output_type": "display_data"
    }
   ],
   "source": [
    "import matplotlib.pyplot as plt\n",
    "import matplotlib.ticker as ticker\n",
    "\n",
    "plt.figure()\n",
    "plt.plot(all_losses)"
   ],
   "metadata": {
    "collapsed": false,
    "ExecuteTime": {
     "end_time": "2023-11-17T06:31:29.164389092Z",
     "start_time": "2023-11-17T06:31:28.884446896Z"
    }
   },
   "id": "a0a8c2c8721a7783"
  },
  {
   "cell_type": "code",
   "execution_count": 25,
   "outputs": [
    {
     "name": "stderr",
     "output_type": "stream",
     "text": [
      "/tmp/ipykernel_10102/3690815102.py:26: UserWarning: FixedFormatter should only be used together with FixedLocator\n",
      "  ax.set_xticklabels([''] + all_categories, rotation=90)\n",
      "/tmp/ipykernel_10102/3690815102.py:27: UserWarning: FixedFormatter should only be used together with FixedLocator\n",
      "  ax.set_yticklabels([''] + all_categories)\n"
     ]
    },
    {
     "data": {
      "text/plain": "<Figure size 640x480 with 2 Axes>",
      "image/png": "[encoded data removed]"
     },
     "metadata": {},
     "output_type": "display_data"
    }
   ],
   "source": [
    "# Keep track of correct guesses in a confusion matrix\n",
    "confusion = torch.zeros(n_categories, n_categories)\n",
    "n_confusion = 10000\n",
    "\n",
    "\n",
    "\n",
    "# Go through a bunch of examples and record which are correctly guessed\n",
    "for i in range(n_confusion):\n",
    "    category, line, category_tensor, line_tensor = randomTrainingExample()\n",
    "    output = evaluate(rnn2, line_tensor)\n",
    "    guess, guess_i = categoryFromOutput(output)\n",
    "    category_i = all_categories.index(category)\n",
    "    confusion[category_i][guess_i] += 1\n",
    "\n",
    "# Normalize by dividing every row by its sum\n",
    "for i in range(n_categories):\n",
    "    confusion[i] = confusion[i] / confusion[i].sum()\n",
    "\n",
    "# Set up plot\n",
    "fig = plt.figure()\n",
    "ax = fig.add_subplot(111)\n",
    "cax = ax.matshow(confusion.numpy())\n",
    "fig.colorbar(cax)\n",
    "\n",
    "# Set up axes\n",
    "ax.set_xticklabels([''] + all_categories, rotation=90)\n",
    "ax.set_yticklabels([''] + all_categories)\n",
    "\n",
    "# Force label at every tick\n",
    "ax.xaxis.set_major_locator(ticker.MultipleLocator(1))\n",
    "ax.yaxis.set_major_locator(ticker.MultipleLocator(1))\n",
    "\n",
    "# sphinx_gallery_thumbnail_number = 2\n",
    "plt.show()"
   ],
   "metadata": {
    "collapsed": false,
    "ExecuteTime": {
     "end_time": "2023-11-17T06:32:57.952349673Z",
     "start_time": "2023-11-17T06:32:35.887425306Z"
    }
   },
   "id": "3b3e9b3ce0918e18"
  },
  {
   "cell_type": "code",
   "execution_count": 26,
   "outputs": [],
   "source": [
    "def predict(input_line, n_predictions=3):\n",
    "    print('\\n%s' % input_line)\n",
    "    with torch.no_grad():\n",
    "        output = evaluate(lineToTensor(input_line))\n",
    "\n",
    "        # Get top N categories\n",
    "        topv, topi = output.topk(n_predictions, 1, True)\n",
    "        predictions = []\n",
    "\n",
    "        for i in range(n_predictions):\n",
    "            value = topv[0][i].item()\n",
    "            category_index = topi[0][i].item()\n",
    "            predictions.append([value, all_categories[category_index]])\n",
    "        \n",
    "        print(predictions[0][1])"
   ],
   "metadata": {
    "collapsed": false,
    "ExecuteTime": {
     "end_time": "2023-11-17T06:32:57.952525682Z",
     "start_time": "2023-11-17T06:32:57.886428159Z"
    }
   },
   "id": "cbe883274ed7e80e"
  },
  {
   "cell_type": "code",
   "execution_count": 27,
   "outputs": [
    {
     "name": "stdout",
     "output_type": "stream",
     "text": [
      "\n",
      "Touka\n"
     ]
    },
    {
     "ename": "TypeError",
     "evalue": "evaluate() missing 1 required positional argument: 'line_tensor'",
     "output_type": "error",
     "traceback": [
      "\u001B[0;31m---------------------------------------------------------------------------\u001B[0m",
      "\u001B[0;31mTypeError\u001B[0m                                 Traceback (most recent call last)",
      "Cell \u001B[0;32mIn[27], line 1\u001B[0m\n\u001B[0;32m----> 1\u001B[0m predict(\u001B[38;5;124m'\u001B[39m\u001B[38;5;124mTouka\u001B[39m\u001B[38;5;124m'\u001B[39m)\n",
      "Cell \u001B[0;32mIn[26], line 4\u001B[0m, in \u001B[0;36mpredict\u001B[0;34m(input_line, n_predictions)\u001B[0m\n\u001B[1;32m      2\u001B[0m \u001B[38;5;28mprint\u001B[39m(\u001B[38;5;124m'\u001B[39m\u001B[38;5;130;01m\\n\u001B[39;00m\u001B[38;5;132;01m%s\u001B[39;00m\u001B[38;5;124m'\u001B[39m \u001B[38;5;241m%\u001B[39m input_line)\n\u001B[1;32m      3\u001B[0m \u001B[38;5;28;01mwith\u001B[39;00m torch\u001B[38;5;241m.\u001B[39mno_grad():\n\u001B[0;32m----> 4\u001B[0m     output \u001B[38;5;241m=\u001B[39m evaluate(lineToTensor(input_line))\n\u001B[1;32m      6\u001B[0m     \u001B[38;5;66;03m# Get top N categories\u001B[39;00m\n\u001B[1;32m      7\u001B[0m     topv, topi \u001B[38;5;241m=\u001B[39m output\u001B[38;5;241m.\u001B[39mtopk(n_predictions, \u001B[38;5;241m1\u001B[39m, \u001B[38;5;28;01mTrue\u001B[39;00m)\n",
      "\u001B[0;31mTypeError\u001B[0m: evaluate() missing 1 required positional argument: 'line_tensor'"
     ]
    }
   ],
   "source": [
    "predict('Touka')"
   ],
   "metadata": {
    "collapsed": false,
    "ExecuteTime": {
     "end_time": "2023-11-17T06:32:57.952709522Z",
     "start_time": "2023-11-17T06:32:57.886553788Z"
    }
   },
   "id": "b087a7263cb635b7"
  },
  {
   "cell_type": "code",
   "execution_count": null,
   "outputs": [],
   "source": [],
   "metadata": {
    "collapsed": false,
    "ExecuteTime": {
     "start_time": "2023-11-17T06:30:00.314688574Z"
    }
   },
   "id": "31ae1240592ca1ff"
  }
 ],
 "metadata": {
  "kernelspec": {
   "display_name": "Python 3",
   "language": "python",
   "name": "python3"
  },
  "language_info": {
   "codemirror_mode": {
    "name": "ipython",
    "version": 2
   },
   "file_extension": ".py",
   "mimetype": "text/x-python",
   "name": "python",
   "nbconvert_exporter": "python",
   "pygments_lexer": "ipython2",
   "version": "2.7.6"
  }
 },
 "nbformat": 4,
 "nbformat_minor": 5
}
