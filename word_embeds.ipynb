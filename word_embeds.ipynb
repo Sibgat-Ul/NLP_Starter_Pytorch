{
 "cells": [
  {
   "cell_type": "code",
   "execution_count": 1,
   "id": "initial_id",
   "metadata": {
    "collapsed": true,
    "ExecuteTime": {
     "end_time": "2023-12-11T03:55:44.279744284Z",
     "start_time": "2023-12-11T03:55:42.849256411Z"
    }
   },
   "outputs": [],
   "source": [
    "import torch\n",
    "import torch.nn as nn\n",
    "\n",
    "import torch.optim as optimz\n",
    "from torch.nn.modules.module import T\n",
    "from torch.utils.data import Dataset, DataLoader, TensorDataset\n",
    "from torch.distributions.uniform import Uniform\n",
    "\n",
    "import pandas as pd\n",
    "import matplotlib.pyplot as plt\n",
    "import seaborn as sns\n",
    "\n",
    "import warnings\n",
    "warnings.filterwarnings('ignore')"
   ]
  },
  {
   "cell_type": "code",
   "execution_count": 2,
   "outputs": [],
   "source": [
    "text1 = 'Troll2 is great!'\n",
    "text2 = 'Gymkata is great!'\n",
    "\n",
    "corpus = list(set(text1.split(' ') + text2.split()))"
   ],
   "metadata": {
    "collapsed": false,
    "ExecuteTime": {
     "end_time": "2023-12-11T03:55:44.282578140Z",
     "start_time": "2023-12-11T03:55:44.280019763Z"
    }
   },
   "id": "d83ed86b3a683bf3"
  },
  {
   "cell_type": "code",
   "execution_count": 3,
   "outputs": [
    {
     "name": "stdout",
     "output_type": "stream",
     "text": [
      "['great!', 'Gymkata', 'is', 'Troll2']\n"
     ]
    }
   ],
   "source": [
    "print(corpus)"
   ],
   "metadata": {
    "collapsed": false,
    "ExecuteTime": {
     "end_time": "2023-12-11T03:55:44.340994146Z",
     "start_time": "2023-12-11T03:55:44.283025908Z"
    }
   },
   "id": "44dec70db11a88c6"
  },
  {
   "cell_type": "code",
   "execution_count": 4,
   "outputs": [],
   "source": [
    "def oheText(text, corpus):\n",
    "    text_arr = text.split(' ')\n",
    "    text_len = len(text_arr)\n",
    "    textOhe = [[0 for _ in range(4)] for _ in range(len(corpus))] \n",
    "    l_i = 0\n",
    "    \n",
    "    for i, t in enumerate(text_arr):\n",
    "        word_ohe = textOhe[i]\n",
    "        for j, c in enumerate(corpus):\n",
    "            if c == t:\n",
    "                word_ohe[j] = 1\n",
    "        l_i = i\n",
    "    \n",
    "    st_ii = (text_len - l_i) \n",
    "    st_i = l_i + st_ii \n",
    "    \n",
    "    textOhe[st_i] = textOhe[st_ii-1]\n",
    "     \n",
    "    return torch.Tensor(textOhe)\n",
    "\n",
    "\n",
    "def targetOhe(text_ohe):\n",
    "    target_ohe = [[] for _ in range(4)]\n",
    "    \n",
    "    for i, ohe in enumerate(text_ohe):\n",
    "        j = i+1\n",
    "        if j > len(text_ohe)-1:\n",
    "            j = j % 3\n",
    "        target_ohe[i] = text_ohe[j] \n",
    "    \n",
    "    return target_ohe"
   ],
   "metadata": {
    "collapsed": false,
    "ExecuteTime": {
     "end_time": "2023-12-11T03:55:44.412272681Z",
     "start_time": "2023-12-11T03:55:44.296378126Z"
    }
   },
   "id": "28de91164af38b23"
  },
  {
   "cell_type": "code",
   "execution_count": 5,
   "outputs": [
    {
     "ename": "TypeError",
     "evalue": "can't assign a list to a torch.FloatTensor",
     "output_type": "error",
     "traceback": [
      "\u001B[0;31m---------------------------------------------------------------------------\u001B[0m",
      "\u001B[0;31mTypeError\u001B[0m                                 Traceback (most recent call last)",
      "Cell \u001B[0;32mIn[5], line 2\u001B[0m\n\u001B[1;32m      1\u001B[0m text1_ohe \u001B[38;5;241m=\u001B[39m oheText(text1, corpus)\n\u001B[0;32m----> 2\u001B[0m text1_ohe[\u001B[38;5;241m3\u001B[39m] \u001B[38;5;241m=\u001B[39m [\u001B[38;5;241m1\u001B[39m, \u001B[38;5;241m0\u001B[39m, \u001B[38;5;241m0\u001B[39m, \u001B[38;5;241m0\u001B[39m]\n\u001B[1;32m      3\u001B[0m label \u001B[38;5;241m=\u001B[39m targetOhe(text1_ohe)\n\u001B[1;32m      4\u001B[0m text2_ohe \u001B[38;5;241m=\u001B[39m oheText(text2, corpus)\n",
      "\u001B[0;31mTypeError\u001B[0m: can't assign a list to a torch.FloatTensor"
     ]
    }
   ],
   "source": [
    "text1_ohe = oheText(text1, corpus)\n",
    "text1_ohe[3] = [1, 0, 0, 0]\n",
    "label = targetOhe(text1_ohe)\n",
    "text2_ohe = oheText(text2, corpus)\n",
    "print(text1_ohe)\n",
    "print(label)\n",
    "print(text2_ohe)"
   ],
   "metadata": {
    "collapsed": false,
    "ExecuteTime": {
     "end_time": "2023-12-11T03:55:44.587929164Z",
     "start_time": "2023-12-11T03:55:44.305123494Z"
    }
   },
   "id": "cc65bb1aeb7ae64c"
  },
  {
   "cell_type": "code",
   "execution_count": 88,
   "outputs": [],
   "source": [
    "text1_ohe = torch.tensor(text1_ohe, dtype=torch.float)\n",
    "text2_ohe = torch.tensor(text2_ohe, dtype=torch.float)\n",
    "label_t = torch.tensor(label, dtype=torch.float)\n",
    "\n",
    "dataLoader = DataLoader(TensorDataset(text1_ohe, label_t))"
   ],
   "metadata": {
    "collapsed": false,
    "ExecuteTime": {
     "end_time": "2023-12-08T05:12:33.261719227Z",
     "start_time": "2023-12-08T05:12:33.110840662Z"
    }
   },
   "id": "46e0b98274d33146"
  },
  {
   "cell_type": "code",
   "execution_count": 89,
   "outputs": [],
   "source": [
    "inputs = torch.randn((3, 4))\n",
    "outputs = torch.randn((3))"
   ],
   "metadata": {
    "collapsed": false,
    "ExecuteTime": {
     "end_time": "2023-12-08T05:12:33.261783756Z",
     "start_time": "2023-12-08T05:12:33.111001441Z"
    }
   },
   "id": "6340e00dd8ff7c86"
  },
  {
   "cell_type": "code",
   "execution_count": 90,
   "outputs": [
    {
     "name": "stdout",
     "output_type": "stream",
     "text": [
      "tensor([[ 1.2981, -0.6459,  0.3563,  2.5723],\n",
      "        [ 1.1400,  1.1437,  0.4122, -0.1871],\n",
      "        [ 1.5006,  0.9110, -0.8630, -0.1002]]) tensor([-0.5009,  0.5422,  0.7554])\n"
     ]
    }
   ],
   "source": [
    "print(inputs, outputs)"
   ],
   "metadata": {
    "collapsed": false,
    "ExecuteTime": {
     "end_time": "2023-12-08T05:12:33.261904786Z",
     "start_time": "2023-12-08T05:12:33.118798424Z"
    }
   },
   "id": "3f42a711ede8a0c3"
  },
  {
   "cell_type": "code",
   "execution_count": 127,
   "outputs": [],
   "source": [
    "class Embed(nn.Module):\n",
    "    def __init__(self):\n",
    "        super(Embed, self).__init__()\n",
    "        \n",
    "        min_value = -.05\n",
    "        max_value = 0.5\n",
    "        \n",
    "        ### input weights of:\n",
    "        ### top hidden layer input\n",
    "        self.input1_w1 = nn.Parameter(Uniform(min_value, max_value).sample())\n",
    "        self.input2_w1 = nn.Parameter(Uniform(min_value, max_value).sample())\n",
    "        self.input3_w1 = nn.Parameter(Uniform(min_value, max_value).sample())\n",
    "        self.input4_w1 = nn.Parameter(Uniform(min_value, max_value).sample())\n",
    "        \n",
    "        ### bottom hidden layer input\n",
    "        self.input1_w2 = nn.Parameter(Uniform(min_value, max_value).sample())\n",
    "        self.input2_w2 = nn.Parameter(Uniform(min_value, max_value).sample())\n",
    "        self.input3_w2 = nn.Parameter(Uniform(min_value, max_value).sample())\n",
    "        self.input4_w2 = nn.Parameter(Uniform(min_value, max_value).sample())\n",
    "       \n",
    "        ### output weights : Top layer output\n",
    "        self.output1_w1 = nn.Parameter(Uniform(min_value, max_value).sample())\n",
    "        self.output2_w1 = nn.Parameter(Uniform(min_value, max_value).sample())\n",
    "        self.output3_w1 = nn.Parameter(Uniform(min_value, max_value).sample())\n",
    "        self.output4_w1 = nn.Parameter(Uniform(min_value, max_value).sample())\n",
    "        \n",
    "        ### output weights : bottom layer output\n",
    "        self.output1_w2 = nn.Parameter(Uniform(min_value, max_value).sample())\n",
    "        self.output2_w2 = nn.Parameter(Uniform(min_value, max_value).sample())\n",
    "        self.output3_w2 = nn.Parameter(Uniform(min_value, max_value).sample())\n",
    "        self.output4_w2 = nn.Parameter(Uniform(min_value, max_value).sample())\n",
    "        \n",
    "        ### softmax\n",
    "        self.softmax = nn.Softmax()\n",
    "        \n",
    "    def forward(self, inp):\n",
    "        inp = inp[0]\n",
    "        \n",
    "        inp_to_top_hidden = ((inp[0]*self.input1_w1)+\n",
    "                             (inp[1]*self.input2_w1)+\n",
    "                             (inp[2]*self.input3_w1)+\n",
    "                             (inp[3]*self.input4_w1))\n",
    "        \n",
    "        inp_to_bottom_hidden = ((inp[0]*self.input1_w2)+\n",
    "                                 (inp[1]*self.input2_w2)+\n",
    "                                 (inp[2]*self.input3_w2)+\n",
    "                                 (inp[3]*self.input4_w2))\n",
    "        \n",
    "        output1 = ((inp_to_top_hidden*self.output1_w1)+\n",
    "                   (inp_to_bottom_hidden*self.output1_w2))\n",
    "\n",
    "        output2 = ((inp_to_top_hidden*self.output2_w1)+\n",
    "                   (inp_to_bottom_hidden*self.output2_w2))\n",
    "\n",
    "        output3 = ((inp_to_top_hidden*self.output3_w1)+\n",
    "                   (inp_to_bottom_hidden*self.output3_w2))\n",
    "\n",
    "        output4 = ((inp_to_top_hidden*self.output4_w1)+\n",
    "                   (inp_to_bottom_hidden*self.output4_w2))\n",
    "        \n",
    "        output_preSoftMax = torch.stack([output1, output2, output3, output4])\n",
    "        \n",
    "        \n",
    "        return output_preSoftMax\n",
    "    \n"
   ],
   "metadata": {
    "collapsed": false,
    "ExecuteTime": {
     "end_time": "2023-12-08T13:18:39.412651107Z",
     "start_time": "2023-12-08T13:18:39.396824095Z"
    }
   },
   "id": "7102eb14306b078d"
  },
  {
   "cell_type": "code",
   "execution_count": 128,
   "outputs": [],
   "source": [
    "import re\n",
    "\n",
    "embed = Embed().to('cuda')\n",
    "loss_fn = nn.CrossEntropyLoss()\n",
    "optim = optimz.Adam(embed.parameters(), lr=0.01)\n",
    "\n",
    "### w1 = top activation, w2 = bottom activation\n",
    "data = {\n",
    "    'w1': [],\n",
    "    'w2': [],\n",
    "    'word': corpus,\n",
    "    'input': []\n",
    "}"
   ],
   "metadata": {
    "collapsed": false,
    "ExecuteTime": {
     "end_time": "2023-12-08T13:18:40.047245719Z",
     "start_time": "2023-12-08T13:18:40.044102337Z"
    }
   },
   "id": "1509b59b54cc9ccc"
  },
  {
   "cell_type": "code",
   "execution_count": 129,
   "outputs": [],
   "source": [
    "i = 1\n",
    "for name, param in embed.named_parameters():\n",
    "    if i <= 4:\n",
    "        data['input'].append('input' + str(i))\n",
    "        i += 1 \n",
    "    if re.match(r'.*(output).*', name):\n",
    "        continue\n",
    "    \n",
    "    if re.match(r'^(input).*(w1)', name):\n",
    "        data['w1'].append(param.data.item())\n",
    "    else:\n",
    "        data['w2'].append(param.data.item())"
   ],
   "metadata": {
    "collapsed": false,
    "ExecuteTime": {
     "end_time": "2023-12-08T13:18:40.543862267Z",
     "start_time": "2023-12-08T13:18:40.539182733Z"
    }
   },
   "id": "55e90e90bf188011"
  },
  {
   "cell_type": "code",
   "execution_count": 130,
   "outputs": [
    {
     "data": {
      "text/plain": "<Axes: xlabel='w1', ylabel='w2'>"
     },
     "execution_count": 130,
     "metadata": {},
     "output_type": "execute_result"
    },
    {
     "data": {
      "text/plain": "<Figure size 640x480 with 1 Axes>",
      "image/png": "[encoded data removed]"
     },
     "metadata": {},
     "output_type": "display_data"
    }
   ],
   "source": [
    "df = pd.DataFrame(data)\n",
    "sns.scatterplot(data=df, x=df['w1'], y=df['w2'], hue='word')"
   ],
   "metadata": {
    "collapsed": false,
    "ExecuteTime": {
     "end_time": "2023-12-08T13:18:41.173673515Z",
     "start_time": "2023-12-08T13:18:40.986592482Z"
    }
   },
   "id": "230c083faa474ec1"
  },
  {
   "cell_type": "code",
   "execution_count": 131,
   "outputs": [
    {
     "name": "stdout",
     "output_type": "stream",
     "text": [
      "[tensor([[0., 0., 0., 1.]]), tensor([[0., 0., 1., 0.]])]\n"
     ]
    }
   ],
   "source": [
    "print(next(iter(dataLoader)))"
   ],
   "metadata": {
    "collapsed": false,
    "ExecuteTime": {
     "end_time": "2023-12-08T13:18:43.410152987Z",
     "start_time": "2023-12-08T13:18:43.386839326Z"
    }
   },
   "id": "bc57a72c9862f6"
  },
  {
   "cell_type": "code",
   "execution_count": 132,
   "outputs": [
    {
     "name": "stdout",
     "output_type": "stream",
     "text": [
      "loss: 1.390894  [    0/    4]\n",
      "loss: 1.322371  [    1/    4]\n",
      "loss: 1.362848  [    2/    4]\n",
      "loss: 1.420796  [    3/    4]\n",
      "loss: 1.379899  [    0/    4]\n",
      "loss: 1.300694  [    1/    4]\n",
      "loss: 1.345172  [    2/    4]\n",
      "loss: 1.411333  [    3/    4]\n",
      "loss: 1.370380  [    0/    4]\n",
      "loss: 1.283361  [    1/    4]\n",
      "loss: 1.327948  [    2/    4]\n",
      "loss: 1.400724  [    3/    4]\n",
      "loss: 1.360076  [    0/    4]\n",
      "loss: 1.265833  [    1/    4]\n",
      "loss: 1.310890  [    2/    4]\n",
      "loss: 1.389179  [    3/    4]\n",
      "loss: 1.348691  [    0/    4]\n",
      "loss: 1.247326  [    1/    4]\n",
      "loss: 1.293803  [    2/    4]\n",
      "loss: 1.376648  [    3/    4]\n",
      "loss: 1.335984  [    0/    4]\n",
      "loss: 1.227582  [    1/    4]\n",
      "loss: 1.276308  [    2/    4]\n",
      "loss: 1.362984  [    3/    4]\n",
      "loss: 1.321722  [    0/    4]\n",
      "loss: 1.206521  [    1/    4]\n",
      "loss: 1.257966  [    2/    4]\n",
      "loss: 1.347995  [    3/    4]\n",
      "loss: 1.305682  [    0/    4]\n",
      "loss: 1.184159  [    1/    4]\n",
      "loss: 1.238485  [    2/    4]\n",
      "loss: 1.331470  [    3/    4]\n",
      "loss: 1.287657  [    0/    4]\n",
      "loss: 1.160596  [    1/    4]\n",
      "loss: 1.217782  [    2/    4]\n",
      "loss: 1.313197  [    3/    4]\n",
      "loss: 1.267465  [    0/    4]\n",
      "loss: 1.135998  [    1/    4]\n",
      "loss: 1.195927  [    2/    4]\n",
      "loss: 1.292977  [    3/    4]\n",
      "loss: 1.244959  [    0/    4]\n",
      "loss: 1.110585  [    1/    4]\n",
      "loss: 1.173077  [    2/    4]\n",
      "loss: 1.270635  [    3/    4]\n",
      "loss: 1.220028  [    0/    4]\n",
      "loss: 1.084621  [    1/    4]\n",
      "loss: 1.149451  [    2/    4]\n",
      "loss: 1.246028  [    3/    4]\n",
      "loss: 1.192602  [    0/    4]\n",
      "loss: 1.058401  [    1/    4]\n",
      "loss: 1.125304  [    2/    4]\n",
      "loss: 1.219049  [    3/    4]\n",
      "loss: 1.162651  [    0/    4]\n",
      "loss: 1.032238  [    1/    4]\n",
      "loss: 1.100918  [    2/    4]\n",
      "loss: 1.189630  [    3/    4]\n",
      "loss: 1.130188  [    0/    4]\n",
      "loss: 1.006447  [    1/    4]\n",
      "loss: 1.076582  [    2/    4]\n",
      "loss: 1.157747  [    3/    4]\n",
      "loss: 1.095265  [    0/    4]\n",
      "loss: 0.981335  [    1/    4]\n",
      "loss: 1.052578  [    2/    4]\n",
      "loss: 1.123421  [    3/    4]\n",
      "loss: 1.057977  [    0/    4]\n",
      "loss: 0.957183  [    1/    4]\n",
      "loss: 1.029165  [    2/    4]\n",
      "loss: 1.086718  [    3/    4]\n",
      "loss: 1.018458  [    0/    4]\n",
      "loss: 0.934236  [    1/    4]\n",
      "loss: 1.006569  [    2/    4]\n",
      "loss: 1.047750  [    3/    4]\n",
      "loss: 0.976883  [    0/    4]\n",
      "loss: 0.912692  [    1/    4]\n",
      "loss: 0.984968  [    2/    4]\n",
      "loss: 1.006678  [    3/    4]\n",
      "loss: 0.933472  [    0/    4]\n",
      "loss: 0.892697  [    1/    4]\n",
      "loss: 0.964491  [    2/    4]\n",
      "loss: 0.963706  [    3/    4]\n",
      "loss: 0.888481  [    0/    4]\n",
      "loss: 0.874338  [    1/    4]\n",
      "loss: 0.945215  [    2/    4]\n",
      "loss: 0.919085  [    3/    4]\n",
      "loss: 0.842210  [    0/    4]\n",
      "loss: 0.857644  [    1/    4]\n",
      "loss: 0.927166  [    2/    4]\n",
      "loss: 0.873109  [    3/    4]\n",
      "loss: 0.794998  [    0/    4]\n",
      "loss: 0.842592  [    1/    4]\n",
      "loss: 0.910326  [    2/    4]\n",
      "loss: 0.826112  [    3/    4]\n",
      "loss: 0.747216  [    0/    4]\n",
      "loss: 0.829109  [    1/    4]\n",
      "loss: 0.894641  [    2/    4]\n",
      "loss: 0.778466  [    3/    4]\n",
      "loss: 0.699267  [    0/    4]\n",
      "loss: 0.817079  [    1/    4]\n",
      "loss: 0.880030  [    2/    4]\n",
      "loss: 0.730569  [    3/    4]\n",
      "loss: 0.651574  [    0/    4]\n",
      "loss: 0.806356  [    1/    4]\n",
      "loss: 0.866391  [    2/    4]\n",
      "loss: 0.682843  [    3/    4]\n",
      "loss: 0.604569  [    0/    4]\n",
      "loss: 0.796769  [    1/    4]\n",
      "loss: 0.853611  [    2/    4]\n",
      "loss: 0.635715  [    3/    4]\n",
      "loss: 0.558680  [    0/    4]\n",
      "loss: 0.788130  [    1/    4]\n",
      "loss: 0.841569  [    2/    4]\n",
      "loss: 0.589611  [    3/    4]\n",
      "loss: 0.514313  [    0/    4]\n",
      "loss: 0.780246  [    1/    4]\n",
      "loss: 0.830140  [    2/    4]\n",
      "loss: 0.544931  [    3/    4]\n",
      "loss: 0.471837  [    0/    4]\n",
      "loss: 0.772923  [    1/    4]\n",
      "loss: 0.819196  [    2/    4]\n",
      "loss: 0.502041  [    3/    4]\n",
      "loss: 0.431566  [    0/    4]\n",
      "loss: 0.765971  [    1/    4]\n",
      "loss: 0.808609  [    2/    4]\n",
      "loss: 0.461257  [    3/    4]\n",
      "loss: 0.393749  [    0/    4]\n",
      "loss: 0.759209  [    1/    4]\n",
      "loss: 0.798250  [    2/    4]\n",
      "loss: 0.422828  [    3/    4]\n",
      "loss: 0.358562  [    0/    4]\n",
      "loss: 0.752468  [    1/    4]\n",
      "loss: 0.787990  [    2/    4]\n",
      "loss: 0.386934  [    3/    4]\n",
      "loss: 0.326102  [    0/    4]\n",
      "loss: 0.745591  [    1/    4]\n",
      "loss: 0.777700  [    2/    4]\n",
      "loss: 0.353683  [    3/    4]\n",
      "loss: 0.296395  [    0/    4]\n",
      "loss: 0.738439  [    1/    4]\n",
      "loss: 0.767249  [    2/    4]\n",
      "loss: 0.323109  [    3/    4]\n",
      "loss: 0.269397  [    0/    4]\n",
      "loss: 0.730884  [    1/    4]\n",
      "loss: 0.756513  [    2/    4]\n",
      "loss: 0.295184  [    3/    4]\n",
      "loss: 0.245011  [    0/    4]\n",
      "loss: 0.722813  [    1/    4]\n",
      "loss: 0.745366  [    2/    4]\n",
      "loss: 0.269825  [    3/    4]\n",
      "loss: 0.223095  [    0/    4]\n",
      "loss: 0.714128  [    1/    4]\n",
      "loss: 0.733691  [    2/    4]\n",
      "loss: 0.246906  [    3/    4]\n",
      "loss: 0.203478  [    0/    4]\n",
      "loss: 0.704745  [    1/    4]\n",
      "loss: 0.721376  [    2/    4]\n",
      "loss: 0.226271  [    3/    4]\n",
      "loss: 0.185971  [    0/    4]\n",
      "loss: 0.694590  [    1/    4]\n",
      "loss: 0.708319  [    2/    4]\n",
      "loss: 0.207746  [    3/    4]\n",
      "loss: 0.170380  [    0/    4]\n",
      "loss: 0.683603  [    1/    4]\n",
      "loss: 0.694431  [    2/    4]\n",
      "loss: 0.191148  [    3/    4]\n",
      "loss: 0.156510  [    0/    4]\n",
      "loss: 0.671739  [    1/    4]\n",
      "loss: 0.679634  [    2/    4]\n",
      "loss: 0.176293  [    3/    4]\n",
      "loss: 0.144174  [    0/    4]\n",
      "loss: 0.658961  [    1/    4]\n",
      "loss: 0.663869  [    2/    4]\n",
      "loss: 0.163003  [    3/    4]\n",
      "loss: 0.133199  [    0/    4]\n",
      "loss: 0.645250  [    1/    4]\n",
      "loss: 0.647094  [    2/    4]\n",
      "loss: 0.151110  [    3/    4]\n",
      "loss: 0.123424  [    0/    4]\n",
      "loss: 0.630598  [    1/    4]\n",
      "loss: 0.629292  [    2/    4]\n",
      "loss: 0.140456  [    3/    4]\n",
      "loss: 0.114704  [    0/    4]\n",
      "loss: 0.615015  [    1/    4]\n",
      "loss: 0.610466  [    2/    4]\n",
      "loss: 0.130901  [    3/    4]\n",
      "loss: 0.106909  [    0/    4]\n",
      "loss: 0.598525  [    1/    4]\n",
      "loss: 0.590647  [    2/    4]\n",
      "loss: 0.122315  [    3/    4]\n",
      "loss: 0.099924  [    0/    4]\n",
      "loss: 0.581173  [    1/    4]\n",
      "loss: 0.569892  [    2/    4]\n",
      "loss: 0.114585  [    3/    4]\n",
      "loss: 0.093650  [    0/    4]\n",
      "loss: 0.563017  [    1/    4]\n",
      "loss: 0.548285  [    2/    4]\n",
      "loss: 0.107608  [    3/    4]\n",
      "loss: 0.087997  [    0/    4]\n",
      "loss: 0.544138  [    1/    4]\n",
      "loss: 0.525936  [    2/    4]\n",
      "loss: 0.101295  [    3/    4]\n",
      "loss: 0.082889  [    0/    4]\n",
      "loss: 0.524630  [    1/    4]\n",
      "loss: 0.502982  [    2/    4]\n",
      "loss: 0.095568  [    3/    4]\n",
      "loss: 0.078259  [    0/    4]\n",
      "loss: 0.504607  [    1/    4]\n",
      "loss: 0.479578  [    2/    4]\n",
      "loss: 0.090358  [    3/    4]\n",
      "loss: 0.074048  [    0/    4]\n",
      "loss: 0.484192  [    1/    4]\n",
      "loss: 0.455899  [    2/    4]\n",
      "loss: 0.085605  [    3/    4]\n",
      "loss: 0.070207  [    0/    4]\n",
      "loss: 0.463525  [    1/    4]\n",
      "loss: 0.432128  [    2/    4]\n",
      "loss: 0.081256  [    3/    4]\n",
      "loss: 0.066692  [    0/    4]\n",
      "loss: 0.442747  [    1/    4]\n",
      "loss: 0.408457  [    2/    4]\n",
      "loss: 0.077265  [    3/    4]\n",
      "loss: 0.063465  [    0/    4]\n",
      "loss: 0.422004  [    1/    4]\n",
      "loss: 0.385072  [    2/    4]\n",
      "loss: 0.073593  [    3/    4]\n",
      "loss: 0.060493  [    0/    4]\n",
      "loss: 0.401441  [    1/    4]\n",
      "loss: 0.362153  [    2/    4]\n",
      "loss: 0.070204  [    3/    4]\n",
      "loss: 0.057748  [    0/    4]\n",
      "loss: 0.381195  [    1/    4]\n",
      "loss: 0.339864  [    2/    4]\n",
      "loss: 0.067068  [    3/    4]\n",
      "loss: 0.055205  [    0/    4]\n",
      "loss: 0.361394  [    1/    4]\n",
      "loss: 0.318351  [    2/    4]\n",
      "loss: 0.064158  [    3/    4]\n",
      "loss: 0.052841  [    0/    4]\n",
      "loss: 0.342151  [    1/    4]\n",
      "loss: 0.297734  [    2/    4]\n",
      "loss: 0.061450  [    3/    4]\n",
      "loss: 0.050639  [    0/    4]\n",
      "loss: 0.323562  [    1/    4]\n",
      "loss: 0.278108  [    2/    4]\n",
      "loss: 0.058924  [    3/    4]\n",
      "loss: 0.048582  [    0/    4]\n",
      "loss: 0.305706  [    1/    4]\n",
      "loss: 0.259539  [    2/    4]\n",
      "loss: 0.056562  [    3/    4]\n",
      "loss: 0.046655  [    0/    4]\n",
      "loss: 0.288643  [    1/    4]\n",
      "loss: 0.242069  [    2/    4]\n",
      "loss: 0.054349  [    3/    4]\n",
      "loss: 0.044846  [    0/    4]\n",
      "loss: 0.272413  [    1/    4]\n",
      "loss: 0.225715  [    2/    4]\n",
      "loss: 0.052270  [    3/    4]\n",
      "loss: 0.043144  [    0/    4]\n",
      "loss: 0.257041  [    1/    4]\n",
      "loss: 0.210472  [    2/    4]\n",
      "loss: 0.050312  [    3/    4]\n",
      "loss: 0.041540  [    0/    4]\n",
      "loss: 0.242535  [    1/    4]\n",
      "loss: 0.196319  [    2/    4]\n",
      "loss: 0.048466  [    3/    4]\n",
      "loss: 0.040024  [    0/    4]\n",
      "loss: 0.228889  [    1/    4]\n",
      "loss: 0.183219  [    2/    4]\n",
      "loss: 0.046722  [    3/    4]\n",
      "loss: 0.038590  [    0/    4]\n",
      "loss: 0.216086  [    1/    4]\n",
      "loss: 0.171123  [    2/    4]\n",
      "loss: 0.045071  [    3/    4]\n",
      "loss: 0.037231  [    0/    4]\n",
      "loss: 0.204102  [    1/    4]\n",
      "loss: 0.159977  [    2/    4]\n",
      "loss: 0.043506  [    3/    4]\n",
      "loss: 0.035941  [    0/    4]\n",
      "loss: 0.192902  [    1/    4]\n",
      "loss: 0.149721  [    2/    4]\n",
      "loss: 0.042021  [    3/    4]\n",
      "loss: 0.034715  [    0/    4]\n",
      "loss: 0.182450  [    1/    4]\n",
      "loss: 0.140293  [    2/    4]\n",
      "loss: 0.040610  [    3/    4]\n",
      "loss: 0.033548  [    0/    4]\n",
      "loss: 0.172706  [    1/    4]\n",
      "loss: 0.131631  [    2/    4]\n",
      "loss: 0.039266  [    3/    4]\n",
      "loss: 0.032437  [    0/    4]\n",
      "loss: 0.163627  [    1/    4]\n",
      "loss: 0.123674  [    2/    4]\n",
      "loss: 0.037987  [    3/    4]\n",
      "loss: 0.031378  [    0/    4]\n",
      "loss: 0.155172  [    1/    4]\n",
      "loss: 0.116363  [    2/    4]\n",
      "loss: 0.036767  [    3/    4]\n",
      "loss: 0.030368  [    0/    4]\n",
      "loss: 0.147297  [    1/    4]\n",
      "loss: 0.109642  [    2/    4]\n",
      "loss: 0.035603  [    3/    4]\n",
      "loss: 0.029403  [    0/    4]\n",
      "loss: 0.139962  [    1/    4]\n",
      "loss: 0.103461  [    2/    4]\n",
      "loss: 0.034491  [    3/    4]\n",
      "loss: 0.028481  [    0/    4]\n",
      "loss: 0.133128  [    1/    4]\n",
      "loss: 0.097770  [    2/    4]\n",
      "loss: 0.033428  [    3/    4]\n",
      "loss: 0.027599  [    0/    4]\n",
      "loss: 0.126757  [    1/    4]\n",
      "loss: 0.092525  [    2/    4]\n",
      "loss: 0.032411  [    3/    4]\n",
      "loss: 0.026755  [    0/    4]\n",
      "loss: 0.120815  [    1/    4]\n",
      "loss: 0.087686  [    2/    4]\n",
      "loss: 0.031438  [    3/    4]\n",
      "loss: 0.025948  [    0/    4]\n",
      "loss: 0.115268  [    1/    4]\n",
      "loss: 0.083215  [    2/    4]\n",
      "loss: 0.030507  [    3/    4]\n",
      "loss: 0.025174  [    0/    4]\n",
      "loss: 0.110086  [    1/    4]\n",
      "loss: 0.079080  [    2/    4]\n",
      "loss: 0.029614  [    3/    4]\n",
      "loss: 0.024433  [    0/    4]\n",
      "loss: 0.105241  [    1/    4]\n",
      "loss: 0.075249  [    2/    4]\n",
      "loss: 0.028758  [    3/    4]\n",
      "loss: 0.023722  [    0/    4]\n",
      "loss: 0.100707  [    1/    4]\n",
      "loss: 0.071694  [    2/    4]\n",
      "loss: 0.027937  [    3/    4]\n",
      "loss: 0.023041  [    0/    4]\n",
      "loss: 0.096459  [    1/    4]\n",
      "loss: 0.068392  [    2/    4]\n",
      "loss: 0.027150  [    3/    4]\n",
      "loss: 0.022386  [    0/    4]\n",
      "loss: 0.092475  [    1/    4]\n",
      "loss: 0.065320  [    2/    4]\n",
      "loss: 0.026394  [    3/    4]\n",
      "loss: 0.021759  [    0/    4]\n",
      "loss: 0.088736  [    1/    4]\n",
      "loss: 0.062458  [    2/    4]\n",
      "loss: 0.025668  [    3/    4]\n",
      "loss: 0.021156  [    0/    4]\n",
      "loss: 0.085222  [    1/    4]\n",
      "loss: 0.059787  [    2/    4]\n",
      "loss: 0.024970  [    3/    4]\n",
      "loss: 0.020577  [    0/    4]\n",
      "loss: 0.081916  [    1/    4]\n",
      "loss: 0.057291  [    2/    4]\n",
      "loss: 0.024300  [    3/    4]\n",
      "loss: 0.020020  [    0/    4]\n",
      "loss: 0.078803  [    1/    4]\n",
      "loss: 0.054956  [    2/    4]\n",
      "loss: 0.023655  [    3/    4]\n",
      "loss: 0.019485  [    0/    4]\n",
      "loss: 0.075868  [    1/    4]\n",
      "loss: 0.052767  [    2/    4]\n",
      "loss: 0.023035  [    3/    4]\n",
      "loss: 0.018970  [    0/    4]\n",
      "loss: 0.073099  [    1/    4]\n",
      "loss: 0.050714  [    2/    4]\n",
      "loss: 0.022438  [    3/    4]\n",
      "loss: 0.018475  [    0/    4]\n",
      "loss: 0.070483  [    1/    4]\n",
      "loss: 0.048785  [    2/    4]\n",
      "loss: 0.021863  [    3/    4]\n",
      "loss: 0.017998  [    0/    4]\n",
      "loss: 0.068010  [    1/    4]\n",
      "loss: 0.046971  [    2/    4]\n",
      "loss: 0.021310  [    3/    4]\n",
      "loss: 0.017540  [    0/    4]\n",
      "loss: 0.065669  [    1/    4]\n",
      "loss: 0.045262  [    2/    4]\n",
      "loss: 0.020776  [    3/    4]\n",
      "loss: 0.017098  [    0/    4]\n",
      "loss: 0.063451  [    1/    4]\n",
      "loss: 0.043651  [    2/    4]\n",
      "loss: 0.020263  [    3/    4]\n",
      "loss: 0.016672  [    0/    4]\n",
      "loss: 0.061349  [    1/    4]\n",
      "loss: 0.042130  [    2/    4]\n",
      "loss: 0.019767  [    3/    4]\n",
      "loss: 0.016261  [    0/    4]\n",
      "loss: 0.059353  [    1/    4]\n",
      "loss: 0.040692  [    2/    4]\n",
      "loss: 0.019290  [    3/    4]\n",
      "loss: 0.015866  [    0/    4]\n",
      "loss: 0.057457  [    1/    4]\n",
      "loss: 0.039331  [    2/    4]\n",
      "loss: 0.018829  [    3/    4]\n",
      "loss: 0.015484  [    0/    4]\n",
      "loss: 0.055654  [    1/    4]\n",
      "loss: 0.038043  [    2/    4]\n",
      "loss: 0.018384  [    3/    4]\n",
      "loss: 0.015115  [    0/    4]\n",
      "loss: 0.053938  [    1/    4]\n",
      "loss: 0.036821  [    2/    4]\n",
      "loss: 0.017954  [    3/    4]\n"
     ]
    }
   ],
   "source": [
    "epochs = 100\n",
    "\n",
    "size = len(dataLoader.dataset)\n",
    "embed.train()\n",
    "for epoch in range(epochs):\n",
    "    for i, batch in enumerate(dataLoader):\n",
    "        optim.zero_grad()\n",
    "        input_i, label_i = batch\n",
    "        input_i, label_i = input_i.to('cuda'), label_i.to('cuda')\n",
    "        \n",
    "        out_i = embed(input_i)\n",
    "        loss = loss_fn(out_i, label_i[0])\n",
    "        \n",
    "        loss.backward()\n",
    "        optim.step()\n",
    "\n",
    "        loss, current = loss.item(), i\n",
    "        print(f\"loss: {loss:>7f}  [{current:>5d}/{size:>5d}]\")\n"
   ],
   "metadata": {
    "collapsed": false,
    "ExecuteTime": {
     "end_time": "2023-12-08T13:18:45.623575746Z",
     "start_time": "2023-12-08T13:18:44.698997692Z"
    }
   },
   "id": "d0da8b32a2df0abc"
  },
  {
   "cell_type": "code",
   "execution_count": 133,
   "outputs": [
    {
     "data": {
      "text/plain": "<Axes: xlabel='w1', ylabel='w2'>"
     },
     "execution_count": 133,
     "metadata": {},
     "output_type": "execute_result"
    },
    {
     "data": {
      "text/plain": "<Figure size 640x480 with 1 Axes>",
      "image/png": "[encoded data removed]"
     },
     "metadata": {},
     "output_type": "display_data"
    }
   ],
   "source": [
    "i = 1\n",
    "data = {\n",
    "    'w1': [],\n",
    "    'w2': [],\n",
    "    'word': corpus,\n",
    "    'input': []\n",
    "}\n",
    "for name, param in embed.named_parameters():\n",
    "    if i <= 4:\n",
    "        data['input'].append('input' + str(i))\n",
    "        i += 1\n",
    "    if re.match(r'.*(output).*', name):\n",
    "        continue\n",
    "\n",
    "    if re.match(r'^(input).*(w1)', name):\n",
    "        data['w1'].append(param.data.item())\n",
    "    else:\n",
    "        data['w2'].append(param.data.item())\n",
    "df = pd.DataFrame(data)\n",
    "sns.scatterplot(data=df, x=df['w1'], y=df['w2'], hue='word')"
   ],
   "metadata": {
    "collapsed": false,
    "ExecuteTime": {
     "end_time": "2023-12-08T13:18:50.110958452Z",
     "start_time": "2023-12-08T13:18:49.875629886Z"
    }
   },
   "id": "33ba902a7a3b1da6"
  },
  {
   "cell_type": "code",
   "execution_count": 201,
   "outputs": [],
   "source": [
    "corpus_map = {i:t for i, t in enumerate(corpus)}"
   ],
   "metadata": {
    "collapsed": false,
    "ExecuteTime": {
     "end_time": "2023-12-08T13:55:14.833113690Z",
     "start_time": "2023-12-08T13:55:14.769500658Z"
    }
   },
   "id": "53855a4b3e2ee7d1"
  },
  {
   "cell_type": "code",
   "execution_count": 202,
   "outputs": [
    {
     "name": "stdout",
     "output_type": "stream",
     "text": [
      "{0: 'Gymkata', 1: 'great!', 2: 'is', 3: 'Troll2'}\n"
     ]
    }
   ],
   "source": [
    "print(corpus_map)"
   ],
   "metadata": {
    "collapsed": false,
    "ExecuteTime": {
     "end_time": "2023-12-08T13:55:15.024545952Z",
     "start_time": "2023-12-08T13:55:14.995651575Z"
    }
   },
   "id": "f99d07d6f9d082a3"
  },
  {
   "cell_type": "code",
   "execution_count": 211,
   "outputs": [],
   "source": [
    "def predict(text):\n",
    "    softmax = nn.Softmax()\n",
    "    text_ohe = oheText(text, corpus)\n",
    "    loader = DataLoader(text_ohe, batch_size=1, shuffle=False)\n",
    "    embed.eval()\n",
    "    print(text_ohe)\n",
    "    pred_text = ''\n",
    "    with torch.no_grad():\n",
    "        for i , batch in enumerate(loader):\n",
    "            tensr = batch.to('cuda')\n",
    "            #pred = embed(torch.tensor([[1, 0, 0, 0]]))\n",
    "            pred = embed(tensr)\n",
    "            print(softmax(pred))\n",
    "            pred_text += corpus_map[pred.argmax(0).item()] + ' '\n",
    "    \n",
    "    print(pred_text)\n",
    "        "
   ],
   "metadata": {
    "collapsed": false,
    "ExecuteTime": {
     "end_time": "2023-12-08T13:58:24.491826630Z",
     "start_time": "2023-12-08T13:58:24.452131754Z"
    }
   },
   "id": "e53b6d7b74cca44d"
  },
  {
   "cell_type": "code",
   "execution_count": 212,
   "outputs": [
    {
     "name": "stdout",
     "output_type": "stream",
     "text": [
      "tensor([[1., 0., 0., 0.],\n",
      "        [0., 0., 1., 0.],\n",
      "        [0., 1., 0., 0.],\n",
      "        [1., 0., 0., 0.]])\n",
      "tensor([2.4029e-03, 6.4391e-04, 9.8232e-01, 1.4633e-02], device='cuda:0')\n",
      "tensor([2.4852e-02, 9.4873e-01, 1.8694e-04, 2.6233e-02], device='cuda:0')\n",
      "tensor([0.9645, 0.0196, 0.0055, 0.0104], device='cuda:0')\n",
      "tensor([2.4029e-03, 6.4391e-04, 9.8232e-01, 1.4633e-02], device='cuda:0')\n",
      "is great! Gymkata is \n"
     ]
    }
   ],
   "source": [
    "predict(text2)"
   ],
   "metadata": {
    "collapsed": false,
    "ExecuteTime": {
     "end_time": "2023-12-08T13:58:24.661691653Z",
     "start_time": "2023-12-08T13:58:24.641915974Z"
    }
   },
   "id": "aea413f274451d9d"
  },
  {
   "cell_type": "code",
   "execution_count": 176,
   "outputs": [
    {
     "name": "stdout",
     "output_type": "stream",
     "text": [
      "Gymkata is great!\n",
      "['Gymkata', 'great!', 'is', 'Troll2']\n"
     ]
    }
   ],
   "source": [
    "print(text2)\n",
    "print(corpus)"
   ],
   "metadata": {
    "collapsed": false,
    "ExecuteTime": {
     "end_time": "2023-12-08T13:33:01.722665175Z",
     "start_time": "2023-12-08T13:33:01.700250968Z"
    }
   },
   "id": "45f4995f3511230b"
  },
  {
   "cell_type": "code",
   "execution_count": null,
   "outputs": [],
   "source": [],
   "metadata": {
    "collapsed": false
   },
   "id": "9390fa676915c900"
  }
 ],
 "metadata": {
  "kernelspec": {
   "display_name": "Python 3",
   "language": "python",
   "name": "python3"
  },
  "language_info": {
   "codemirror_mode": {
    "name": "ipython",
    "version": 2
   },
   "file_extension": ".py",
   "mimetype": "text/x-python",
   "name": "python",
   "nbconvert_exporter": "python",
   "pygments_lexer": "ipython2",
   "version": "2.7.6"
  }
 },
 "nbformat": 4,
 "nbformat_minor": 5
}
