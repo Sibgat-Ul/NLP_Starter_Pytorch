{
 "cells": [
  {
   "cell_type": "code",
   "execution_count": null,
   "id": "initial_id",
   "metadata": {
    "collapsed": true
   },
   "outputs": [],
   "source": [
    "import pandas as pd\n",
    "import numpy as np\n",
    "import matplotlib.pyplot as plt\n",
    "import seaborn as sns\n",
    "import warnings\n",
    "import math\n",
    "warnings.filterwarnings('ignore')"
   ]
  },
  {
   "cell_type": "code",
   "execution_count": null,
   "outputs": [],
   "source": [
    "path = '../dsets/liverD/'\n",
    "train = pd.read_csv(path+'train.csv', index_col='id')\n",
    "og = pd.read_csv(path+'cirrhosis.csv', index_col='ID')"
   ],
   "metadata": {
    "collapsed": false
   },
   "id": "a648eb759d32b"
  },
  {
   "cell_type": "code",
   "execution_count": null,
   "outputs": [],
   "source": [
    "test = pd.read_csv(path+'test.csv', index_col='id')"
   ],
   "metadata": {
    "collapsed": false
   },
   "id": "1434842f11cb6884"
  },
  {
   "cell_type": "code",
   "execution_count": null,
   "outputs": [],
   "source": [
    "og.dropna(axis=0, inplace=True)"
   ],
   "metadata": {
    "collapsed": false
   },
   "id": "f3732d766318cb4b"
  },
  {
   "cell_type": "code",
   "execution_count": null,
   "outputs": [],
   "source": [
    "from sklearn.preprocessing import StandardScaler, RobustScaler, QuantileTransformer\n",
    "\n",
    "def get_cols(df):\n",
    "    num_cols = []\n",
    "    cat_cols = []\n",
    "\n",
    "    for col in df.columns:\n",
    "        if df[col].dtypes in ['int64', 'float']:\n",
    "            num_cols.append(col)\n",
    "        else:\n",
    "            cat_cols.append(col)\n",
    "    \n",
    "    return num_cols, cat_cols\n",
    "\n",
    "def normalize(df, cols:list):\n",
    "    qt = StandardScaler()\n",
    "    print(df.head(5))\n",
    "    new_data = qt.fit_transform(df[cols])\n",
    "    new_data = pd.DataFrame(new_data)\n",
    "    new_data.columns = df[cols].columns\n",
    "    df[cols] = new_data[cols]\n",
    "    print(df[cols].head(5))\n",
    "\n",
    "def hist_plot(df, df_1, df_2=None, cols=None, cols_1=None, cols_2=None):\n",
    "    print(cols)\n",
    "    cols_n0 =len(cols)\n",
    "    cols_n1 = len(cols_1)\n",
    "    cols_n2 = len(cols_2) if cols_2 is not None else 0\n",
    "    print(cols_n0, cols_n1)\n",
    "    cols_n = cols_n0+cols_n1+cols_n2\n",
    "    c = 6 if cols_n2 != 0 else 2\n",
    "    r = math.floor(cols_n/c)\n",
    "    r = 1 if r == 0 else r\n",
    "    print(cols_n, r, c)\n",
    "    plt.subplots(nrows=r, ncols=c, figsize=(20, cols_n), sharey='row')\n",
    "    plt.subplots_adjust(hspace=0.5)\n",
    "    #plot.set_xticklabels(plot.get_xticklabels(), rotation=45)\n",
    "\n",
    "    i = 0\n",
    "\n",
    "    for col in cols:\n",
    "        plt.subplot(r, c, i+1)\n",
    "        plot = sns.histplot(df, x=col)\n",
    "        plot.set_title('Train')\n",
    "        i+=1\n",
    "        plt.subplot(r, c, i+1)\n",
    "        plot2 = sns.histplot(df_1, x=col)\n",
    "        plot2.set_title('OG')\n",
    "        i+=1\n",
    "        plt.subplot(r, c, i+1)\n",
    "        plot3 = sns.histplot(df_2, x=col)\n",
    "        plot3.set_title('Test')\n",
    "        i+=1\n",
    "        \n",
    "def count_plot(df, df_1, df_2=None, cols=None, cols_1=None, cols_2=None):\n",
    "    cols_n0 =len(cols)\n",
    "    cols_n1 = len(cols_1) \n",
    "    cols_n2 = len(cols_2) if cols_2 is not None else 0\n",
    "    print(cols_n0, cols_n1)\n",
    "    cols_n = cols_n0+cols_n1+cols_n2\n",
    "    c = 6 if cols_n2 != 0 else 2\n",
    "    r = math.floor(cols_n/c)\n",
    "    r = 1 if r == 0 else r\n",
    "    print(cols_n, r, c)\n",
    "    plt.subplots(nrows=r, ncols=c, figsize=(17, cols_n), sharey='row')\n",
    "    plt.subplots_adjust(hspace=0.5)\n",
    "    #plot.set_xticklabels(plot.get_xticklabels(), rotation=45)\n",
    "    \n",
    "    i = 0\n",
    "    \n",
    "    for col in cols:\n",
    "        if col == 'Status' and df_2 is not None:\n",
    "            continue\n",
    "        plt.subplot(r, c, i+1)\n",
    "        plot = sns.countplot(df, x=col)\n",
    "        plot.set_title('Train')\n",
    "        i+=1\n",
    "        plt.subplot(r, c, i+1)\n",
    "        plot2 = sns.countplot(df_1, x=col)\n",
    "        plot2.set_title('OG')\n",
    "        i+=1\n",
    "        if df_2 is None:\n",
    "            continue\n",
    "        plt.subplot(r, c, i+1)\n",
    "        plot3 = sns.countplot(df_2, x=col)\n",
    "        plot3.set_title('Test')\n",
    "        i+=1"
   ],
   "metadata": {
    "collapsed": false
   },
   "id": "1ba4b042a7321d5d"
  },
  {
   "cell_type": "code",
   "execution_count": null,
   "outputs": [],
   "source": [
    "num_train, cat_train = get_cols(train)\n",
    "num_og, cat_og = get_cols(og)\n",
    "num_test, cat_test = get_cols(test)"
   ],
   "metadata": {
    "collapsed": false
   },
   "id": "af85e016ffa1de1b"
  },
  {
   "cell_type": "code",
   "execution_count": null,
   "outputs": [],
   "source": [
    "test"
   ],
   "metadata": {
    "collapsed": false
   },
   "id": "362363891475b377"
  },
  {
   "cell_type": "code",
   "execution_count": null,
   "outputs": [],
   "source": [
    "to_one_hot = ['Sex','Drug', 'Edema']\n",
    "to_label = ['Spiders', 'Hepatomegaly', 'Ascites']"
   ],
   "metadata": {
    "collapsed": false
   },
   "id": "9521ab4a35cf5b76"
  },
  {
   "cell_type": "code",
   "execution_count": null,
   "outputs": [],
   "source": [
    "from sklearn.preprocessing import LabelEncoder\n",
    "\n",
    "def one_hot(df, cols):\n",
    "    # label_encoder(df, cols)\n",
    "    df = pd.get_dummies(df, columns=cols)\n",
    "    return df\n",
    "\n",
    "def label_encoder(df, cols):\n",
    "    le = LabelEncoder()\n",
    "    for col in cols:\n",
    "        df[col] = le.fit_transform(df[col])"
   ],
   "metadata": {
    "collapsed": false
   },
   "id": "b80f0fd0bf1e3448"
  },
  {
   "cell_type": "code",
   "execution_count": null,
   "outputs": [],
   "source": [
    "#count_plot(train, og, test, cat_train, cat_og, cat_test)"
   ],
   "metadata": {
    "collapsed": false
   },
   "id": "526af73fde863194"
  },
  {
   "cell_type": "code",
   "execution_count": null,
   "outputs": [],
   "source": [
    "#count_plot(train, og, cols=['Status'], cols_1=['Status'])"
   ],
   "metadata": {
    "collapsed": false
   },
   "id": "1a45c71ab24689a7"
  },
  {
   "cell_type": "code",
   "execution_count": null,
   "outputs": [],
   "source": [
    "#hist_plot(train, og, test, num_train, num_og, num_test)"
   ],
   "metadata": {
    "collapsed": false
   },
   "id": "480b1dfec2e328db"
  },
  {
   "cell_type": "code",
   "execution_count": null,
   "outputs": [],
   "source": [
    "X = train.drop(['Status'], axis=1)\n",
    "y = train['Status']\n",
    "y = y.map({'D':0, 'C':1, 'CL':2})\n",
    "\n",
    "X_eval = og.drop('Status', axis=1)\n",
    "y_eval = og['Status']\n",
    "y_eval = y_eval.map({'D':0, 'C':1, 'CL':2})"
   ],
   "metadata": {
    "collapsed": false
   },
   "id": "db80c8f54b3e7741"
  },
  {
   "cell_type": "code",
   "execution_count": null,
   "outputs": [],
   "source": [
    "qt = StandardScaler()\n",
    "fitted_data = qt.fit(X[num_train])\n",
    "print(fitted_data)\n",
    "new_data = qt.transform(X[num_train])\n",
    "new_data = pd.DataFrame(new_data)\n",
    "new_data.columns = X[num_train].columns\n",
    "X[num_train] = new_data[num_train]\n",
    "\n",
    "# normalize(X, num_train)\n",
    "# normalize(X_eval, num_train)\n",
    "# normalize(test, num_test)"
   ],
   "metadata": {
    "collapsed": false
   },
   "id": "d30c9df7c1fcd4cb"
  },
  {
   "cell_type": "code",
   "execution_count": null,
   "outputs": [],
   "source": [
    "new_data = qt.transform(X_eval[num_train])\n",
    "new_data = pd.DataFrame(new_data)\n",
    "new_data.columns = X_eval[num_train].columns\n",
    "X_eval[num_train] = new_data[num_train]"
   ],
   "metadata": {
    "collapsed": false
   },
   "id": "fb973dc141745710"
  },
  {
   "cell_type": "code",
   "execution_count": null,
   "outputs": [],
   "source": [
    "test = test.reset_index()\n",
    "new_data = qt.transform(test[num_train])\n",
    "new_data = pd.DataFrame(new_data)\n",
    "new_data.columns = test[num_train].columns\n",
    "test[num_train] = new_data[num_train]"
   ],
   "metadata": {
    "collapsed": false
   },
   "id": "844654f4446b6f2c"
  },
  {
   "cell_type": "code",
   "execution_count": null,
   "outputs": [],
   "source": [
    "test.index = test.id\n",
    "test.drop('id', inplace=True, axis=1)"
   ],
   "metadata": {
    "collapsed": false
   },
   "id": "30a42d444ae6d883"
  },
  {
   "cell_type": "code",
   "execution_count": null,
   "outputs": [],
   "source": [
    "#hist_plot(X, X_eval, test, num_train, num_og, num_test)"
   ],
   "metadata": {
    "collapsed": false
   },
   "id": "aa6ed1e95344936a"
  },
  {
   "cell_type": "code",
   "execution_count": null,
   "outputs": [],
   "source": [
    "# X = one_hot(X, to_one_hot)\n",
    "# X_eval = one_hot(X_eval, to_one_hot)\n",
    "# test = one_hot(test, to_one_hot)"
   ],
   "metadata": {
    "collapsed": false
   },
   "id": "924f59d13b978f12"
  },
  {
   "cell_type": "code",
   "execution_count": null,
   "outputs": [],
   "source": [
    "label_encoder(X, to_label)\n",
    "label_encoder(X_eval, to_label)\n",
    "label_encoder(test, to_label)"
   ],
   "metadata": {
    "collapsed": false
   },
   "id": "30b2f122f3f06478"
  },
  {
   "cell_type": "code",
   "execution_count": null,
   "outputs": [],
   "source": [
    "corr = X[num_train].corr()\n",
    "plt.figure(figsize=(16, 16))\n",
    "sns.heatmap(corr, annot=True, fmt='.2f', linewidths=.5, annot_kws={\"size\": 10})"
   ],
   "metadata": {
    "collapsed": false
   },
   "id": "c1c9c5b39a641a98"
  },
  {
   "cell_type": "code",
   "execution_count": null,
   "outputs": [],
   "source": [
    "from xgboost import XGBClassifier\n",
    "from catboost import CatBoostClassifier\n",
    "from sklearn.neighbors import KNeighborsClassifier\n",
    "\n",
    "xgb = XGBClassifier(objective='multi:softmax', enable_categorical=True, learning_rate=0.01)\n",
    "ctb = CatBoostClassifier()\n",
    "knc = KNeighborsClassifier()"
   ],
   "metadata": {
    "collapsed": false
   },
   "id": "ebbfe0f2b589fc7"
  },
  {
   "cell_type": "code",
   "execution_count": null,
   "outputs": [],
   "source": [
    "# from sklearn.metrics import log_loss\n",
    "# \n",
    "# his = xgb.fit(X, y)\n",
    "# y_xgb = xgb.predict_proba(X_eval)\n",
    "# \n",
    "# y_eval_ohe = pd.get_dummies(y_eval)\n",
    "# loss = log_loss(y_eval_ohe, y_xgb)\n",
    "# \n",
    "# y_pred = xgb.predict_proba(test)\n",
    "# y_pred"
   ],
   "metadata": {
    "collapsed": false
   },
   "id": "cd3c9335e122f04f"
  },
  {
   "cell_type": "code",
   "execution_count": null,
   "outputs": [],
   "source": [
    "# sample_submission = pd.read_csv(path + 'sample_submission.csv', index_col='id')\n",
    "# sample_submission"
   ],
   "metadata": {
    "collapsed": false
   },
   "id": "a5e145f56e77f8eb"
  },
  {
   "cell_type": "code",
   "execution_count": null,
   "outputs": [],
   "source": [
    "# submission = sample_submission.copy()\n",
    "# submission['Status_D'] = y_pred[:, [0]]\n",
    "# submission['Status_C'] = y_pred[:, [1]]\n",
    "# submission['Status_CL'] = y_pred[:, [2]]\n",
    "# submission.to_csv('./sub1.csv')"
   ],
   "metadata": {
    "collapsed": false
   },
   "id": "ecdb9bd65ab47aac"
  },
  {
   "cell_type": "code",
   "execution_count": null,
   "outputs": [],
   "source": [
    "#clipping\n",
    "\n",
    "def data_preprocess(dataset=None, if_test=None):\n",
    "    df = dataset.copy()\n",
    "    df[\"Drug\"] = df[\"Drug\"].map({\"Placebo\": 0, \"D-penicillamine\": 1})\n",
    "    df[\"Sex\"] = df[\"Sex\"].map({\"M\": 0, \"F\": 1})\n",
    "    df['Edema'] = df['Edema'].map({\"N\":0, \"Y\":1, \"S\":2})\n",
    "\n",
    "    #df = pd.get_dummies(df, columns=['Edema'], drop_first=True)\n",
    "\n",
    "    for col in [\"Ascites\", \"Hepatomegaly\", \"Spiders\"]:\n",
    "        df[col] = df[col].map({\"N\": 0, \"Y\": 1})\n",
    "    if not if_test:\n",
    "        df['Status'] = df['Status'].map({\"D\": 0, \"CL\": 1, \"C\": 2})\n",
    "    return df\n",
    "\n",
    "def features_engineering(dataset=None):\n",
    "    df = dataset.copy()\n",
    "    df['date_of_diagnosis'] = df['Age'] - df['N_Days']\n",
    "    df['diseases'] = df['Ascites'] + df['Hepatomegaly'] + df['Spiders'] + df['Edema']\n",
    "    df['Albumin_Level'] = np.where(df['Albumin'] < 3.4, 1, np.where(df['Albumin'] > 5.4, 2, 0))\n",
    "    df['Copper_Risk'] = np.where(df['Copper'] > 140, 1, 0)\n",
    "    df['Platelets_Normal'] = np.where((df['Platelets'] >= 150_000) & (df['Platelets'] <= 450_000),0,1)\n",
    "\n",
    "    return df"
   ],
   "metadata": {
    "collapsed": false
   },
   "id": "46cca4c843f8ce7e"
  },
  {
   "cell_type": "code",
   "execution_count": null,
   "outputs": [],
   "source": [
    "train = data_preprocess(train, False)\n",
    "val = data_preprocess(og, False)\n",
    "test = data_preprocess(test, True)"
   ],
   "metadata": {
    "collapsed": false
   },
   "id": "7e8a7ca400c3c15a"
  },
  {
   "cell_type": "code",
   "execution_count": null,
   "outputs": [],
   "source": [
    "train = features_engineering(train)\n",
    "val = features_engineering(val)\n",
    "test = features_engineering(test)"
   ],
   "metadata": {
    "collapsed": false
   },
   "id": "bfad4a744ad5adf6"
  },
  {
   "cell_type": "code",
   "execution_count": null,
   "outputs": [],
   "source": [
    "from lightgbm import LGBMClassifier\n",
    "from sklearn.ensemble import RandomForestClassifier, HistGradientBoostingClassifier\n",
    "from catboost import CatBoostClassifier\n",
    "from sklearn.linear_model import LogisticRegression\n",
    "from xgboost import XGBClassifier\n",
    "\n",
    "baseline_models = {\n",
    "    'LGBM': LGBMClassifier(),\n",
    "    'Logistic Regression': LogisticRegression(multi_class = 'ovr'),\n",
    "    'XGBoost': XGBClassifier(),\n",
    "    'Random Forest': RandomForestClassifier(),\n",
    "    'Hist': HistGradientBoostingClassifier(),\n",
    "    'Catboost': CatBoostClassifier(loss_function = 'MultiClass')\n",
    "}\n",
    "\n",
    "loss_results = pd.DataFrame(columns=['Model', 'Loss'])"
   ],
   "metadata": {
    "collapsed": false
   },
   "id": "827a01c1b5857d23"
  },
  {
   "cell_type": "code",
   "execution_count": null,
   "outputs": [],
   "source": [
    "from sklearn.preprocessing import PowerTransformer\n",
    "from sklearn.model_selection import cross_val_score\n",
    "from sklearn.pipeline import make_pipeline\n",
    "\n",
    "def evaluation(skf=None,model=None,scoring=None,data=None,target=None,model_name=None):\n",
    "    X = data.drop(target,axis=1)\n",
    "    Y = data[target]\n",
    "\n",
    "    global loss_results\n",
    "    score = cross_val_score(model,X, Y, scoring = scoring,cv = skf, n_jobs = 10, )\n",
    "    cv_score = score.mean()*-1\n",
    "    new_row = {'Model': model_name, 'Loss': cv_score}\n",
    "    loss_results = pd.concat([loss_results, pd.DataFrame([new_row])], ignore_index=True)\n",
    "\n",
    "    print(model_name)\n",
    "    print(f\"Loss:{cv_score:.4f}\")\n",
    "    print('====================================')\n",
    "\n",
    "def plot_evaluation(dataset=None):\n",
    "    plt.figure(figsize = (10,6))\n",
    "    bars = plt.barh(y=dataset['Model'],width=dataset['Loss'],color='#82B0D2')\n",
    "    plt.xlabel('Log_loss')\n",
    "    plt.title('Model Performance based on Log Loss')\n",
    "    plt.gca().invert_yaxis()\n",
    "    for bar in bars:\n",
    "        yval = bar.get_y() + bar.get_height() / 2\n",
    "        xval = bar.get_width()\n",
    "        plt.text(xval, yval, round(xval, 4), va='center', ha='left', color='black')\n",
    "\n",
    "    plt.show()"
   ],
   "metadata": {
    "collapsed": false
   },
   "id": "6667332192f5a6c8"
  },
  {
   "cell_type": "code",
   "execution_count": null,
   "outputs": [],
   "source": [
    "from sklearn.model_selection import RepeatedStratifiedKFold\n",
    "\n",
    "target = 'Status'\n",
    "rskf = RepeatedStratifiedKFold(n_splits=5, n_repeats=5, random_state=42)\n",
    "\n",
    "for model_name, base_model in baseline_models.items():\n",
    "    evaluation(skf=rskf, model=base_model,scoring='neg_log_loss',data=train,target=target,model_name=model_name)"
   ],
   "metadata": {
    "collapsed": false
   },
   "id": "6b281e379ec3c578"
  },
  {
   "cell_type": "code",
   "execution_count": null,
   "outputs": [],
   "source": [
    "train_total = pd.concat([train, val], axis='rows', ignore_index=True).reset_index()\n",
    "train_total.drop_duplicates(inplace=True)\n",
    "train_total.drop('index', axis=1, inplace=True)"
   ],
   "metadata": {
    "collapsed": false
   },
   "id": "24c47cb933cbeecb"
  },
  {
   "cell_type": "code",
   "execution_count": null,
   "outputs": [],
   "source": [
    "y = train_total['Status']\n",
    "X = train_total.drop('Status', axis=1)"
   ],
   "metadata": {
    "collapsed": false
   },
   "id": "7735478c8844657"
  },
  {
   "cell_type": "code",
   "execution_count": null,
   "outputs": [],
   "source": [
    "#evaluation(skf=rskf, model=CatBoostClassifier(loss_function='MultiClass'),scoring='neg_log_loss',data=train_total,target=target,model_name='Catboost+FE+Origin Data')"
   ],
   "metadata": {
    "collapsed": false
   },
   "id": "199e950f0dab09b6"
  },
  {
   "cell_type": "code",
   "execution_count": null,
   "outputs": [],
   "source": [
    "from sklearn.metrics import log_loss\n",
    "\n",
    "n_splits = 5\n",
    "n_repeats = 3"
   ],
   "metadata": {
    "collapsed": false
   },
   "id": "31dd7a695c324944"
  },
  {
   "cell_type": "code",
   "execution_count": null,
   "outputs": [],
   "source": [
    "from catboost import CatBoostClassifier\n",
    "\n",
    "patience = 100\n",
    "model_cb = []\n",
    "pred_cb = []\n",
    "\n",
    "k_fold = RepeatedStratifiedKFold(n_splits=n_splits, n_repeats=n_repeats, random_state=42)\n",
    "\n",
    "cbr_param = {\n",
    "    'iterations': 470,\n",
    "    'depth': 16,\n",
    "    'learning_rate': 0.1,\n",
    "    'l2_leaf_reg': 4,\n",
    "    'max_bin': 238,\n",
    "    'od_wait': 49,\n",
    "    'one_hot_max_size': 39,\n",
    "    'min_data_in_leaf': 11,\n",
    "    'grow_policy': 'Lossguide',\n",
    "    'bootstrap_type': 'Bernoulli',\n",
    "    'task_type': 'GPU',\n",
    "    'devices': '0'\n",
    "}\n",
    "\n",
    "for i, (train_index, test_index) in enumerate(k_fold.split(X, y)):\n",
    "    X_train, y_train = X.iloc[train_index], y.iloc[train_index]\n",
    "    X_valid, y_valid = X.iloc[test_index], y.iloc[test_index]\n",
    "    \n",
    "    model_c = CatBoostClassifier(**cbr_param)\n",
    "    \n",
    "    model_c.fit(X=X_train, y=y_train, eval_set=[(X_valid, y_valid)], early_stopping_rounds = patience)\n",
    "    \n",
    "    model_cb.append(model_c)\n",
    "    pred_cb.append(model_c.predict_proba(test))\n",
    "    print(f'index: {i}')"
   ],
   "metadata": {
    "collapsed": false
   },
   "id": "570bdac778572bcd"
  },
  {
   "cell_type": "code",
   "execution_count": null,
   "outputs": [],
   "source": [
    "from xgboost import XGBClassifier\n",
    "\n",
    "k_fold = RepeatedStratifiedKFold(n_splits=n_splits, n_repeats=n_repeats, random_state=42)\n",
    "\n",
    "modelsXB = []\n",
    "predsXB = []\n",
    "\n",
    "xgbr_params ={\n",
    "    'objective': 'multi_logloss',\n",
    "    'device': 'gpu',\n",
    "    'tree_method':'gpu_hist',\n",
    "    'max_depth': 9, 'min_child_weight': 8,\n",
    "    'learning_rate': 0.0337716365315986,\n",
    "    'n_estimators': 733,\n",
    "    'subsample': 0.6927955384688348,\n",
    "    'colsample_bytree': 0.1234702658812108,\n",
    "    'reg_alpha': 0.18561628377665318,\n",
    "    'reg_lambda': 0.5565488299127089,\n",
    "    'random_state': 42\n",
    "}\n",
    "\n",
    "\n",
    "for train_index, test_index in k_fold.split(X, y):\n",
    "    X_train, X_valid = X.iloc[train_index], X.iloc[test_index]\n",
    "    y_train, y_valid = y.iloc[train_index], y.iloc[test_index]\n",
    "\n",
    "    modelx = XGBClassifier(**xgbr_params)\n",
    "\n",
    "    modelx.fit(X=X_train, y=y_train,\n",
    "               eval_set=[(X_valid, y_valid)],\n",
    "               early_stopping_rounds = patience,\n",
    "               verbose = 100\n",
    "               )\n",
    "    modelsXB.append(modelx)\n",
    "    predsXB.append(modelx.predict_proba(test))"
   ],
   "metadata": {
    "collapsed": false
   },
   "id": "f9191358981df3b3"
  },
  {
   "cell_type": "code",
   "execution_count": null,
   "outputs": [],
   "source": [
    "from sklearn.experimental import enable_hist_gradient_boosting\n",
    "from sklearn.ensemble import HistGradientBoostingClassifier\n",
    "\n",
    "k_fold = RepeatedStratifiedKFold(n_splits=n_splits, n_repeats=n_repeats, random_state=42)\n",
    "\n",
    "modelsHGBC = []\n",
    "predsHGBC = []\n",
    "\n",
    "PATIENCE = 50\n",
    "\n",
    "hgbc_params = {\n",
    "    'l2_regularization': 5,\n",
    "    'learning_rate': 0.065,\n",
    "    'max_iter': 300,\n",
    "    'max_depth': 15,\n",
    "    'max_bins': 250,\n",
    "    'min_samples_leaf': 10,\n",
    "    'max_leaf_nodes': 5,\n",
    "    'random_state': 3,\n",
    "}\n",
    "i = 0\n",
    "for train_index, test_index in k_fold.split(X, y):\n",
    "    i += 1\n",
    "    print('repeat: ', i)\n",
    "    X_train, X_valid = X.iloc[train_index], X.iloc[test_index]\n",
    "    y_train, y_valid = y.iloc[train_index], y.iloc[test_index]\n",
    "\n",
    "    modelhgbc = HistGradientBoostingClassifier(**hgbc_params)\n",
    "\n",
    "    modelhgbc.fit(X_train, y_train)\n",
    "    modelsHGBC.append(modelhgbc)\n",
    "    predsHGBC.append(modelhgbc.predict_proba(test))"
   ],
   "metadata": {
    "collapsed": false
   },
   "id": "f3e4ec57febbb56d"
  },
  {
   "cell_type": "code",
   "execution_count": null,
   "outputs": [],
   "source": [
    "from lightgbm import LGBMClassifier\n",
    "\n",
    "k_fold = RepeatedStratifiedKFold(n_splits=n_splits, n_repeats=n_repeats, random_state=42)\n",
    "modelsLB = []\n",
    "pred_lb = []\n",
    "patience = 50\n",
    "\n",
    "lgbr_param = {\n",
    "    'device_type': 'gpu',\n",
    "    'early_stopping_round': 50,\n",
    "    'boosting_type': 'gbdt',\n",
    "    'colsample_bytree': 0.5,\n",
    "    'importance_type': 'gain',\n",
    "    'n_estimators': 800,\n",
    "    'learning_rate': 0.1,\n",
    "    'random_state': 27,\n",
    "    'reg_alpha': 0,\n",
    "    'reg_lambda': 248,\n",
    "    'subsample': 0.8768432946977912\n",
    "}\n",
    "\n",
    "i = 0\n",
    "for train_index, test_index in k_fold.split(X, y):\n",
    "    i += 1\n",
    "    print('repeat: ', i)\n",
    "    X_train, X_valid = X.iloc[train_index], X.iloc[test_index]\n",
    "    y_train, y_valid = y.iloc[train_index], y.iloc[test_index]\n",
    "\n",
    "    modelgb = LGBMClassifier(**lgbr_param)\n",
    "\n",
    "    modelgb.fit(X=X_train, y=y_train,\n",
    "                eval_set=[(X_valid, y_valid)],\n",
    "                )\n",
    "    modelsLB.append(modelgb)\n",
    "    pred_lb.append(modelgb.predict_proba(test))"
   ],
   "metadata": {
    "collapsed": false
   },
   "id": "65476ce672a89fe6"
  },
  {
   "cell_type": "code",
   "execution_count": null,
   "outputs": [],
   "source": [
    "df_sub = pd.DataFrame({'Status_C':[], 'Status_CL':[], 'Status_D':[]})"
   ],
   "metadata": {
    "collapsed": false
   },
   "id": "f4d3a45e656fadde"
  },
  {
   "cell_type": "code",
   "execution_count": null,
   "outputs": [],
   "source": [
    "df_sub['Status_C'] = (modelhgbc.predict_proba(test)[:, 0])*0.15 + (modelx.predict_proba(test)[:, 0])*0.45 + (modelgb.predict_proba(test)[:, 0]*0.4)+(model_c.predict_proba(test)[:, 0]*0.001)\n",
    "df_sub['Status_D'] = (modelhgbc.predict_proba(test)[:, 2])*0.15 + (modelx.predict_proba(test)[:, 2])*0.45 + (modelgb.predict_proba(test)[:, 2]*0.4)+(model_c.predict_proba(test)[:, 2]*0.001)\n",
    "df_sub['Status_CL'] = (modelhgbc.predict_proba(test)[:, 1])*0.15 + (modelx.predict_proba(test)[:, 1])*0.45 + (modelgb.predict_proba(test)[:, 1]*0.4)+(model_c.predict_proba(test)[:, 1]*0.001)\n",
    "\n",
    "df_sub.index = pd.read_csv(path+'sample_submission.csv')['id']\n",
    "df_sub\n",
    "# df_sub.to_csv('./sub2.csv')"
   ],
   "metadata": {
    "collapsed": false
   },
   "id": "59debaf32d6d46fb"
  },
  {
   "cell_type": "code",
   "execution_count": null,
   "outputs": [],
   "source": [
    "base_lgb = LGBMClassifier()\n",
    "base_lgb.fit(X,y)\n",
    "base_lgb.get_params()"
   ],
   "metadata": {
    "collapsed": false
   },
   "id": "6c1582a0c81dde37"
  },
  {
   "cell_type": "code",
   "execution_count": null,
   "outputs": [],
   "source": [
    "plot = sns.barplot(x=base_lgb.feature_name_, y=base_lgb.feature_importances_)\n",
    "plot.set_xticklabels(plot.get_xticklabels(), rotation=90)"
   ],
   "metadata": {
    "collapsed": false
   },
   "id": "f780a78babfd3e1f"
  },
  {
   "cell_type": "code",
   "execution_count": null,
   "outputs": [],
   "source": [
    "X.corr()"
   ],
   "metadata": {
    "collapsed": false
   },
   "id": "7c8bbad56c196395"
  },
  {
   "cell_type": "code",
   "execution_count": null,
   "outputs": [],
   "source": [
    "import optuna\n",
    "from sklearn.metrics import log_loss\n",
    "from sklearn.model_selection import train_test_split\n",
    "from optuna import trial"
   ],
   "metadata": {
    "collapsed": false
   },
   "id": "2ac3f17f62f37d00"
  },
  {
   "cell_type": "code",
   "execution_count": null,
   "outputs": [],
   "source": [
    "def objective_lgb(trial, data=X,target=y):\n",
    "    X_train, X_val, y_train, y_val = train_test_split(data, target, test_size=0.2)\n",
    "\n",
    "    params = {'boosting_type': trial.suggest_categorical('boosting_type',['gbdt','dart']),\n",
    "              'colsample_bytree': trial.suggest_categorical('colsample_bytree',[0.3,0.4,0.5,0.6,0.7,0.8,0.9,1.0]),\n",
    "              'importance_type': trial.suggest_categorical('importance_type',['split','gain']),\n",
    "              'n_estimators': trial.suggest_categorical('n_estimators',[10,50,100,250,300,350,400,500,800,1000]),\n",
    "              'learning_rate': trial.suggest_categorical('learning_rate',[0.01,0.02,0.05,0.1,]),\n",
    "              'random_state': trial.suggest_int('random_state',1,45),\n",
    "              'reg_alpha': trial.suggest_int('reg_alpha',0,1000),\n",
    "              'reg_lambda': trial.suggest_int('reg_lambda',0,1000),\n",
    "              'subsample': trial.suggest_float('subsample',0.8,1.0),\n",
    "              'min_child_samples': 20,\n",
    "              'min_child_weight': 0.001,\n",
    "              'num_leaves': 31,\n",
    "              'subsample_for_bin': 200000,\n",
    "              'early_stopping_round': 50,\n",
    "              'subsample_freq': 0,\n",
    "              'max_depth': -1,\n",
    "              'device_type': 'gpu'\n",
    "              }\n",
    "    \n",
    "    modelgb = LGBMClassifier(objective='multiclass', metrics='multi_logloss', **params)\n",
    "    modelgb.fit(X_train, y_train, eval_set=[(X_val, y_val)])\n",
    "    pred = modelgb.predict_proba(X_val)\n",
    "    score = log_loss(y_val, pred, labels=[0, 1, 2])\n",
    "    return score\n",
    "    "
   ],
   "metadata": {
    "collapsed": false
   },
   "id": "2fc2bb696548b9c7"
  },
  {
   "cell_type": "code",
   "execution_count": null,
   "outputs": [],
   "source": [
    "study_lgb = optuna.create_study(direction='minimize')\n",
    "study_lgb.optimize(objective_lgb, n_trials=100)"
   ],
   "metadata": {
    "collapsed": false
   },
   "id": "8ab6f33b688691c1"
  },
  {
   "cell_type": "code",
   "execution_count": null,
   "outputs": [],
   "source": [
    "best_params = study_lgb.best_params\n",
    "best_params['device_type'] = 'GPU'"
   ],
   "metadata": {
    "collapsed": false
   },
   "id": "f5af16da6646fe9d"
  },
  {
   "cell_type": "code",
   "execution_count": null,
   "outputs": [],
   "source": [
    "best_params"
   ],
   "metadata": {
    "collapsed": false
   },
   "id": "6d501de761a8b681"
  },
  {
   "cell_type": "code",
   "execution_count": null,
   "outputs": [],
   "source": [
    "pd.options.mode.chained_assignment = None\n",
    "warnings.filterwarnings('ignore')\n",
    "\n",
    "optuna_lgb = LGBMClassifier(**study_lgb.best_params)\n",
    "rskf = RepeatedStratifiedKFold(n_repeats=3, n_splits=5, random_state=42)\n",
    "evaluation(skf=rskf, model=optuna_lgb, scoring='neg_log_loss', data=train_total, target='Status', model_name='Optuna LGBM')"
   ],
   "metadata": {
    "collapsed": false
   },
   "id": "2e96e835a37feb99"
  },
  {
   "cell_type": "code",
   "execution_count": null,
   "outputs": [],
   "source": [
    "optuna_lgb.fit(X, y)"
   ],
   "metadata": {
    "collapsed": false
   },
   "id": "932f8f165a64c1d7"
  },
  {
   "cell_type": "code",
   "execution_count": null,
   "outputs": [],
   "source": [
    "pred_optuna_lgb = optuna_lgb.predict_proba(test)"
   ],
   "metadata": {
    "collapsed": false
   },
   "id": "3dc1fd69af69a3d5"
  },
  {
   "cell_type": "code",
   "execution_count": null,
   "outputs": [],
   "source": [
    "pred_optuna_lgb"
   ],
   "metadata": {
    "collapsed": false
   },
   "id": "119b805a790accbb"
  },
  {
   "cell_type": "code",
   "execution_count": null,
   "outputs": [],
   "source": [
    "pred_optuna_lgb = pd.DataFrame(pred_optuna_lgb, columns=['D', 'CL', 'C'], index=pd.read_csv(path+'sample_submission.csv')['id'])"
   ],
   "metadata": {
    "collapsed": false
   },
   "id": "191191ec50e386b4"
  },
  {
   "cell_type": "code",
   "execution_count": null,
   "outputs": [],
   "source": [
    "pred_optuna_lgb"
   ],
   "metadata": {
    "collapsed": false
   },
   "id": "2b810dc283995c42"
  },
  {
   "cell_type": "code",
   "execution_count": null,
   "outputs": [],
   "source": [
    "X"
   ],
   "metadata": {
    "collapsed": false
   },
   "id": "2a50b413058eb5a1"
  },
  {
   "cell_type": "code",
   "execution_count": null,
   "outputs": [],
   "source": [
    "train_corr = train.corr()"
   ],
   "metadata": {
    "collapsed": false
   },
   "id": "e29e8c58dbbba746"
  },
  {
   "cell_type": "code",
   "execution_count": null,
   "outputs": [],
   "source": [
    "sns.histplot(train, y='Status')"
   ],
   "metadata": {
    "collapsed": false
   },
   "id": "3dd4930c809e47a8"
  },
  {
   "cell_type": "code",
   "execution_count": null,
   "outputs": [],
   "source": [
    "reverse_dummy = pd.from_dummies(pred_optuna_lgb)\n",
    "sns.histplot(pred_optuna_lgb)"
   ],
   "metadata": {
    "collapsed": false
   },
   "id": "87e10a1651ae48b9"
  },
  {
   "cell_type": "code",
   "execution_count": null,
   "outputs": [],
   "source": [
    "pred_optuna_lgb.rename(columns={'D':0, 'CL':1, 'C':2})\n",
    "pred_optuna_lgb = pred_optuna_lgb.apply(lambda x: x.argmax(0))"
   ],
   "metadata": {
    "collapsed": false
   },
   "id": "52a5c115827bbe4e"
  },
  {
   "cell_type": "code",
   "execution_count": null,
   "outputs": [],
   "source": [
    "pred_optuna_lgb"
   ],
   "metadata": {
    "collapsed": false
   },
   "id": "4ee58c2502c916f8"
  },
  {
   "cell_type": "code",
   "execution_count": null,
   "outputs": [],
   "source": [],
   "metadata": {
    "collapsed": false
   },
   "id": "fd3e057609bd44d1"
  }
 ],
 "metadata": {
  "kernelspec": {
   "display_name": "Python 3",
   "language": "python",
   "name": "python3"
  },
  "language_info": {
   "codemirror_mode": {
    "name": "ipython",
    "version": 2
   },
   "file_extension": ".py",
   "mimetype": "text/x-python",
   "name": "python",
   "nbconvert_exporter": "python",
   "pygments_lexer": "ipython2",
   "version": "2.7.6"
  }
 },
 "nbformat": 4,
 "nbformat_minor": 5
}
